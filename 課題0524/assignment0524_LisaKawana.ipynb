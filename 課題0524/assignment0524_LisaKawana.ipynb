{
  "cells": [
    {
      "cell_type": "markdown",
      "metadata": {
        "id": "u_TSU-30Q0Wl"
      },
      "source": [
        "# 課題0524\n",
        "\n",
        "そのまま課題ファイルで編集しないでください。課題ファイルを複製してから課題を回答してください。"
      ]
    },
    {
      "cell_type": "markdown",
      "metadata": {
        "id": "vSOiMzKbQ0Wt"
      },
      "source": [
        "## 課題 1\n",
        "\n",
        "1から100までの偶数の和を計算してください。"
      ]
    },
    {
      "cell_type": "code",
      "execution_count": null,
      "metadata": {
        "colab": {
          "base_uri": "https://localhost:8080/"
        },
        "id": "ROwcS5nTQ0Wu",
        "outputId": "5fe08fc0-c462-41fe-912b-ddf2ea2d621b"
      },
      "outputs": [
        {
          "output_type": "stream",
          "name": "stdout",
          "text": [
            "2550\n"
          ]
        }
      ],
      "source": [
        "#課題１の解答\n",
        "sum=0\n",
        "for i in range(2,101,2):\n",
        "  sum += i \n",
        "  i+=1\n",
        "print(sum)"
      ]
    },
    {
      "cell_type": "markdown",
      "metadata": {
        "id": "lDplwkN6Q0Wv"
      },
      "source": [
        "## 課題 2\n",
        "\n",
        "変数```guess_me```に$7$、変数```number```に$1$を代入し、```guess_me```と```number```を比較する```while```ループを書いてください。\n",
        "\n",
        "ループは、```number```が```guess_me```よりも小さければ```too low```を表示し、```number```と```guess_me```が等しければ```find it```を表示してループから抜けてください。"
      ]
    },
    {
      "cell_type": "code",
      "execution_count": null,
      "metadata": {
        "colab": {
          "base_uri": "https://localhost:8080/"
        },
        "id": "rKLpwuT9Q0Ww",
        "outputId": "c9d46097-355a-41e8-cc30-8d60bec81416"
      },
      "outputs": [
        {
          "output_type": "stream",
          "name": "stdout",
          "text": [
            "too low\n",
            "too low\n",
            "too low\n",
            "too low\n",
            "too low\n",
            "too low\n",
            "find it\n"
          ]
        }
      ],
      "source": [
        "#課題２の解答\n",
        "guess_me=7\n",
        "number=1\n",
        "\n",
        "while number < guess_me+1:\n",
        "  if number==guess_me:\n",
        "    print(\"find it\")\n",
        "    break;\n",
        "  else:\n",
        "    print(\"too low\")\n",
        "    number+=1\n"
      ]
    },
    {
      "cell_type": "markdown",
      "metadata": {
        "id": "Vviw3thiQ0Wx"
      },
      "source": [
        "## 課題 3"
      ]
    },
    {
      "cell_type": "markdown",
      "metadata": {
        "id": "_-Dg11FMQ0Wx"
      },
      "source": [
        "被除数が100である場合、リストの値を除数とする割り算の結果を順番に計算するプログラムを実装してください。\n",
        "- 計算結果を```print```で表示してください\n",
        "- 計算不可能の場合、ラーメッセージだけを表示してエラーが起きた回数をカウントし、計算を続けてください"
      ]
    },
    {
      "cell_type": "code",
      "source": [
        "#課題３の解答\n",
        "import math\n",
        "s = [1,0,10,-25,-2,50,200]\n",
        "error_count = 0 \n",
        "\n",
        "for k in s:\n",
        "  try:\n",
        "    print(100/k)\n",
        "  except:\n",
        "    print(\"序数が0のため、計算ができません\")\n",
        "    error_count+=1\n",
        "print(\"error_count=\",error_count)"
      ],
      "metadata": {
        "colab": {
          "base_uri": "https://localhost:8080/"
        },
        "id": "RkkmjDHS8BG6",
        "outputId": "7ca0009c-318a-4511-ee3d-1a4781b4c137"
      },
      "execution_count": null,
      "outputs": [
        {
          "output_type": "stream",
          "name": "stdout",
          "text": [
            "100.0\n",
            "序数が0のため、計算ができません\n",
            "10.0\n",
            "-4.0\n",
            "-50.0\n",
            "2.0\n",
            "0.5\n",
            "error_count= 1\n"
          ]
        }
      ]
    }
  ],
  "metadata": {
    "kernelspec": {
      "display_name": "base",
      "language": "python",
      "name": "python3"
    },
    "language_info": {
      "codemirror_mode": {
        "name": "ipython",
        "version": 3
      },
      "file_extension": ".py",
      "mimetype": "text/x-python",
      "name": "python",
      "nbconvert_exporter": "python",
      "pygments_lexer": "ipython3",
      "version": "3.9.7"
    },
    "orig_nbformat": 4,
    "colab": {
      "provenance": []
    }
  },
  "nbformat": 4,
  "nbformat_minor": 0
}