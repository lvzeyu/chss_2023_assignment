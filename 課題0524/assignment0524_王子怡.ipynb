{
 "cells": [
  {
   "attachments": {},
   "cell_type": "markdown",
   "metadata": {},
   "source": [
    "# 課題0524\n",
    "\n",
    "そのまま課題ファイルで編集しないでください。課題ファイルを複製してから課題を回答してください。"
   ]
  },
  {
   "attachments": {},
   "cell_type": "markdown",
   "metadata": {},
   "source": [
    "## 課題 1\n",
    "\n",
    "1から100までの偶数の和を計算してください。"
   ]
  },
  {
   "cell_type": "code",
   "execution_count": 1,
   "metadata": {},
   "outputs": [
    {
     "name": "stdout",
     "output_type": "stream",
     "text": [
      "2550\n"
     ]
    }
   ],
   "source": [
    "# 課題1回答\n",
    "total=0\n",
    "for x in range(1,101):\n",
    "  if x % 2 == 0:\n",
    "     total += x\n",
    "print(total)\n"
   ]
  },
  {
   "attachments": {},
   "cell_type": "markdown",
   "metadata": {},
   "source": [
    "## 課題 2\n",
    "\n",
    "変数```guess_me```に$7$、変数```number```に$1$を代入し、```guess_me```と```number```を比較する```while```ループを書いてください。\n",
    "\n",
    "ループは、```number```が```guess_me```よりも小さければ```too low```を表示し、```number```と```guess_me```が等しければ```find it```を表示してループから抜けてください。"
   ]
  },
  {
   "cell_type": "code",
   "execution_count": 2,
   "metadata": {},
   "outputs": [
    {
     "name": "stdout",
     "output_type": "stream",
     "text": [
      "too low\n",
      "too low\n",
      "too low\n",
      "too low\n",
      "too low\n",
      "too low\n",
      "find it\n"
     ]
    }
   ],
   "source": [
    "## 課題 2\n",
    "guess_me=7\n",
    "number=1\n",
    "while number<=guess_me:\n",
    "  if number < guess_me:\n",
    "   print(\"too low\")\n",
    "  elif number==guess_me:\n",
    "    print(\"find it\")\n",
    "    break\n",
    "  number+=1\n"
   ]
  },
  {
   "attachments": {},
   "cell_type": "markdown",
   "metadata": {},
   "source": [
    "## 課題 3"
   ]
  },
  {
   "attachments": {},
   "cell_type": "markdown",
   "metadata": {},
   "source": [
    "被除数が100である場合、リストの値を除数とする割り算の結果を順番に計算するプログラムを実装してください。\n",
    "- 計算結果を```print```で表示してください\n",
    "- 計算不可能の場合、ラーメッセージだけを表示してエラーが起きた回数をカウントし、計算を続けてください"
   ]
  },
  {
   "cell_type": "code",
   "execution_count": 3,
   "metadata": {},
   "outputs": [
    {
     "name": "stdout",
     "output_type": "stream",
     "text": [
      "100.0\n",
      "error\n",
      "10.0\n",
      "-4.0\n",
      "-50.0\n",
      "2.0\n",
      "0.5\n",
      "number of errors 1\n"
     ]
    }
   ],
   "source": [
    "## 課題 3\n",
    "import math\n",
    "s = [1,0,10,-25,-2,50,200]\n",
    "error_count = 0 \n",
    "import math\n",
    "s = [1,0,10,-25,-2,50,200]\n",
    "error_count = 0 \n",
    "for x in s:\n",
    "    try:\n",
    "         print(100 / x)\n",
    "    except :\n",
    "         print(\"error\")\n",
    "         error_count+=1\n",
    "print(\"number of errors\",error_count)\n"
   ]
  },
  {
   "cell_type": "code",
   "execution_count": null,
   "metadata": {},
   "outputs": [],
   "source": []
  }
 ],
 "metadata": {
  "kernelspec": {
   "display_name": "base",
   "language": "python",
   "name": "python3"
  },
  "language_info": {
   "codemirror_mode": {
    "name": "ipython",
    "version": 3
   },
   "file_extension": ".py",
   "mimetype": "text/x-python",
   "name": "python",
   "nbconvert_exporter": "python",
   "pygments_lexer": "ipython3",
   "version": "3.11.3"
  },
  "orig_nbformat": 4
 },
 "nbformat": 4,
 "nbformat_minor": 2
}
