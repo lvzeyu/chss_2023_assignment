{
 "cells": [
  {
   "attachments": {},
   "cell_type": "markdown",
   "metadata": {},
   "source": [
    "# 課題0524\n",
    "\n",
    "そのまま課題ファイルで編集しないでください。課題ファイルを複製してから課題を回答してください。"
   ]
  },
  {
   "attachments": {},
   "cell_type": "markdown",
   "metadata": {},
   "source": [
    "## 課題 1\n",
    "\n",
    "1から100までの偶数の和を計算してください。"
   ]
  },
  {
   "cell_type": "code",
   "execution_count": 8,
   "metadata": {},
   "outputs": [
    {
     "name": "stdout",
     "output_type": "stream",
     "text": [
      "回答\n",
      "1から100までの偶数の和\n",
      "2550\n"
     ]
    }
   ],
   "source": [
    "# 課題1回答\n",
    "\n",
    "print(\"回答\") #以下に回答を示す。\n",
    "print(\"1から100までの偶数の和\") #以下に、1から100までの偶数の和を出力する。\n",
    "\n",
    "x=0 #変数xに偶数の和を記録してゆく。\n",
    "\n",
    "for i in range(2,101,2): #1から100までの偶数をiとして、\n",
    "    x+=i #iをxに順に加算してゆく。\n",
    "\n",
    "print(x) #xの値を表示する。"
   ]
  },
  {
   "attachments": {},
   "cell_type": "markdown",
   "metadata": {},
   "source": [
    "## 課題 2\n",
    "\n",
    "変数```guess_me```に$7$、変数```number```に$1$を代入し、```guess_me```と```number```を比較する```while```ループを書いてください。\n",
    "\n",
    "ループは、```number```が```guess_me```よりも小さければ```too low```を表示し、```number```と```guess_me```が等しければ```find it```を表示してループから抜けてください。"
   ]
  },
  {
   "cell_type": "code",
   "execution_count": 12,
   "metadata": {},
   "outputs": [
    {
     "name": "stdout",
     "output_type": "stream",
     "text": [
      "回答\n",
      "too low\n"
     ]
    }
   ],
   "source": [
    "## 課題 2\n",
    "\n",
    "print(\"回答\") #以下に回答を示す。\n",
    "\n",
    "guess_me=7 #guess_meに7を代入\n",
    "number=1 #numberに1を代入\n",
    "\n",
    "while number<=guess_me: #number<=guess_meであるとき、以下の処理を行う。\n",
    "    if number<guess_me: #number<guess_meであれば、\n",
    "        print(\"too low\") #too lowを表示して、\n",
    "        break #ループから抜け出す。\n",
    "    else: #そうでないとき、つまりnumber=guess_meであれば、\n",
    "        print(\"find it\") #find itを表示して、\n",
    "        break #ループから抜けだす。"
   ]
  },
  {
   "attachments": {},
   "cell_type": "markdown",
   "metadata": {},
   "source": [
    "## 課題 3"
   ]
  },
  {
   "attachments": {},
   "cell_type": "markdown",
   "metadata": {},
   "source": [
    "被除数が100である場合、リストの値を除数とする割り算の結果を順番に計算するプログラムを実装してください。\n",
    "- 計算結果を```print```で表示してください\n",
    "- 計算不可能の場合、ラーメッセージだけを表示してエラーが起きた回数をカウントし、計算を続けてください"
   ]
  },
  {
   "cell_type": "code",
   "execution_count": 1,
   "metadata": {},
   "outputs": [
    {
     "name": "stdout",
     "output_type": "stream",
     "text": [
      "回答\n",
      "100.0\n",
      "除数0による計算は不可能です\n",
      "10.0\n",
      "-4.0\n",
      "-50.0\n",
      "2.0\n",
      "0.5\n"
     ]
    }
   ],
   "source": [
    "## 課題 3\n",
    "import math\n",
    "s = [1,0,10,-25,-2,50,200]\n",
    "error_count = 0 \n",
    "\n",
    "print(\"回答\") #以下に回答を示す。\n",
    "\n",
    "x=100 #非除数x=100を設定する。\n",
    "\n",
    "for i in s: #s内の数値iに対して、次の処理を順次行う。\n",
    "    try: #実行する処理は、\n",
    "        print(x/i) #「x/iの値をprintする」である。\n",
    "    except: #エラーが発生した場合には、\n",
    "        print(\"除数\"+str(i)+\"による計算は不可能です\") #「除数iによる計算は不可能です」をprintする。"
   ]
  },
  {
   "cell_type": "code",
   "execution_count": null,
   "metadata": {},
   "outputs": [],
   "source": []
  }
 ],
 "metadata": {
  "kernelspec": {
   "display_name": "base",
   "language": "python",
   "name": "python3"
  },
  "language_info": {
   "codemirror_mode": {
    "name": "ipython",
    "version": 3
   },
   "file_extension": ".py",
   "mimetype": "text/x-python",
   "name": "python",
   "nbconvert_exporter": "python",
   "pygments_lexer": "ipython3",
   "version": "3.9.6"
  },
  "orig_nbformat": 4
 },
 "nbformat": 4,
 "nbformat_minor": 2
}
