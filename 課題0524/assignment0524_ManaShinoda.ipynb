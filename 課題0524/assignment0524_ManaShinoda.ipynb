{
  "cells": [
    {
      "cell_type": "markdown",
      "metadata": {
        "id": "OtFVZ8W5cdJv"
      },
      "source": [
        "# 課題0524\n",
        "\n",
        "そのまま課題ファイルで編集しないでください。課題ファイルを複製してから課題を回答してください。"
      ]
    },
    {
      "cell_type": "markdown",
      "metadata": {
        "id": "6OTR-VnhcdJ6"
      },
      "source": [
        "## 課題 1\n",
        "\n",
        "1から100までの偶数の和を計算してください。"
      ]
    },
    {
      "cell_type": "code",
      "execution_count": null,
      "metadata": {
        "colab": {
          "base_uri": "https://localhost:8080/"
        },
        "id": "WH42ceevcdJ7",
        "outputId": "00030c7c-0248-43f6-c0b7-0474fee5a56a"
      },
      "outputs": [
        {
          "output_type": "stream",
          "name": "stdout",
          "text": [
            "2550\n"
          ]
        }
      ],
      "source": [
        "# 課題1回答\n",
        "total = 0\n",
        "for i in range(1, 101):\n",
        "    if i % 2 == 0:\n",
        "        total = total + i\n",
        "print(total)"
      ]
    },
    {
      "cell_type": "markdown",
      "metadata": {
        "id": "YS6ts6HbcdJ-"
      },
      "source": [
        "## 課題 2\n",
        "\n",
        "変数```guess_me```に$7$、変数```number```に$1$を代入し、```guess_me```と```number```を比較する```while```ループを書いてください。\n",
        "\n",
        "ループは、```number```が```guess_me```よりも小さければ```too low```を表示し、```number```と```guess_me```が等しければ```find it```を表示してループから抜けてください。"
      ]
    },
    {
      "cell_type": "code",
      "execution_count": null,
      "metadata": {
        "colab": {
          "base_uri": "https://localhost:8080/"
        },
        "id": "MlxCwCuucdJ_",
        "outputId": "8a924fbc-6c95-4abd-db92-e1d5578746bd"
      },
      "outputs": [
        {
          "output_type": "stream",
          "name": "stdout",
          "text": [
            "too low\n",
            "too low\n",
            "too low\n",
            "too low\n",
            "too low\n",
            "too low\n",
            "find it\n"
          ]
        }
      ],
      "source": [
        "## 課題 2\n",
        "guess_me = 7\n",
        "number = 1\n",
        "\n",
        "while number <= guess_me:\n",
        "    if number < guess_me:\n",
        "        print(\"too low\")\n",
        "    elif number == guess_me:\n",
        "        print(\"find it\")\n",
        "        break\n",
        "    number += 1"
      ]
    },
    {
      "cell_type": "markdown",
      "metadata": {
        "id": "sWPUNo1LcdJ_"
      },
      "source": [
        "## 課題 3"
      ]
    },
    {
      "cell_type": "markdown",
      "metadata": {
        "id": "2loPSIllcdKB"
      },
      "source": [
        "被除数が100である場合、リストの値を除数とする割り算の結果を順番に計算するプログラムを実装してください。\n",
        "- 計算結果を```print```で表示してください\n",
        "- 計算不可能の場合、ラーメッセージだけを表示してエラーが起きた回数をカウントし、計算を続けてください"
      ]
    },
    {
      "cell_type": "code",
      "execution_count": null,
      "metadata": {
        "id": "0p-fkcT9cdKC"
      },
      "outputs": [],
      "source": [
        "## 課題 3\n",
        "import math\n",
        "s = [1,0,10,-25,-2,50,200]\n",
        "error_count = 0 "
      ]
    },
    {
      "cell_type": "code",
      "execution_count": null,
      "metadata": {
        "id": "CqwURZ2dcdKD",
        "outputId": "6ae8548b-879a-4752-92ed-acdab74ecfc8",
        "colab": {
          "base_uri": "https://localhost:8080/"
        }
      },
      "outputs": [
        {
          "output_type": "stream",
          "name": "stdout",
          "text": [
            "100.0\n",
            "Error: Cannot divide by zero\n",
            "10.0\n",
            "-4.0\n",
            "-50.0\n",
            "2.0\n",
            "0.5\n",
            "Error count: 1\n"
          ]
        }
      ],
      "source": [
        "import math\n",
        "s = [1,0,10,-25,-2,50,200]\n",
        "error_count = 0 \n",
        "\n",
        "dividend = 100\n",
        "\n",
        "for divisor in s:\n",
        "    try:\n",
        "        result = dividend / divisor\n",
        "        print(result)\n",
        "    except ZeroDivisionError:\n",
        "        print(\"Error: Cannot divide by zero\")\n",
        "        error_count += 1\n",
        "\n",
        "print(\"Error count:\", error_count)"
      ]
    }
  ],
  "metadata": {
    "kernelspec": {
      "display_name": "base",
      "language": "python",
      "name": "python3"
    },
    "language_info": {
      "codemirror_mode": {
        "name": "ipython",
        "version": 3
      },
      "file_extension": ".py",
      "mimetype": "text/x-python",
      "name": "python",
      "nbconvert_exporter": "python",
      "pygments_lexer": "ipython3",
      "version": "3.9.7"
    },
    "orig_nbformat": 4,
    "colab": {
      "provenance": [],
      "toc_visible": true
    }
  },
  "nbformat": 4,
  "nbformat_minor": 0
}