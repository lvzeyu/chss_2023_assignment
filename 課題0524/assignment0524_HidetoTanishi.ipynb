{
  "cells": [
    {
      "cell_type": "markdown",
      "metadata": {
        "id": "view-in-github",
        "colab_type": "text"
      },
      "source": [
        "<a href=\"https://colab.research.google.com/github/Hideto27/chss_2023_assignment/blob/main/assignment0524_HidetoTanishi.ipynb\" target=\"_parent\"><img src=\"https://colab.research.google.com/assets/colab-badge.svg\" alt=\"Open In Colab\"/></a>"
      ]
    },
    {
      "cell_type": "markdown",
      "metadata": {
        "id": "wbkCczRTsixS"
      },
      "source": [
        "# 課題0524\n",
        "\n",
        "そのまま課題ファイルで編集しないでください。課題ファイルを複製してから課題を回答してください。"
      ]
    },
    {
      "cell_type": "markdown",
      "metadata": {
        "id": "C0NWIscKsixh"
      },
      "source": [
        "## 課題 1\n",
        "\n",
        "1から100までの偶数の和を計算してください。"
      ]
    },
    {
      "cell_type": "code",
      "execution_count": 4,
      "metadata": {
        "colab": {
          "base_uri": "https://localhost:8080/"
        },
        "id": "HKy1BNcVsixj",
        "outputId": "2d3ade93-c262-4eca-b3fe-469b80921e67"
      },
      "outputs": [
        {
          "output_type": "stream",
          "name": "stdout",
          "text": [
            "2550\n"
          ]
        }
      ],
      "source": [
        "syoki = 0\n",
        "for i in range(1,101):\n",
        " if i % 2 == 0:\n",
        "  syoki = syoki + i\n",
        "print(syoki)\n"
      ]
    },
    {
      "cell_type": "markdown",
      "metadata": {
        "id": "7Osz9lihsixp"
      },
      "source": [
        "## 課題 2\n",
        "\n",
        "変数```guess_me```に$7$、変数```number```に$1$を代入し、```guess_me```と```number```を比較する```while```ループを書いてください。\n",
        "\n",
        "ループは、```number```が```guess_me```よりも小さければ```too low```を表示し、```number```と```guess_me```が等しければ```find it```を表示してループから抜けてください。"
      ]
    },
    {
      "cell_type": "code",
      "execution_count": 7,
      "metadata": {
        "colab": {
          "base_uri": "https://localhost:8080/"
        },
        "id": "HBRA3agQsixr",
        "outputId": "e6c82cd5-b689-4677-96c3-cc68a1476a2b"
      },
      "outputs": [
        {
          "output_type": "stream",
          "name": "stdout",
          "text": [
            "too low\n",
            "too low\n",
            "too low\n",
            "too low\n",
            "too low\n",
            "too low\n",
            "find it\n"
          ]
        }
      ],
      "source": [
        "## 課題 2\n",
        "guess_me = 7\n",
        "number = 1\n",
        "while number < guess_me:\n",
        "  print(\"too low\")\n",
        "  number = number + 1\n",
        "else:\n",
        "  print(\"find it\")"
      ]
    },
    {
      "cell_type": "markdown",
      "metadata": {
        "id": "RkuSCdnhsixs"
      },
      "source": [
        "## 課題 3"
      ]
    },
    {
      "cell_type": "markdown",
      "metadata": {
        "id": "UYtDet41sixu"
      },
      "source": [
        "被除数が100である場合、リストの値を除数とする割り算の結果を順番に計算するプログラムを実装してください。\n",
        "- 計算結果を```print```で表示してください\n",
        "- 計算不可能の場合、ラーメッセージだけを表示してエラーが起きた回数をカウントし、計算を続けてください"
      ]
    },
    {
      "cell_type": "code",
      "execution_count": null,
      "metadata": {
        "id": "_VqonlZXsixv"
      },
      "outputs": [],
      "source": [
        "## 課題 3\n",
        "import math\n",
        "s = [1,0,10,-25,-2,50,200]\n",
        "error_count = 0 "
      ]
    },
    {
      "cell_type": "code",
      "execution_count": 1,
      "metadata": {
        "colab": {
          "base_uri": "https://localhost:8080/"
        },
        "id": "ix9WxiSIsixy",
        "outputId": "8e635a0c-e895-4220-bb62-4694ec47f34f"
      },
      "outputs": [
        {
          "output_type": "stream",
          "name": "stdout",
          "text": [
            "100.0\n",
            "エラーが生じたので計算できません\n",
            "10.0\n",
            "-4.0\n",
            "-50.0\n",
            "2.0\n",
            "0.5\n"
          ]
        }
      ],
      "source": [
        "import math\n",
        "s = [1,0,10,-25,-2,50,200]\n",
        "error_count = 0 \n",
        "for i in s:\n",
        "  try:\n",
        "    print(100/i)\n",
        "  except:\n",
        "     print(\"エラーが生じたので計算できません\")\n",
        "     error_count = error_count + 1"
      ]
    }
  ],
  "metadata": {
    "kernelspec": {
      "display_name": "base",
      "language": "python",
      "name": "python3"
    },
    "language_info": {
      "codemirror_mode": {
        "name": "ipython",
        "version": 3
      },
      "file_extension": ".py",
      "mimetype": "text/x-python",
      "name": "python",
      "nbconvert_exporter": "python",
      "pygments_lexer": "ipython3",
      "version": "3.9.7"
    },
    "orig_nbformat": 4,
    "colab": {
      "provenance": [],
      "include_colab_link": true
    }
  },
  "nbformat": 4,
  "nbformat_minor": 0
}