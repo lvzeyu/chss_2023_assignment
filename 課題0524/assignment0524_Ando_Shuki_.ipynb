{
  "cells": [
    {
      "cell_type": "markdown",
      "metadata": {
        "id": "NrhBz-qHMYb1"
      },
      "source": [
        "# 課題0524\n",
        "\n",
        "そのまま課題ファイルで編集しないでください。課題ファイルを複製してから課題を回答してください。"
      ]
    },
    {
      "cell_type": "markdown",
      "metadata": {
        "id": "jL6BHXxoMYb5"
      },
      "source": [
        "## 課題 1\n",
        "\n",
        "1から100までの偶数の和を計算してください。"
      ]
    },
    {
      "cell_type": "code",
      "execution_count": null,
      "metadata": {
        "id": "XJSSvsPHMYb6"
      },
      "outputs": [],
      "source": [
        "# 課題1回答\n",
        "total=0\n",
        "for x in range(2,100,2):\n",
        "        total=total+x\n",
        "        print(x,total)"
      ]
    },
    {
      "cell_type": "markdown",
      "metadata": {
        "id": "oOVQO9-KMYb7"
      },
      "source": [
        "## 課題 2\n",
        "\n",
        "変数```guess_me```に$7$、変数```number```に$1$を代入し、```guess_me```と```number```を比較する```while```ループを書いてください。\n",
        "\n",
        "ループは、```number```が```guess_me```よりも小さければ```too low```を表示し、```number```と```guess_me```が等しければ```find it```を表示してループから抜けてください。"
      ]
    },
    {
      "cell_type": "code",
      "execution_count": null,
      "metadata": {
        "id": "QkGK2vszMYb7"
      },
      "outputs": [],
      "source": [
        "## 課題 2\n",
        "guess_me=7\n",
        "number=1\n",
        "while guess_me>number:\n",
        "    print(\"too low\")\n",
        "    number=number+1\n",
        "    if guess_me==number:\n",
        "        print(\"find it\")\n"
      ]
    },
    {
      "cell_type": "markdown",
      "metadata": {
        "id": "4AZE8jACMYb8"
      },
      "source": [
        "## 課題 3"
      ]
    },
    {
      "cell_type": "markdown",
      "metadata": {
        "id": "tRBbdNM9MYb8"
      },
      "source": [
        "被除数が100である場合、リストの値を除数とする割り算の結果を順番に計算するプログラムを実装してください。\n",
        "- 計算結果を```print```で表示してください\n",
        "- 計算不可能の場合、ラーメッセージだけを表示してエラーが起きた回数をカウントし、計算を続けてください"
      ]
    },
    {
      "cell_type": "code",
      "execution_count": null,
      "metadata": {
        "id": "yZwLMhHbMYb8"
      },
      "outputs": [],
      "source": [
        "## 課題 3\n",
        "import math\n",
        "s = [1,0,10,-25,-2,50,200]\n",
        "error_count = 0 "
      ]
    },
    {
      "cell_type": "code",
      "execution_count": null,
      "metadata": {
        "id": "1qlmm8XiMYb9"
      },
      "outputs": [],
      "source": [
        "import math\n",
        "s=[1,0,10,-25,-2,50,200]\n",
        "error_count=0\n",
        "for i in s:\n",
        "    try:\n",
        "        print(100/i)\n",
        "    except ZeroDivisionError:\n",
        "        print(\"division by zero\")\n",
        "        error_count=error_count+1\n",
        "print(error_count)\n"
      ]
    }
  ],
  "metadata": {
    "kernelspec": {
      "display_name": "base",
      "language": "python",
      "name": "python3"
    },
    "language_info": {
      "codemirror_mode": {
        "name": "ipython",
        "version": 3
      },
      "file_extension": ".py",
      "mimetype": "text/x-python",
      "name": "python",
      "nbconvert_exporter": "python",
      "pygments_lexer": "ipython3",
      "version": "3.9.7"
    },
    "orig_nbformat": 4,
    "colab": {
      "provenance": []
    }
  },
  "nbformat": 4,
  "nbformat_minor": 0
}