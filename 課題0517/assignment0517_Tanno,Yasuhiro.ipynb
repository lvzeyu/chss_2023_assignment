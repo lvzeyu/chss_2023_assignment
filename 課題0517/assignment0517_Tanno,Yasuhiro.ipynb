{
 "cells": [
  {
   "attachments": {},
   "cell_type": "markdown",
   "metadata": {},
   "source": [
    "# 課題1\n",
    "\n",
    "与えられたリスト内重複な値を削除してください。"
   ]
  },
  {
   "cell_type": "code",
   "execution_count": 49,
   "metadata": {},
   "outputs": [
    {
     "name": "stdout",
     "output_type": "stream",
     "text": [
      "回答\n",
      "[0, 1, 2, 3, 4, 5, 6, 7, 8, 9, 10, 18, 57]\n"
     ]
    }
   ],
   "source": [
    "numbers = [1, 2, 3, 2, 4, 3, 5, 4, 6, 57, 57, 6, 18, 7, 9, 8, 10, 9, 0, 0, 10]\n",
    "\n",
    "print(\"回答\") #以下に回答を示す\n",
    "\n",
    "x=set(numbers) #numbersをsetに変換し、重複する値を削除\n",
    "print(list(x)) #xをlistに変換しprint"
   ]
  },
  {
   "attachments": {},
   "cell_type": "markdown",
   "metadata": {},
   "source": [
    "# 課題2\n",
    "\n",
    "与えられたリスト内の指定した値を検索し、値の出現回数を```print```してください。見つからない場合は```Not Exists```を```print```してください。\n",
    "\n",
    "```value_0```と```value_１```を実行した結果を確認してください。"
   ]
  },
  {
   "cell_type": "code",
   "execution_count": 50,
   "metadata": {},
   "outputs": [
    {
     "name": "stdout",
     "output_type": "stream",
     "text": [
      "回答\n",
      "value_0の出現回数\n",
      "2\n",
      "value_1の出現回数\n",
      "Not Exists\n"
     ]
    }
   ],
   "source": [
    "numbers = [1, 2, 3, 2, 4, 3, 5, 4, 6, 57, 57, 6, 18, 7, 9, 8, 10, 9, 0, 0, 10]\n",
    "value_0= 0\n",
    "value_1= 100\n",
    "\n",
    "print(\"回答\") #以下に回答を示す\n",
    "\n",
    "print(\"value_0の出現回数\") #以下にvalue_0の出現回数をprintする\n",
    "if numbers.count(value_0)==0: #もしvalue_0の出現回数が0であれば、\n",
    "    print(\"Not Exists\") #Not Existをprintする\n",
    "else: #そうでなければ、\n",
    "    print(numbers.count(value_0)) #value_oの出現回数をprintする。以下同様\n",
    "\n",
    "print(\"value_1の出現回数\")\n",
    "if numbers.count(value_1)==0:\n",
    "    print(\"Not Exists\")\n",
    "else:\n",
    "    print(numbers.count(value_1))"
   ]
  },
  {
   "attachments": {},
   "cell_type": "markdown",
   "metadata": {},
   "source": [
    "# 課題3\n",
    "\n",
    "与えられた辞書内の指定したに一致するキーを検索し、そのキーに対応する値を```print```してください。見つからない場合は```Not Exists```を```print```してください。\n",
    "\n",
    "```value_0```と```value_１```を実行した結果を確認してください。"
   ]
  },
  {
   "cell_type": "code",
   "execution_count": 39,
   "metadata": {},
   "outputs": [
    {
     "name": "stdout",
     "output_type": "stream",
     "text": [
      "value_0に対応する値\n",
      "1902\n",
      "value_1に対応する値\n",
      "Not Exists\n"
     ]
    }
   ],
   "source": [
    "birth={'Marx': 1818,\n",
    "       'Weber': 1864,\n",
    "       'Durkheim': 1858,\n",
    "       'Parsons': 1902,\n",
    "       'Merton': 1911}\n",
    "\n",
    "value_0= \"Parsons\"\n",
    "value_1= \"Giddens\"\n",
    "\n",
    "print(\"回答\") #以下に回答を示す\n",
    "\n",
    "print(\"value_0に対応する値\") #以下にvalue_0に対応する値を出力する\n",
    "if value_0 in birth: #もしvalue_0がbirthに含まれれば、\n",
    "    print(birth[value_0]) #value_0に対応する値を出力する\n",
    "else: #もしvalue_0がbirthに含まれなければ、\n",
    "    print(\"Not Exists\") #Not Existsを出力する。以下同様\n",
    "\n",
    "print(\"value_1に対応する値\")\n",
    "if value_1 in birth:\n",
    "    print(birth[value_1])\n",
    "else:\n",
    "    print(\"Not Exists\")"
   ]
  },
  {
   "attachments": {},
   "cell_type": "markdown",
   "metadata": {},
   "source": [
    "# 課題4\n",
    "\n",
    "与えられた辞書の値を新しいリストに格納し、降順にソートしてください。"
   ]
  },
  {
   "cell_type": "code",
   "execution_count": 53,
   "metadata": {},
   "outputs": [
    {
     "name": "stdout",
     "output_type": "stream",
     "text": [
      "回答\n",
      "[1911, 1902, 1864, 1858, 1818]\n"
     ]
    }
   ],
   "source": [
    "birth={'Marx': 1818,\n",
    "       'Weber': 1864,\n",
    "       'Durkheim': 1858,\n",
    "       'Parsons': 1902,\n",
    "       'Merton': 1911}\n",
    "\n",
    "print(\"回答\") #以下に回答を示す\n",
    "\n",
    "y=list(birth.values()) #birthの値をリスト化する\n",
    "y.sort(reverse=True) #yを降順に並べ直す\n",
    "print(y) #yを出力する"
   ]
  }
 ],
 "metadata": {
  "kernelspec": {
   "display_name": "base",
   "language": "python",
   "name": "python3"
  },
  "language_info": {
   "codemirror_mode": {
    "name": "ipython",
    "version": 3
   },
   "file_extension": ".py",
   "mimetype": "text/x-python",
   "name": "python",
   "nbconvert_exporter": "python",
   "pygments_lexer": "ipython3",
   "version": "3.9.6"
  },
  "orig_nbformat": 4
 },
 "nbformat": 4,
 "nbformat_minor": 2
}
