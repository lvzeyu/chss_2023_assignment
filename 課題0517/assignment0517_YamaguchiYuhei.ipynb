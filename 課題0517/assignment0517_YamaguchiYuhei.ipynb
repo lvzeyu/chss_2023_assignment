{
 "cells": [
  {
   "attachments": {},
   "cell_type": "markdown",
   "metadata": {},
   "source": [
    "# 課題1\n",
    "\n",
    "与えられたリスト内重複な値を削除してください。"
   ]
  },
  {
   "cell_type": "code",
   "execution_count": 7,
   "metadata": {},
   "outputs": [],
   "source": [
    "numbers = [1, 2, 3, 2, 4, 3, 5, 4, 6, 57, 57, 6, 18, 7, 9, 8, 10, 9, 0, 0, 10]"
   ]
  },
  {
   "attachments": {},
   "cell_type": "markdown",
   "metadata": {},
   "source": [
    "## 回答"
   ]
  },
  {
   "cell_type": "code",
   "execution_count": 4,
   "metadata": {},
   "outputs": [
    {
     "data": {
      "text/plain": [
       "[0, 1, 2, 3, 4, 5, 6, 7, 8, 9, 10, 18, 57]"
      ]
     },
     "execution_count": 4,
     "metadata": {},
     "output_type": "execute_result"
    }
   ],
   "source": [
    "num = set(numbers) # setにする\n",
    "num = list(num) #リストに直す\n",
    "numbers = num #名前をnumbersにする\n",
    "numbers #確認"
   ]
  },
  {
   "attachments": {},
   "cell_type": "markdown",
   "metadata": {},
   "source": [
    "## 別解"
   ]
  },
  {
   "cell_type": "code",
   "execution_count": 8,
   "metadata": {},
   "outputs": [
    {
     "data": {
      "text/plain": [
       "[1, 2, 3, 4, 5, 6, 57, 18, 7, 9, 8, 10, 0]"
      ]
     },
     "execution_count": 8,
     "metadata": {},
     "output_type": "execute_result"
    }
   ],
   "source": [
    "num = []\n",
    "for _ in range(len(numbers)):\n",
    "    if len(num) == 0:\n",
    "        num.append(numbers[_])\n",
    "    else:\n",
    "        check = []\n",
    "        for __ in range(len(num)):\n",
    "            if num[__] == numbers[_]:\n",
    "                check.append(1)\n",
    "            else:\n",
    "                check.append(0)\n",
    "        if sum(check) == 0:\n",
    "            num.append(numbers[_])\n",
    "        else:\n",
    "            pass\n",
    "\n",
    "\n",
    "numbers = num\n",
    "numbers # 確認"
   ]
  },
  {
   "attachments": {},
   "cell_type": "markdown",
   "metadata": {},
   "source": [
    "# 課題2\n",
    "\n",
    "与えられたリスト内の指定した値を検索し、値の出現回数を```print```してください。見つからない場合は```Not Exists```を```print```してください。\n",
    "\n",
    "```value_0```と```value_１```を実行した結果を確認してください。"
   ]
  },
  {
   "cell_type": "code",
   "execution_count": 9,
   "metadata": {},
   "outputs": [],
   "source": [
    "numbers = [1, 2, 3, 2, 4, 3, 5, 4, 6, 57, 57, 6, 18, 7, 9, 8, 10, 9, 0, 0, 10]\n",
    "value_0= 0\n",
    "value_1= 100"
   ]
  },
  {
   "attachments": {},
   "cell_type": "markdown",
   "metadata": {},
   "source": [
    "## 回答"
   ]
  },
  {
   "cell_type": "code",
   "execution_count": 12,
   "metadata": {},
   "outputs": [
    {
     "data": {
      "text/plain": [
       "(2, 'Not Exists')"
      ]
     },
     "execution_count": 12,
     "metadata": {},
     "output_type": "execute_result"
    }
   ],
   "source": [
    "def shutsugen(x, list):\n",
    "    kaisuu = ( list.count(x) )\n",
    "    if kaisuu == 0:\n",
    "        return('Not Exists')\n",
    "    else:\n",
    "        return(kaisuu)\n",
    "\n",
    "shutsugen(value_0, numbers), shutsugen(value_1, numbers) # 確認"
   ]
  },
  {
   "attachments": {},
   "cell_type": "markdown",
   "metadata": {},
   "source": [
    "# 課題3\n",
    "\n",
    "与えられた辞書内の指定したに一致するキーを検索し、そのキーに対応する値を```print```してください。見つからない場合は```Not Exists```を```print```してください。\n",
    "\n",
    "```value_0```と```value_１```を実行した結果を確認してください。"
   ]
  },
  {
   "cell_type": "code",
   "execution_count": 14,
   "metadata": {},
   "outputs": [],
   "source": [
    "birth={'Marx': 1818,\n",
    "       'Weber': 1864,\n",
    "       'Durkheim': 1858,\n",
    "       'Parsons': 1902,\n",
    "       'Merton': 1911}\n",
    "\n",
    "value_0= \"Parsons\"\n",
    "value_1= \"Giddens\""
   ]
  },
  {
   "attachments": {},
   "cell_type": "markdown",
   "metadata": {},
   "source": [
    "## 回答\n",
    "本当はもっと簡単な解答があるかもしれませんが，思いつかなかったので面倒なコーディングをしました"
   ]
  },
  {
   "cell_type": "code",
   "execution_count": 32,
   "metadata": {},
   "outputs": [
    {
     "data": {
      "text/plain": [
       "(1902, 'Not Exists')"
      ]
     },
     "execution_count": 32,
     "metadata": {},
     "output_type": "execute_result"
    }
   ],
   "source": [
    "def icchi(x, dic):\n",
    "    keys = list(dic.keys())\n",
    "    if keys.count(x) == 0:\n",
    "        return('Not Exists')\n",
    "    else:\n",
    "        return(\n",
    "            dic[x]\n",
    "        )\n",
    "\n",
    "icchi(value_0, birth), icchi(value_1, birth) # 作動確認"
   ]
  },
  {
   "attachments": {},
   "cell_type": "markdown",
   "metadata": {},
   "source": [
    "# 課題4\n",
    "\n",
    "与えられた辞書の値を新しいリストに格納し、降順にソートしてください。"
   ]
  },
  {
   "cell_type": "code",
   "execution_count": 51,
   "metadata": {},
   "outputs": [],
   "source": [
    "birth={'Marx': 1818,\n",
    "       'Weber': 1864,\n",
    "       'Durkheim': 1858,\n",
    "       'Parsons': 1902,\n",
    "       'Merton': 1911}"
   ]
  },
  {
   "attachments": {},
   "cell_type": "markdown",
   "metadata": {},
   "source": [
    "## 回答"
   ]
  },
  {
   "cell_type": "code",
   "execution_count": 52,
   "metadata": {},
   "outputs": [
    {
     "name": "stdout",
     "output_type": "stream",
     "text": [
      "['Weber', 'Parsons', 'Merton', 'Marx', 'Durkheim'] [1911, 1902, 1864, 1858, 1818]\n"
     ]
    }
   ],
   "source": [
    "name = list(birth.keys())\n",
    "year = list(birth.values())\n",
    "\n",
    "name.sort(reverse = True)\n",
    "year.sort(reverse = True)\n",
    "\n",
    "print(name, year)"
   ]
  },
  {
   "attachments": {},
   "cell_type": "markdown",
   "metadata": {},
   "source": [
    "## 別解"
   ]
  },
  {
   "cell_type": "code",
   "execution_count": 44,
   "metadata": {},
   "outputs": [
    {
     "name": "stdout",
     "output_type": "stream",
     "text": [
      "['Weber', 'Parsons', 'Merton', 'Marx', 'Durkheim'] [1911, 1902, 1864, 1858, 1818]\n"
     ]
    }
   ],
   "source": [
    "## 別解\n",
    "\n",
    "y = list(birth.items())\n",
    "name = []\n",
    "year = []\n",
    "for _ in range(len(y)):\n",
    "    name.append(y[_][0])\n",
    "    year.append(y[_][1])\n",
    "\n",
    "name.sort(reverse = True), year.sort(reverse = True)\n",
    "\n",
    "print(name, year)"
   ]
  },
  {
   "cell_type": "code",
   "execution_count": null,
   "metadata": {},
   "outputs": [],
   "source": []
  }
 ],
 "metadata": {
  "kernelspec": {
   "display_name": "base",
   "language": "python",
   "name": "python3"
  },
  "language_info": {
   "codemirror_mode": {
    "name": "ipython",
    "version": 3
   },
   "file_extension": ".py",
   "mimetype": "text/x-python",
   "name": "python",
   "nbconvert_exporter": "python",
   "pygments_lexer": "ipython3",
   "version": "3.11.0"
  },
  "orig_nbformat": 4
 },
 "nbformat": 4,
 "nbformat_minor": 2
}
