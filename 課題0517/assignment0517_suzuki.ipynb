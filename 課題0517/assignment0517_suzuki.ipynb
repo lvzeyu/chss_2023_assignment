{
 "cells": [
  {
   "cell_type": "code",
   "execution_count": 12,
   "id": "095c9544",
   "metadata": {},
   "outputs": [],
   "source": [
    "#課題1\n",
    "numbers = [1, 2, 3, 2, 4, 3, 5, 4, 6, 57, 57, 6, 18, 7, 9, 8, 10, 9, 0, 0, 10]"
   ]
  },
  {
   "cell_type": "code",
   "execution_count": 13,
   "id": "502c74b9",
   "metadata": {},
   "outputs": [
    {
     "data": {
      "text/plain": [
       "[1, 2, 3, 2, 4, 3, 5, 4, 6, 57, 57, 6, 18, 7, 9, 8, 10, 9, 0, 0, 10]"
      ]
     },
     "execution_count": 13,
     "metadata": {},
     "output_type": "execute_result"
    }
   ],
   "source": [
    "numbers"
   ]
  },
  {
   "cell_type": "code",
   "execution_count": 8,
   "id": "b9e5aab7",
   "metadata": {},
   "outputs": [],
   "source": [
    "numbers=list(sorted(set(numbers),key=numbers.index))"
   ]
  },
  {
   "cell_type": "code",
   "execution_count": 9,
   "id": "781fa754",
   "metadata": {},
   "outputs": [
    {
     "data": {
      "text/plain": [
       "[1, 2, 3, 4, 5, 6, 57, 18, 7, 9, 8, 10, 0]"
      ]
     },
     "execution_count": 9,
     "metadata": {},
     "output_type": "execute_result"
    }
   ],
   "source": [
    "numbers"
   ]
  },
  {
   "cell_type": "code",
   "execution_count": 15,
   "id": "4e6e9eef",
   "metadata": {},
   "outputs": [],
   "source": [
    "#課題2\n",
    "numbers = [1, 2, 3, 2, 4, 3, 5, 4, 6, 57, 57, 6, 18, 7, 9, 8, 10, 9, 0, 0, 10]\n",
    "value_0=0\n",
    "value_1=100"
   ]
  },
  {
   "cell_type": "code",
   "execution_count": 23,
   "id": "cbc4b4cd",
   "metadata": {},
   "outputs": [
    {
     "name": "stdout",
     "output_type": "stream",
     "text": [
      "2\n"
     ]
    }
   ],
   "source": [
    "if numbers.count(value_0)==0:\n",
    "    print(\"Not exists\")\n",
    "else:\n",
    "    print(numbers.count(value_0))"
   ]
  },
  {
   "cell_type": "code",
   "execution_count": 25,
   "id": "eeabe4dd",
   "metadata": {},
   "outputs": [
    {
     "name": "stdout",
     "output_type": "stream",
     "text": [
      "Not exists\n"
     ]
    }
   ],
   "source": [
    "if numbers.count(value_1)==0:\n",
    "    print(\"Not exists\")\n",
    "else:\n",
    "    print(numbers.count(value_0))"
   ]
  },
  {
   "cell_type": "code",
   "execution_count": 26,
   "id": "6f04f845",
   "metadata": {},
   "outputs": [],
   "source": [
    "#課題3\n",
    "birth={'Marx': 1818,\n",
    "       'Weber': 1864,\n",
    "       'Durkheim': 1858,\n",
    "       'Parsons': 1902,\n",
    "       'Merton': 1911}\n",
    "\n",
    "value_0= \"Parsons\"\n",
    "value_1= \"Giddens\""
   ]
  },
  {
   "cell_type": "code",
   "execution_count": 69,
   "id": "69836515",
   "metadata": {},
   "outputs": [
    {
     "name": "stdout",
     "output_type": "stream",
     "text": [
      "1902\n"
     ]
    }
   ],
   "source": [
    "if value_0 in birth.keys():\n",
    "    print(birth[value_0])\n",
    "else:\n",
    "    print(\"Not exists\")"
   ]
  },
  {
   "cell_type": "code",
   "execution_count": 70,
   "id": "14e0a672",
   "metadata": {},
   "outputs": [
    {
     "name": "stdout",
     "output_type": "stream",
     "text": [
      "Not exists\n"
     ]
    }
   ],
   "source": [
    "if value_1 in birth.keys():\n",
    "    print(birth[value_1])\n",
    "else:\n",
    "    print(\"Not exists\")"
   ]
  },
  {
   "cell_type": "code",
   "execution_count": 71,
   "id": "bd34350c",
   "metadata": {},
   "outputs": [],
   "source": [
    "#課題4\n",
    "birth={'Marx': 1818,\n",
    "       'Weber': 1864,\n",
    "       'Durkheim': 1858,\n",
    "       'Parsons': 1902,\n",
    "       'Merton': 1911}"
   ]
  },
  {
   "cell_type": "code",
   "execution_count": 82,
   "id": "3239fb19",
   "metadata": {},
   "outputs": [],
   "source": [
    "list_birth=list(birth.values())"
   ]
  },
  {
   "cell_type": "code",
   "execution_count": 84,
   "id": "fc70485a",
   "metadata": {},
   "outputs": [],
   "source": [
    "list_birth.sort(reverse=True)"
   ]
  },
  {
   "cell_type": "code",
   "execution_count": 85,
   "id": "36812dff",
   "metadata": {},
   "outputs": [
    {
     "data": {
      "text/plain": [
       "[1911, 1902, 1864, 1858, 1818]"
      ]
     },
     "execution_count": 85,
     "metadata": {},
     "output_type": "execute_result"
    }
   ],
   "source": [
    "list_birth"
   ]
  }
 ],
 "metadata": {
  "kernelspec": {
   "display_name": "Python 3 (ipykernel)",
   "language": "python",
   "name": "python3"
  },
  "language_info": {
   "codemirror_mode": {
    "name": "ipython",
    "version": 3
   },
   "file_extension": ".py",
   "mimetype": "text/x-python",
   "name": "python",
   "nbconvert_exporter": "python",
   "pygments_lexer": "ipython3",
   "version": "3.10.10"
  }
 },
 "nbformat": 4,
 "nbformat_minor": 5
}
