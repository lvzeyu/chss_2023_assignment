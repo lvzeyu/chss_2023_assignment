{
  "cells": [
    {
      "cell_type": "markdown",
      "metadata": {
        "id": "37KTsT1b7Crd"
      },
      "source": [
        "# 課題1\n",
        "\n",
        "与えられたリスト内重複な値を削除してください。"
      ]
    },
    {
      "cell_type": "code",
      "execution_count": null,
      "metadata": {
        "id": "K6g9q2jL7Crj"
      },
      "outputs": [],
      "source": [
        "numbers = [1, 2, 3, 2, 4, 3, 5, 4, 6, 57, 57, 6, 18, 7, 9, 8, 10, 9, 0, 0, 10]"
      ]
    },
    {
      "cell_type": "code",
      "source": [
        "##課題１への解答について：重複している値そのものを全消しするのか、片割れを残してもう片方を消すのかわからなかったので、どちらも演習してみました。\n",
        "#課題１への解答①：１ステップずつ消していく。\n",
        "numbers=[1, 2, 3, 2, 4, 3, 5, 4, 6, 57, 57, 6, 18, 7, 9, 8, 10, 9, 0, 0, 10]\n",
        "n=len(numbers)\n",
        "array=[]\n",
        "\n",
        "for i in range(n-1):\n",
        "  for j in range(i+1,n):\n",
        "    if numbers[i]==numbers[j]:\n",
        "      array.append(numbers[i])\n",
        "for i in array:\n",
        "  numbers.remove(i)\n",
        "\n",
        "print(numbers)    "
      ],
      "metadata": {
        "id": "lLEDuG_i7Uaf",
        "colab": {
          "base_uri": "https://localhost:8080/"
        },
        "outputId": "1080c218-255a-48fd-b104-0a45d3fa11b1"
      },
      "execution_count": null,
      "outputs": [
        {
          "output_type": "stream",
          "name": "stdout",
          "text": [
            "[1, 2, 3, 5, 4, 57, 6, 18, 7, 8, 9, 0, 10]\n"
          ]
        }
      ]
    },
    {
      "cell_type": "code",
      "source": [
        "#課題１への解答②：重複している値の片割れを消す。\n",
        "numbers = [1, 2, 3, 2, 4, 3, 5, 4, 6, 57, 57, 6, 18, 7, 9, 8, 10, 9, 0, 0, 10]\n",
        "numbers = list(set(numbers))\n",
        "print(numbers)"
      ],
      "metadata": {
        "colab": {
          "base_uri": "https://localhost:8080/"
        },
        "id": "XjPsvkDbQnFb",
        "outputId": "0e84318c-65ed-4ab9-f4d6-e444c1602576"
      },
      "execution_count": null,
      "outputs": [
        {
          "output_type": "stream",
          "name": "stdout",
          "text": [
            "[0, 1, 2, 3, 4, 5, 6, 7, 8, 9, 10, 18, 57]\n"
          ]
        }
      ]
    },
    {
      "cell_type": "code",
      "source": [
        "#課題１への解答③：重複している値ごと全て消す。\n",
        "numbers=[1, 2, 3, 2, 4, 3, 5, 4, 6, 57, 57, 6, 18, 7, 9, 8, 10, 9, 0, 0, 10]\n",
        "n=len(numbers)\n",
        "n_list=[]\n",
        "\n",
        "for i in range(n-1):\n",
        "  for j in range(i+1,n):\n",
        "    if numbers[i]==numbers[j]:\n",
        "      n_list.append(numbers[i])\n",
        "\n",
        "for i in n_list:\n",
        "  num = numbers.count(i)\n",
        "  for k in range(num):\n",
        "    numbers.remove(i)\n",
        "\n",
        "print(numbers)"
      ],
      "metadata": {
        "colab": {
          "base_uri": "https://localhost:8080/"
        },
        "id": "N6bwz_RrRDFD",
        "outputId": "357591ce-3bfd-4c78-cf44-18abb8e6ea74"
      },
      "execution_count": null,
      "outputs": [
        {
          "output_type": "stream",
          "name": "stdout",
          "text": [
            "[1, 5, 18, 7, 8]\n"
          ]
        }
      ]
    },
    {
      "cell_type": "markdown",
      "metadata": {
        "id": "A19zTco87Crl"
      },
      "source": [
        "# 課題2\n",
        "\n",
        "与えられたリスト内の指定した値を検索し、値の出現回数を```print```してください。見つからない場合は```Not Exists```を```print```してください。\n",
        "\n",
        "```value_0```と```value_１```を実行した結果を確認してください。"
      ]
    },
    {
      "cell_type": "code",
      "execution_count": null,
      "metadata": {
        "id": "dQ-VW2Up7Crm"
      },
      "outputs": [],
      "source": [
        "numbers= [1, 2, 3, 2, 4, 3, 5, 4, 6, 57, 57, 6, 18, 7, 9, 8, 10, 9, 0, 0, 10]\n",
        "value_0= 0\n",
        "value_1= 100"
      ]
    },
    {
      "cell_type": "code",
      "source": [
        "#課題２への解答①\n",
        "numbers=[1, 2, 3, 2, 4, 3, 5, 4, 6, 57, 57, 6, 18, 7, 9, 8, 10, 9, 0, 0, 10]\n",
        "value_0=0\n",
        "value_1=100\n",
        "\n",
        "def list_search(num):\n",
        "  if num>0:\n",
        "    print(num)\n",
        "  else:\n",
        "    print(\"Not exist\")\n",
        "\n",
        "count1=numbers.count(value_0)\n",
        "count2=numbers.count(value_1)\n",
        "\n",
        "list_search(count1)\n",
        "list_search(count2)"
      ],
      "metadata": {
        "colab": {
          "base_uri": "https://localhost:8080/"
        },
        "id": "T8W1V0meRzfj",
        "outputId": "088cdd9d-f79b-4f79-a76f-955695135bd6"
      },
      "execution_count": null,
      "outputs": [
        {
          "output_type": "stream",
          "name": "stdout",
          "text": [
            "2\n",
            "Not exist\n"
          ]
        }
      ]
    },
    {
      "cell_type": "code",
      "source": [
        "#課題２への解答②：もっとシンプルに書く。\n",
        "numbers=[1, 2, 3, 2, 4, 3, 5, 4, 6, 57, 57, 6, 18, 7, 9, 8, 10, 9, 0, 0, 10]\n",
        "value_0=0\n",
        "value_1=100\n",
        "\n",
        "def list_search(num):\n",
        "  count=numbers.count(num)\n",
        "  if count>0:\n",
        "    print(count)\n",
        "  else:\n",
        "    print(\"Not exist\")\n",
        "\n",
        "list_search(value_0)\n",
        "list_search(value_1)"
      ],
      "metadata": {
        "colab": {
          "base_uri": "https://localhost:8080/"
        },
        "id": "UmS12BSlbwBH",
        "outputId": "f57fc018-c007-4381-e3de-3f7ccdb12346"
      },
      "execution_count": null,
      "outputs": [
        {
          "output_type": "stream",
          "name": "stdout",
          "text": [
            "2\n",
            "Not exist\n"
          ]
        }
      ]
    },
    {
      "cell_type": "markdown",
      "metadata": {
        "id": "AnfdtPvd7Crn"
      },
      "source": [
        "# 課題3\n",
        "\n",
        "与えられた辞書内の指定したに一致するキーを検索し、そのキーに対応する値を```print```してください。見つからない場合は```Not Exists```を```print```してください。\n",
        "\n",
        "```value_0```と```value_１```を実行した結果を確認してください。"
      ]
    },
    {
      "cell_type": "code",
      "execution_count": null,
      "metadata": {
        "id": "vLGe19_97Crn"
      },
      "outputs": [],
      "source": [
        "birth={'Marx': 1818,\n",
        "       'Weber': 1864,\n",
        "       'Durkheim': 1858,\n",
        "       'Parsons': 1902,\n",
        "       'Merton': 1911}\n",
        "\n",
        "value_0= \"Parsons\"\n",
        "value_1= \"Giddens\""
      ]
    },
    {
      "cell_type": "code",
      "source": [
        "#課題３への解答\n",
        "birth={'Marx':1818,\n",
        "       'Weber':1864,\n",
        "       'Durkheim':1858,\n",
        "       'Parsons':1902,\n",
        "       'Merton':1911}\n",
        "value_0='Parsons'\n",
        "calue_1='Giddens'\n",
        "\n",
        "def dic_search(key):\n",
        "  if key in birth:\n",
        "    print(birth[key])\n",
        "  else:\n",
        "    print(\"Not exist\")\n",
        "\n",
        "dic_search(value_0)\n",
        "dic_search(value_1)"
      ],
      "metadata": {
        "colab": {
          "base_uri": "https://localhost:8080/"
        },
        "id": "QG68oj6CSPjS",
        "outputId": "941cd5e1-9a26-474a-c708-f27b841e42f3"
      },
      "execution_count": null,
      "outputs": [
        {
          "output_type": "stream",
          "name": "stdout",
          "text": [
            "1902\n",
            "Not exist\n"
          ]
        }
      ]
    },
    {
      "cell_type": "markdown",
      "metadata": {
        "id": "Ezf4rWUJ7Cro"
      },
      "source": [
        "# 課題4\n",
        "\n",
        "与えられた辞書の値を新しいリストに格納し、降順にソートしてください。"
      ]
    },
    {
      "cell_type": "code",
      "execution_count": null,
      "metadata": {
        "id": "oDk8-BYs7Cro"
      },
      "outputs": [],
      "source": [
        "birth={'Marx': 1818,\n",
        "       'Weber': 1864,\n",
        "       'Durkheim': 1858,\n",
        "       'Parsons': 1902,\n",
        "       'Merton': 1911}"
      ]
    },
    {
      "cell_type": "code",
      "source": [
        "birth={'Marx': 1818,\n",
        "       'Weber': 1864,\n",
        "       'Durkheim': 1858,\n",
        "       'Parsons': 1902,\n",
        "       'Merton': 1911}\n",
        "\n",
        "d_list = list(set(birth.values()))\n",
        "d_list.sort(reverse=True)\n",
        "print(d_list)"
      ],
      "metadata": {
        "colab": {
          "base_uri": "https://localhost:8080/"
        },
        "id": "B683OgAfTRx3",
        "outputId": "eacdb628-7390-4803-e1c0-3c0c430032f5"
      },
      "execution_count": null,
      "outputs": [
        {
          "output_type": "stream",
          "name": "stdout",
          "text": [
            "[1911, 1902, 1864, 1858, 1818]\n"
          ]
        }
      ]
    },
    {
      "cell_type": "code",
      "source": [
        "birth={'Marx': 1818,\n",
        "       'Weber': 1864,\n",
        "       'Durkheim': 1858,\n",
        "       'Parsons': 1902,\n",
        "       'Merton': 1911}\n",
        "\n",
        "d_list = list(birth.values())\n",
        "d_list.sort(reverse=True)\n",
        "print(d_list)"
      ],
      "metadata": {
        "colab": {
          "base_uri": "https://localhost:8080/"
        },
        "id": "p1QYRj9paJcK",
        "outputId": "e5ab9d4b-059b-447a-9aad-6e3fc8672910"
      },
      "execution_count": null,
      "outputs": [
        {
          "output_type": "stream",
          "name": "stdout",
          "text": [
            "[1911, 1902, 1864, 1858, 1818]\n"
          ]
        }
      ]
    }
  ],
  "metadata": {
    "kernelspec": {
      "display_name": "base",
      "language": "python",
      "name": "python3"
    },
    "language_info": {
      "codemirror_mode": {
        "name": "ipython",
        "version": 3
      },
      "file_extension": ".py",
      "mimetype": "text/x-python",
      "name": "python",
      "nbconvert_exporter": "python",
      "pygments_lexer": "ipython3",
      "version": "3.9.7"
    },
    "orig_nbformat": 4,
    "colab": {
      "provenance": []
    }
  },
  "nbformat": 4,
  "nbformat_minor": 0
}