{
  "cells": [
    {
      "cell_type": "markdown",
      "metadata": {
        "id": "0MDFpZ9jA_Xv"
      },
      "source": [
        "# 課題1\n",
        "\n",
        "与えられたリスト内重複な値を削除してください。"
      ]
    },
    {
      "cell_type": "code",
      "execution_count": null,
      "metadata": {
        "id": "S0Zho3vbA_X0"
      },
      "outputs": [],
      "source": [
        "numbers = [1, 2, 3, 2, 4, 3, 5, 4, 6, 57, 57, 6, 18, 7, 9, 8, 10, 9, 0, 0, 10]"
      ]
    },
    {
      "cell_type": "code",
      "source": [
        "set_numbers = set([1, 2, 3, 2, 4, 3, 5, 4, 6, 57, 57, 6, 18, 7, 9, 8, 10, 9, 0, 0, 10])\n",
        "set_numbers"
      ],
      "metadata": {
        "colab": {
          "base_uri": "https://localhost:8080/"
        },
        "id": "1BimEIJnBKzY",
        "outputId": "e566ba98-4230-49d2-a45d-7dd8873ce7f4"
      },
      "execution_count": null,
      "outputs": [
        {
          "output_type": "execute_result",
          "data": {
            "text/plain": [
              "{0, 1, 2, 3, 4, 5, 6, 7, 8, 9, 10, 18, 57}"
            ]
          },
          "metadata": {},
          "execution_count": 1
        }
      ]
    },
    {
      "cell_type": "markdown",
      "metadata": {
        "id": "QVD1N4vQA_X2"
      },
      "source": [
        "# 課題2\n",
        "\n",
        "与えられたリスト内の指定した値を検索し、値の出現回数を```print```してください。見つからない場合は```Not Exists```を```print```してください。\n",
        "\n",
        "```value_0```と```value_１```を実行した結果を確認してください。"
      ]
    },
    {
      "cell_type": "code",
      "execution_count": null,
      "metadata": {
        "id": "pRgNGPsYA_X3"
      },
      "outputs": [],
      "source": [
        "numbers = [1, 2, 3, 2, 4, 3, 5, 4, 6, 57, 57, 6, 18, 7, 9, 8, 10, 9, 0, 0, 10]\n",
        "value_0= 0\n",
        "value_1= 100"
      ]
    },
    {
      "cell_type": "code",
      "source": [
        "print(numbers.count(value_0))"
      ],
      "metadata": {
        "colab": {
          "base_uri": "https://localhost:8080/"
        },
        "id": "4Sadd1RhBTsW",
        "outputId": "b95c4635-4879-4018-eb52-926ac6139358"
      },
      "execution_count": null,
      "outputs": [
        {
          "output_type": "stream",
          "name": "stdout",
          "text": [
            "2\n"
          ]
        }
      ]
    },
    {
      "cell_type": "code",
      "source": [
        "print(numbers.count(value_1))"
      ],
      "metadata": {
        "colab": {
          "base_uri": "https://localhost:8080/"
        },
        "id": "TI4oejizBWex",
        "outputId": "209fcd57-7d13-4e94-b2a9-2bab49772577"
      },
      "execution_count": null,
      "outputs": [
        {
          "output_type": "stream",
          "name": "stdout",
          "text": [
            "0\n"
          ]
        }
      ]
    },
    {
      "cell_type": "markdown",
      "metadata": {
        "id": "XbWk6n8BA_X3"
      },
      "source": [
        "# 課題3\n",
        "\n",
        "与えられた辞書内の指定したに一致するキーを検索し、そのキーに対応する値を```print```してください。見つからない場合は```Not Exists```を```print```してください。\n",
        "\n",
        "```value_0```と```value_１```を実行した結果を確認してください。"
      ]
    },
    {
      "cell_type": "code",
      "execution_count": null,
      "metadata": {
        "id": "dR1PnrxPA_X4"
      },
      "outputs": [],
      "source": [
        "birth={'Marx': 1818,\n",
        "       'Weber': 1864,\n",
        "       'Durkheim': 1858,\n",
        "       'Parsons': 1902,\n",
        "       'Merton': 1911}\n",
        "\n",
        "value_0= \"Parsons\"\n",
        "value_1= \"Giddens\""
      ]
    },
    {
      "cell_type": "code",
      "source": [
        "print(birth[value_0])"
      ],
      "metadata": {
        "colab": {
          "base_uri": "https://localhost:8080/"
        },
        "id": "_tiKNBt6BbiG",
        "outputId": "2e1bfd67-9623-4015-90de-f1f293c6314c"
      },
      "execution_count": null,
      "outputs": [
        {
          "output_type": "stream",
          "name": "stdout",
          "text": [
            "1902\n"
          ]
        }
      ]
    },
    {
      "cell_type": "code",
      "source": [
        "print(birth[value_1])"
      ],
      "metadata": {
        "colab": {
          "base_uri": "https://localhost:8080/",
          "height": 173
        },
        "id": "1JmUHSvyBfoC",
        "outputId": "e6ff90df-fe41-4c3a-914c-a166775fd6e5"
      },
      "execution_count": null,
      "outputs": [
        {
          "output_type": "error",
          "ename": "KeyError",
          "evalue": "ignored",
          "traceback": [
            "\u001b[0;31m---------------------------------------------------------------------------\u001b[0m",
            "\u001b[0;31mKeyError\u001b[0m                                  Traceback (most recent call last)",
            "\u001b[0;32m<ipython-input-8-19e68ebab28f>\u001b[0m in \u001b[0;36m<cell line: 1>\u001b[0;34m()\u001b[0m\n\u001b[0;32m----> 1\u001b[0;31m \u001b[0mprint\u001b[0m\u001b[0;34m(\u001b[0m\u001b[0mbirth\u001b[0m\u001b[0;34m[\u001b[0m\u001b[0mvalue_1\u001b[0m\u001b[0;34m]\u001b[0m\u001b[0;34m)\u001b[0m\u001b[0;34m\u001b[0m\u001b[0;34m\u001b[0m\u001b[0m\n\u001b[0m",
            "\u001b[0;31mKeyError\u001b[0m: 'Giddens'"
          ]
        }
      ]
    },
    {
      "cell_type": "markdown",
      "metadata": {
        "id": "A5FP9iw5A_X4"
      },
      "source": [
        "# 課題4\n",
        "\n",
        "与えられた辞書の値を新しいリストに格納し、降順にソートしてください。"
      ]
    },
    {
      "cell_type": "code",
      "execution_count": null,
      "metadata": {
        "id": "uFPLICwlA_X4"
      },
      "outputs": [],
      "source": [
        "birth={'Marx': 1818,\n",
        "       'Weber': 1864,\n",
        "       'Durkheim': 1858,\n",
        "       'Parsons': 1902,\n",
        "       'Merton': 1911}"
      ]
    },
    {
      "cell_type": "code",
      "source": [
        "list_birth=list(birth.items())\n",
        "list_birth.sort(reverse=True)\n",
        "list_birth"
      ],
      "metadata": {
        "colab": {
          "base_uri": "https://localhost:8080/"
        },
        "id": "twbL6toaBjZk",
        "outputId": "b1e6b784-77a1-4d60-90c8-795cfda51e34"
      },
      "execution_count": null,
      "outputs": [
        {
          "output_type": "execute_result",
          "data": {
            "text/plain": [
              "[('Weber', 1864),\n",
              " ('Parsons', 1902),\n",
              " ('Merton', 1911),\n",
              " ('Marx', 1818),\n",
              " ('Durkheim', 1858)]"
            ]
          },
          "metadata": {},
          "execution_count": 10
        }
      ]
    }
  ],
  "metadata": {
    "kernelspec": {
      "display_name": "base",
      "language": "python",
      "name": "python3"
    },
    "language_info": {
      "codemirror_mode": {
        "name": "ipython",
        "version": 3
      },
      "file_extension": ".py",
      "mimetype": "text/x-python",
      "name": "python",
      "nbconvert_exporter": "python",
      "pygments_lexer": "ipython3",
      "version": "3.9.7"
    },
    "orig_nbformat": 4,
    "colab": {
      "provenance": []
    }
  },
  "nbformat": 4,
  "nbformat_minor": 0
}