{
 "cells": [
  {
   "attachments": {},
   "cell_type": "markdown",
   "metadata": {},
   "source": [
    "# 課題0628\n",
    "\n",
    "そのまま課題ファイルで編集しないでください。課題ファイルを複製してから課題を回答してください。"
   ]
  },
  {
   "attachments": {},
   "cell_type": "markdown",
   "metadata": {},
   "source": [
    "## 課題１\n",
    "\n",
    "- ```NumPy```を使って、最小二乗法で重回帰分析の係数を推定する関数を作成しよう。\n",
    "- 与えられたデータで実装して動作を確認せよ。"
   ]
  },
  {
   "cell_type": "code",
   "execution_count": 143,
   "metadata": {},
   "outputs": [],
   "source": [
    "import numpy as np\n",
    "\n",
    "def get_PartialRegressionCoefficient(X, Y):\n",
    "    beta = np.linalg.pinv(X.T @ X) @ X.T @ Y\n",
    "    return beta"
   ]
  },
  {
   "cell_type": "code",
   "execution_count": 144,
   "metadata": {},
   "outputs": [],
   "source": [
    "# このコードを実行し、データの読み込み\n",
    "# もしsklearnがインストールされていない場合は、!pip install sklearnを実行してください\n",
    "from sklearn.datasets import load_iris\n",
    "iris = load_iris()\n",
    "# Irisデータセットをロード\n",
    "iris = load_iris()\n",
    "X = iris.data[:, [True, False, True, True]]  # 説明変数のデータ\n",
    "X = np.insert(X, 0, 1, axis=1) #列ベクトルの追加\n",
    "Y = iris.data[:, 1]  # 目的変数のデータ（がく片の幅）"
   ]
  },
  {
   "cell_type": "code",
   "execution_count": 145,
   "metadata": {},
   "outputs": [
    {
     "data": {
      "text/plain": [
       "array([ 1.04308908,  0.60706601, -0.58603225,  0.55803034])"
      ]
     },
     "execution_count": 145,
     "metadata": {},
     "output_type": "execute_result"
    }
   ],
   "source": [
    "# Yを従属変数、Xを独立変数として、線形回帰モデルを作成し、回帰係数を求める\n",
    "get_PartialRegressionCoefficient(X, Y)"
   ]
  },
  {
   "attachments": {},
   "cell_type": "markdown",
   "metadata": {},
   "source": [
    "## 課題2\n",
    "\n",
    "以下の指示に従ってクラスを作成してください。\n",
    "\n",
    "- クラスをインスタント化する際は二つ同じサイズの```ndarray```($v_1$と$v_2$)が渡されます\n",
    "- クラスに$v_1$と$v_2$が同じサイズであるかどうかを確認するメソッドを実装しよう\n",
    "- クラスに$v_1$が$v_2$に射影する結果を計算するメソッドを実装しよう\n",
    "- クラスに$v_1$と$v_2$のコサイン類似度を計算するメソッドを実装しよう"
   ]
  },
  {
   "cell_type": "code",
   "execution_count": 137,
   "metadata": {},
   "outputs": [],
   "source": [
    "class Vector:\n",
    "    def __init__(self, v1, v2):\n",
    "        self.v1 = v1\n",
    "        self.v2 = v2\n",
    "    \n",
    "    def same_size(self):\n",
    "        len_v1 = len(self.v1)\n",
    "        len_v2 = len(self.v2)\n",
    "        return len_v1 == len_v2\n",
    " \n",
    "    def projection(self):\n",
    "        norm = np.linalg.norm(self.v2)\n",
    "        divide = np.dot(self.v1, self.v2)/np.power(norm, norm)\n",
    "        return np.dot(divide, self.v2)\n",
    "\n",
    "    def cosine_similarity(self):\n",
    "        inner = np.dot(self.v1, self.v2)\n",
    "        norm_v1 = np.linalg.norm(self.v1)\n",
    "        norm_v2 = np.linalg.norm(self.v2)\n",
    "        return inner / norm_v1*norm_v2\n"
   ]
  },
  {
   "cell_type": "code",
   "execution_count": 138,
   "metadata": {},
   "outputs": [],
   "source": [
    "# 確認\n",
    "import numpy as np\n",
    "v1 = np.array([1, 2, 3])\n",
    "v2 = np.array([4, 5, 6])"
   ]
  },
  {
   "cell_type": "code",
   "execution_count": 139,
   "metadata": {},
   "outputs": [],
   "source": [
    "kakuninn = Vector(v1, v2)"
   ]
  },
  {
   "cell_type": "code",
   "execution_count": 140,
   "metadata": {},
   "outputs": [
    {
     "data": {
      "text/plain": [
       "True"
      ]
     },
     "execution_count": 140,
     "metadata": {},
     "output_type": "execute_result"
    }
   ],
   "source": [
    "kakuninn.same_size()"
   ]
  },
  {
   "cell_type": "code",
   "execution_count": 141,
   "metadata": {},
   "outputs": [
    {
     "data": {
      "text/plain": [
       "array([6.76496423e-07, 8.45620528e-07, 1.01474463e-06])"
      ]
     },
     "execution_count": 141,
     "metadata": {},
     "output_type": "execute_result"
    }
   ],
   "source": [
    "kakuninn.projection()"
   ]
  },
  {
   "cell_type": "code",
   "execution_count": 142,
   "metadata": {},
   "outputs": [
    {
     "data": {
      "text/plain": [
       "75.04665215717488"
      ]
     },
     "execution_count": 142,
     "metadata": {},
     "output_type": "execute_result"
    }
   ],
   "source": [
    "kakuninn.cosine_similarity()"
   ]
  },
  {
   "attachments": {},
   "cell_type": "markdown",
   "metadata": {},
   "source": []
  }
 ],
 "metadata": {
  "kernelspec": {
   "display_name": "base",
   "language": "python",
   "name": "python3"
  },
  "language_info": {
   "codemirror_mode": {
    "name": "ipython",
    "version": 3
   },
   "file_extension": ".py",
   "mimetype": "text/x-python",
   "name": "python",
   "nbconvert_exporter": "python",
   "pygments_lexer": "ipython3",
   "version": "3.11.3"
  },
  "orig_nbformat": 4
 },
 "nbformat": 4,
 "nbformat_minor": 2
}
