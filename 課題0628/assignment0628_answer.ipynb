{
 "cells": [
  {
   "attachments": {},
   "cell_type": "markdown",
   "metadata": {},
   "source": [
    "# 課題0628\n",
    "\n",
    "そのまま課題ファイルで編集しないでください。課題ファイルを複製してから課題を回答してください。"
   ]
  },
  {
   "attachments": {},
   "cell_type": "markdown",
   "metadata": {},
   "source": [
    "## 課題１\n",
    "\n",
    "- ```NumPy```を使って、最小二乗法で重回帰分析の係数を推定する関数を作成しよう。\n",
    "- 与えられたデータで実装して動作を確認せよ。"
   ]
  },
  {
   "attachments": {},
   "cell_type": "markdown",
   "metadata": {},
   "source": [
    "$$\n",
    "\\beta = (X^TX)^{-1}X^TY\n",
    "$$"
   ]
  },
  {
   "attachments": {},
   "cell_type": "markdown",
   "metadata": {},
   "source": [
    "- [転置](https://numpy.org/doc/stable/reference/generated/numpy.transpose.html)\n",
    "```\n",
    "numpy.transpose(a, axes=None)\n",
    "```\n",
    "\n",
    "- [逆行列](https://numpy.org/doc/stable/reference/generated/numpy.linalg.inv.html)\n",
    "```\n",
    "numpy.linalg.inv(a)\n",
    "```"
   ]
  },
  {
   "cell_type": "code",
   "execution_count": 5,
   "metadata": {},
   "outputs": [],
   "source": [
    "import numpy as np\n",
    "def get_PartialRegressionCoefficient(x,y):\n",
    "    xt= np.transpose(x)\n",
    "    xtx= np.dot(xt,x)\n",
    "    xtX_inv= np.linalg.inv(xtx)\n",
    "    xty= np.dot(xt,y)\n",
    "     \n",
    "    return np.dot(xtX_inv,xty)"
   ]
  },
  {
   "cell_type": "code",
   "execution_count": 6,
   "metadata": {},
   "outputs": [],
   "source": [
    "# このコードを実行し、データの読み込み\n",
    "# もしsklearnがインストールされていない場合は、!pip install sklearnを実行してください\n",
    "from sklearn.datasets import load_iris\n",
    "iris = load_iris()\n",
    "# Irisデータセットをロード\n",
    "iris = load_iris()\n",
    "X = iris.data[:,1:]  # 説明変数のデータ\n",
    "Y = iris.data[:,0]  # 目的変数のデータ（がく片の幅）"
   ]
  },
  {
   "cell_type": "code",
   "execution_count": 7,
   "metadata": {},
   "outputs": [
    {
     "data": {
      "text/plain": [
       "array([ 1.12106169,  0.92352887, -0.89567583])"
      ]
     },
     "execution_count": 7,
     "metadata": {},
     "output_type": "execute_result"
    }
   ],
   "source": [
    "# Yを従属変数、Xを独立変数として、線形回帰モデルを作成し、回帰係数を求める\n",
    "get_PartialRegressionCoefficient(X,Y)"
   ]
  },
  {
   "attachments": {},
   "cell_type": "markdown",
   "metadata": {},
   "source": [
    "[numpy.linalg.lstsq](https://numpy.org/doc/stable/reference/generated/numpy.linalg.lstsq.html)"
   ]
  },
  {
   "cell_type": "code",
   "execution_count": 8,
   "metadata": {},
   "outputs": [
    {
     "data": {
      "text/plain": [
       "array([ 1.12106169,  0.92352887, -0.89567583])"
      ]
     },
     "execution_count": 8,
     "metadata": {},
     "output_type": "execute_result"
    }
   ],
   "source": [
    "np.linalg.lstsq(X,Y,rcond=None)[0]"
   ]
  },
  {
   "attachments": {},
   "cell_type": "markdown",
   "metadata": {},
   "source": [
    "## 課題2\n",
    "\n",
    "以下の指示に従ってクラスを作成してください。\n",
    "\n",
    "- クラスをインスタント化する際は二つ同じサイズの```ndarray```($v_1$と$v_2$)が渡されます\n",
    "- クラスに$v_1$と$v_2$が同じサイズであるかどうかを確認するメソッドを実装しよう\n",
    "- クラスに$v_1$が$v_2$に射影する結果を計算するメソッドを実装しよう\n",
    "- クラスに$v_1$と$v_2$のコサイン類似度を計算するメソッドを実装しよう"
   ]
  },
  {
   "cell_type": "code",
   "execution_count": 5,
   "metadata": {},
   "outputs": [],
   "source": [
    "class Vector:\n",
    "    def __init__(self, v1, v2):\n",
    "        self.v1 = v1\n",
    "        self.v2 = v2\n",
    "    \n",
    "    def check_size(self):\n",
    "        if self.v1.shape == self.v2.shape:\n",
    "            print(\"v1 and v2 have the same size.\")\n",
    "        else:\n",
    "            print(\"v1 and v2 have different sizes.\")\n",
    "    \n",
    "    def projection(self):\n",
    "        dot_product = np.dot(self.v1, self.v2)\n",
    "        norm_squared = np.dot(self.v2, self.v2)\n",
    "        result = (dot_product / norm_squared) * self.v2\n",
    "        return result\n",
    "    \n",
    "    def cosine_similarity(self):\n",
    "        dot_product = np.dot(self.v1, self.v2)\n",
    "        norm_v1 = np.linalg.norm(self.v1)\n",
    "        norm_v2 = np.linalg.norm(self.v2)\n",
    "        similarity = dot_product / (norm_v1 * norm_v2)\n",
    "        return similarity"
   ]
  },
  {
   "attachments": {},
   "cell_type": "markdown",
   "metadata": {},
   "source": [
    "$$\n",
    "similarity= \\frac{v_1 \\cdot v_2}{||v_1||\\cdot||v_2||}\n",
    "$$"
   ]
  },
  {
   "cell_type": "code",
   "execution_count": 6,
   "metadata": {},
   "outputs": [],
   "source": [
    "# 確認\n",
    "import numpy as np\n",
    "v1 = np.array([1, 2, 3])\n",
    "v2 = np.array([4, 5, 6])"
   ]
  },
  {
   "cell_type": "code",
   "execution_count": 7,
   "metadata": {},
   "outputs": [],
   "source": [
    "vector = Vector(v1, v2)"
   ]
  },
  {
   "cell_type": "code",
   "execution_count": 8,
   "metadata": {},
   "outputs": [
    {
     "name": "stdout",
     "output_type": "stream",
     "text": [
      "v1 and v2 have the same size.\n"
     ]
    }
   ],
   "source": [
    "vector.check_size()"
   ]
  },
  {
   "cell_type": "code",
   "execution_count": 9,
   "metadata": {},
   "outputs": [
    {
     "data": {
      "text/plain": [
       "array([1.66233766, 2.07792208, 2.49350649])"
      ]
     },
     "execution_count": 9,
     "metadata": {},
     "output_type": "execute_result"
    }
   ],
   "source": [
    "vector.projection()"
   ]
  },
  {
   "cell_type": "code",
   "execution_count": 10,
   "metadata": {},
   "outputs": [
    {
     "data": {
      "text/plain": [
       "0.9746318461970762"
      ]
     },
     "execution_count": 10,
     "metadata": {},
     "output_type": "execute_result"
    }
   ],
   "source": [
    "vector.cosine_similarity()"
   ]
  },
  {
   "attachments": {},
   "cell_type": "markdown",
   "metadata": {},
   "source": [
    "## 追加課題\n",
    "NumpyでRandom Walkを実装してください\n",
    "\n",
    "ランダムウォークは、ランダムなステップによって生成される進行のモデルです。\n",
    "各ステップでは、ある確率分布からのランダムな選択に基づいて進む方向が決定されます。一次元の場合、ステップは通常、$-1$または$+1$の値を取ります。"
   ]
  },
  {
   "cell_type": "code",
   "execution_count": 11,
   "metadata": {},
   "outputs": [],
   "source": [
    "import numpy as np\n",
    "\n",
    "def random_walk(n_steps):\n",
    "    steps = np.random.choice([-1, 1], size=n_steps)\n",
    "    positions = np.cumsum(steps)\n",
    "    return positions\n",
    "\n",
    "n_steps = 1000\n",
    "positions = random_walk(n_steps)"
   ]
  },
  {
   "cell_type": "code",
   "execution_count": 12,
   "metadata": {},
   "outputs": [
    {
     "data": {
      "image/png": "[encoded data removed]",
      "text/plain": [
       "<Figure size 720x432 with 1 Axes>"
      ]
     },
     "metadata": {
      "needs_background": "light"
     },
     "output_type": "display_data"
    }
   ],
   "source": [
    "import matplotlib.pyplot as plt\n",
    "\n",
    "plt.figure(figsize=(10, 6))\n",
    "plt.plot(np.arange(n_steps), positions)\n",
    "plt.title(\"Random Walk\")\n",
    "plt.xlabel(\"Step\")\n",
    "plt.ylabel(\"Position\")\n",
    "plt.grid(True)\n",
    "plt.show()"
   ]
  },
  {
   "cell_type": "code",
   "execution_count": 13,
   "metadata": {},
   "outputs": [
    {
     "data": {
      "image/png": "[encoded data removed]",
      "text/plain": [
       "<Figure size 432x288 with 1 Axes>"
      ]
     },
     "metadata": {
      "needs_background": "light"
     },
     "output_type": "display_data"
    }
   ],
   "source": [
    "all_positions = []\n",
    "\n",
    "# 5000回のランダムウォークを実行\n",
    "for _ in range(50000):\n",
    "    positions = random_walk(n_steps)\n",
    "    all_positions.append(positions[-1])  # 最終位置のみを保存\n",
    "\n",
    "# 結果の分布をプロット\n",
    "plt.hist(all_positions, bins=25,color='#0077B6', edgecolor='white')\n",
    "plt.title(\"Distribution of Random Walks\")\n",
    "plt.xlabel(\"Final Position\")\n",
    "plt.ylabel(\"Frequency\")\n",
    "plt.show()"
   ]
  },
  {
   "cell_type": "code",
   "execution_count": 2,
   "metadata": {},
   "outputs": [],
   "source": [
    "import numpy as np\n",
    "import matplotlib.pyplot as plt\n",
    "from matplotlib.animation import FuncAnimation\n",
    "%matplotlib ipympl\n",
    "# ランダムウォークのパラメータ\n",
    "num_steps = 1000  # ステップ数\n",
    "step_size = 0.5  # 1ステップあたりの移動距離\n",
    "\n",
    "# 初期位置\n",
    "start_position = np.array([0, 0])\n",
    "\n",
    "# ランダムウォークの関数\n",
    "def random_walk_2d(num_steps, step_size):\n",
    "    # ステップごとのランダムな移動ベクトルを生成\n",
    "    random_steps = np.random.randn(num_steps, 2) * step_size\n",
    "    # 各ステップの位置を計算\n",
    "    positions = np.cumsum(random_steps, axis=0)\n",
    "    # 初期位置を追加\n",
    "    return np.vstack([start_position, positions])"
   ]
  },
  {
   "cell_type": "code",
   "execution_count": 3,
   "metadata": {},
   "outputs": [
    {
     "data": {
      "application/vnd.jupyter.widget-view+json": {
       "model_id": "136c46edb94a4640a100a9223d2fd5be",
       "version_major": 2,
       "version_minor": 0
      },
      "image/png": "[encoded data removed]",
      "text/html": [
       "\n",
       "            <div style=\"display: inline-block;\">\n",
       "                <div class=\"jupyter-widgets widget-label\" style=\"text-align: center;\">\n",
       "                    Figure\n",
       "                </div>\n",
       "                <img src='data:image/png;base64,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' width=640.0/>\n",
       "            </div>\n",
       "        "
      ],
      "text/plain": [
       "Canvas(toolbar=Toolbar(toolitems=[('Home', 'Reset original view', 'home', 'home'), ('Back', 'Back to previous …"
      ]
     },
     "metadata": {},
     "output_type": "display_data"
    }
   ],
   "source": [
    "# ランダムウォークの実行\n",
    "path = random_walk_2d(num_steps, step_size)\n",
    "\n",
    "# 可視化の設定\n",
    "fig, ax = plt.subplots()\n",
    "ax.set_xlim(-50, 50)  # x軸の範囲\n",
    "ax.set_ylim(-50, 50)  # y軸の範囲\n",
    "line, = ax.plot([], [], lw=2)\n",
    "\n",
    "# アニメーションの初期化関数\n",
    "def init():\n",
    "    line.set_data([], [])\n",
    "    return line,\n",
    "\n",
    "# アニメーションの更新関数\n",
    "def update(frame):\n",
    "    line.set_data(path[:frame, 0], path[:frame, 1])\n",
    "    return line,\n",
    "\n",
    "# アニメーションの作成\n",
    "ani = FuncAnimation(fig, update, frames=num_steps, init_func=init, blit=True)\n",
    "\n",
    "# アニメーションの表示\n",
    "plt.show()"
   ]
  },
  {
   "attachments": {},
   "cell_type": "markdown",
   "metadata": {},
   "source": []
  }
 ],
 "metadata": {
  "kernelspec": {
   "display_name": "base",
   "language": "python",
   "name": "python3"
  },
  "language_info": {
   "codemirror_mode": {
    "name": "ipython",
    "version": 3
   },
   "file_extension": ".py",
   "mimetype": "text/x-python",
   "name": "python",
   "nbconvert_exporter": "python",
   "pygments_lexer": "ipython3",
   "version": "3.9.7"
  },
  "orig_nbformat": 4
 },
 "nbformat": 4,
 "nbformat_minor": 2
}
