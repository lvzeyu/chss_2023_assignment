{
 "cells": [
  {
   "attachments": {},
   "cell_type": "markdown",
   "metadata": {},
   "source": [
    "# 課題0628\n",
    "\n",
    "そのまま課題ファイルで編集しないでください。課題ファイルを複製してから課題を回答してください。"
   ]
  },
  {
   "attachments": {},
   "cell_type": "markdown",
   "metadata": {},
   "source": [
    "## 課題１\n",
    "\n",
    "- ```NumPy```を使って、最小二乗法で重回帰分析の係数を推定する関数を作成しよう。\n",
    "- 与えられたデータで実装して動作を確認せよ。"
   ]
  },
  {
   "cell_type": "code",
   "execution_count": 5,
   "metadata": {},
   "outputs": [],
   "source": [
    "def get_PartialRegressionCoefficient():\n",
    "    pass"
   ]
  },
  {
   "cell_type": "code",
   "execution_count": 8,
   "metadata": {},
   "outputs": [],
   "source": [
    "import numpy as np\n",
    "\n",
    "def get_PartialRegressionCoefficient(X, Y):\n",
    "    \n",
    "    p = X.shape[1]\n",
    "    \n",
    "    X = np.insert(X, 0, 1, axis=1)\n",
    "    \n",
    "    cov_a = np.cov(X.T)\n",
    "    \n",
    "    cov_b = np.cov(X.T, Y)\n",
    "    \n",
    "    coefficients = np.linalg.inv(cov_a[:p+1, :p+1]).dot(cov_b[:p+1, p])\n",
    "    \n",
    "    return coefficients\n"
   ]
  },
  {
   "cell_type": "code",
   "execution_count": 9,
   "metadata": {},
   "outputs": [],
   "source": [
    "# このコードを実行し、データの読み込み\n",
    "# もしsklearnがインストールされていない場合は、!pip install sklearnを実行してください\n",
    "\n",
    "from sklearn.datasets import load_iris\n",
    "iris = load_iris()\n",
    "# Irisデータセットをロード\n",
    "iris = load_iris()\n",
    "X = iris.data  # 説明変数のデータ\n",
    "Y = iris.data[:, 1]  # 目的変数のデータ（がく片の幅）"
   ]
  },
  {
   "cell_type": "code",
   "execution_count": 10,
   "metadata": {},
   "outputs": [
    {
     "ename": "LinAlgError",
     "evalue": "Singular matrix",
     "output_type": "error",
     "traceback": [
      "\u001b[0;31m---------------------------------------------------------------------------\u001b[0m",
      "\u001b[0;31mLinAlgError\u001b[0m                               Traceback (most recent call last)",
      "Cell \u001b[0;32mIn[10], line 2\u001b[0m\n\u001b[1;32m      1\u001b[0m \u001b[39m# Yを従属変数、Xを独立変数として、線形回帰モデルを作成し、回帰係数を求める\u001b[39;00m\n\u001b[0;32m----> 2\u001b[0m coefficients \u001b[39m=\u001b[39m get_PartialRegressionCoefficient(X, Y)\n\u001b[1;32m      3\u001b[0m \u001b[39mprint\u001b[39m(coefficients)\n",
      "Cell \u001b[0;32mIn[8], line 13\u001b[0m, in \u001b[0;36mget_PartialRegressionCoefficient\u001b[0;34m(X, Y)\u001b[0m\n\u001b[1;32m      9\u001b[0m cov_a \u001b[39m=\u001b[39m np\u001b[39m.\u001b[39mcov(X\u001b[39m.\u001b[39mT)\n\u001b[1;32m     11\u001b[0m cov_b \u001b[39m=\u001b[39m np\u001b[39m.\u001b[39mcov(X\u001b[39m.\u001b[39mT, Y)\n\u001b[0;32m---> 13\u001b[0m coefficients \u001b[39m=\u001b[39m np\u001b[39m.\u001b[39;49mlinalg\u001b[39m.\u001b[39;49minv(cov_a[:p\u001b[39m+\u001b[39;49m\u001b[39m1\u001b[39;49m, :p\u001b[39m+\u001b[39;49m\u001b[39m1\u001b[39;49m])\u001b[39m.\u001b[39mdot(cov_b[:p\u001b[39m+\u001b[39m\u001b[39m1\u001b[39m, p])\n\u001b[1;32m     15\u001b[0m \u001b[39mreturn\u001b[39;00m coefficients\n",
      "File \u001b[0;32m<__array_function__ internals>:180\u001b[0m, in \u001b[0;36minv\u001b[0;34m(*args, **kwargs)\u001b[0m\n",
      "File \u001b[0;32m~/anaconda3/lib/python3.10/site-packages/numpy/linalg/linalg.py:552\u001b[0m, in \u001b[0;36minv\u001b[0;34m(a)\u001b[0m\n\u001b[1;32m    550\u001b[0m signature \u001b[39m=\u001b[39m \u001b[39m'\u001b[39m\u001b[39mD->D\u001b[39m\u001b[39m'\u001b[39m \u001b[39mif\u001b[39;00m isComplexType(t) \u001b[39melse\u001b[39;00m \u001b[39m'\u001b[39m\u001b[39md->d\u001b[39m\u001b[39m'\u001b[39m\n\u001b[1;32m    551\u001b[0m extobj \u001b[39m=\u001b[39m get_linalg_error_extobj(_raise_linalgerror_singular)\n\u001b[0;32m--> 552\u001b[0m ainv \u001b[39m=\u001b[39m _umath_linalg\u001b[39m.\u001b[39;49minv(a, signature\u001b[39m=\u001b[39;49msignature, extobj\u001b[39m=\u001b[39;49mextobj)\n\u001b[1;32m    553\u001b[0m \u001b[39mreturn\u001b[39;00m wrap(ainv\u001b[39m.\u001b[39mastype(result_t, copy\u001b[39m=\u001b[39m\u001b[39mFalse\u001b[39;00m))\n",
      "File \u001b[0;32m~/anaconda3/lib/python3.10/site-packages/numpy/linalg/linalg.py:89\u001b[0m, in \u001b[0;36m_raise_linalgerror_singular\u001b[0;34m(err, flag)\u001b[0m\n\u001b[1;32m     88\u001b[0m \u001b[39mdef\u001b[39;00m \u001b[39m_raise_linalgerror_singular\u001b[39m(err, flag):\n\u001b[0;32m---> 89\u001b[0m     \u001b[39mraise\u001b[39;00m LinAlgError(\u001b[39m\"\u001b[39m\u001b[39mSingular matrix\u001b[39m\u001b[39m\"\u001b[39m)\n",
      "\u001b[0;31mLinAlgError\u001b[0m: Singular matrix"
     ]
    }
   ],
   "source": [
    "# Yを従属変数、Xを独立変数として、線形回帰モデルを作成し、回帰係数を求める\n",
    "coefficients = get_PartialRegressionCoefficient(X, Y)\n",
    "print(coefficients)"
   ]
  },
  {
   "attachments": {},
   "cell_type": "markdown",
   "metadata": {},
   "source": [
    "## 課題2\n",
    "\n",
    "以下の指示に従ってクラスを作成してください。\n",
    "\n",
    "- クラスをインスタント化する際は二つ同じサイズの```ndarray```($v_1$と$v_2$)が渡されます\n",
    "- クラスに$v_1$と$v_2$が同じサイズであるかどうかを確認するメソッドを実装しよう\n",
    "- クラスに$v_1$が$v_2$に射影する結果を計算するメソッドを実装しよう\n",
    "- クラスに$v_1$と$v_2$のコサイン類似度を計算するメソッドを実装しよう"
   ]
  },
  {
   "cell_type": "code",
   "execution_count": 1,
   "metadata": {},
   "outputs": [],
   "source": [
    "import numpy as np\n",
    "\n",
    "class Vector:\n",
    "    def __init__(self, v1, v2):\n",
    "        self.v1 = v1\n",
    "        self.v2 = v2\n",
    "        \n",
    "    def check_size(self):\n",
    "        if self.v1.shape == self.v2.shape:\n",
    "            print(\"v1とv2は同じサイズです\")\n",
    "        else:\n",
    "            print(\"v1とv2は違うサイズです\")\n",
    "            \n",
    "    def projection(self):\n",
    "        dot_product = np.dot(self.v1, self.v2)\n",
    "        norm_squared = np.dot(self.v2, self.v2)\n",
    "        projection_result = (dot_product / norm_squared) * self.v2\n",
    "        return projection_result\n",
    "    \n",
    "    def cosine_similarity(self):\n",
    "        dot_product = np.dot(self.v1, self.v2)\n",
    "        norm_v1 = np.linalg.norm(self.v1)\n",
    "        norm_v2 = np.linalg.norm(self.v2)\n",
    "        cosine_similarity = dot_product / (norm_v1 * norm_v2)\n",
    "        return cosine_similarity"
   ]
  },
  {
   "cell_type": "code",
   "execution_count": 4,
   "metadata": {},
   "outputs": [
    {
     "name": "stdout",
     "output_type": "stream",
     "text": [
      "v1とv2は同じサイズです\n",
      "v1がv2に射影した結果: [1.66233766 2.07792208 2.49350649]\n",
      "コサイン類似度: 0.9746318461970762\n"
     ]
    }
   ],
   "source": [
    "# 確認\n",
    "\n",
    "v1 = np.array([1, 2, 3])\n",
    "v2 = np.array([4, 5, 6])\n",
    "\n",
    "vector = Vector(v1, v2)\n",
    "\n",
    "vector.check_size()\n",
    "projection_result = vector.projection()\n",
    "cosine_similarity = vector.cosine_similarity()\n",
    "\n",
    "print(\"v1がv2に射影した結果:\", projection_result)\n",
    "print(\"コサイン類似度:\", cosine_similarity)"
   ]
  },
  {
   "attachments": {},
   "cell_type": "markdown",
   "metadata": {},
   "source": []
  }
 ],
 "metadata": {
  "kernelspec": {
   "display_name": "base",
   "language": "python",
   "name": "python3"
  },
  "language_info": {
   "codemirror_mode": {
    "name": "ipython",
    "version": 3
   },
   "file_extension": ".py",
   "mimetype": "text/x-python",
   "name": "python",
   "nbconvert_exporter": "python",
   "pygments_lexer": "ipython3",
   "version": "3.10.9"
  },
  "orig_nbformat": 4
 },
 "nbformat": 4,
 "nbformat_minor": 2
}
