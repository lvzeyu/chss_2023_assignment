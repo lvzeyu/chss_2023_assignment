{
 "cells": [
  {
   "attachments": {},
   "cell_type": "markdown",
   "metadata": {},
   "source": [
    "# 課題0628\n",
    "\n",
    "そのまま課題ファイルで編集しないでください。課題ファイルを複製してから課題を回答してください。"
   ]
  },
  {
   "attachments": {},
   "cell_type": "markdown",
   "metadata": {},
   "source": [
    "## 課題１\n",
    "\n",
    "- ```NumPy```を使って、最小二乗法で重回帰分析の係数を推定する関数を作成しよう。\n",
    "- 与えられたデータで実装して動作を確認せよ。"
   ]
  },
  {
   "cell_type": "code",
   "execution_count": 2,
   "metadata": {},
   "outputs": [
    {
     "name": "stdout",
     "output_type": "stream",
     "text": [
      "Requirement already satisfied: numpy in c:\\users\\harekaze\\anaconda3\\lib\\site-packages (1.23.5)\n"
     ]
    }
   ],
   "source": [
    "! pip install numpy"
   ]
  },
  {
   "cell_type": "code",
   "execution_count": 3,
   "metadata": {},
   "outputs": [],
   "source": [
    "import numpy as np"
   ]
  },
  {
   "cell_type": "code",
   "execution_count": 4,
   "metadata": {},
   "outputs": [],
   "source": [
    "#try1\n",
    "def get_PartialRegressionCoefficient(x,y):\n",
    "    #平均\n",
    "    x_mean = np.mean(x)\n",
    "    y_mean = np.mean(y)\n",
    "\n",
    "    #行列に変換\n",
    "    X_mat = np.array(x)\n",
    "    Y_mat = np.array(y)\n",
    "\n",
    "    # βの推定\n",
    "    b=np.dot(x.T,x)\n",
    "    bb=np.linalg.inv(b)\n",
    "    bbb=np.dot(x.T,y)\n",
    "    beta=np.dot(bb,bbb)\n",
    "    beta = np.array(beta)\n",
    "\n",
    "    print(\"beta: \", beta)\n",
    "\n",
    "    # αの推定\n",
    "    alpha = y_mean - sum(beta * x_mean)\n",
    "\n",
    "    print(\"alpha: \", alpha)\n",
    "\n"
   ]
  },
  {
   "cell_type": "code",
   "execution_count": 6,
   "metadata": {},
   "outputs": [],
   "source": [
    "#try2\n",
    "def get_PartialRegressionCoefficient1(x,y):\n",
    "    #平均\n",
    "    x_mean = np.mean(x)\n",
    "    y_mean = np.mean(y)\n",
    "\n",
    "    #行列に変換\n",
    "    X_mat = np.array(x)\n",
    "    Y_mat = np.array(y)\n",
    "\n",
    "    # βの推定\n",
    "    \n",
    "    b=x.T.dot(x)\n",
    "    bb=np.linalg.inv(b)\n",
    "    bbb=x.T.dot(y)\n",
    "    beta=np.dot(bb,bbb)\n",
    "\n",
    "    print(\"beta: \", beta)\n",
    "\n",
    "\n",
    "    # αの推定\n",
    "    alpha = y_mean - sum(beta * x_mean)\n",
    "\n",
    "    print(\"alpha: \", alpha)\n",
    "\n"
   ]
  },
  {
   "cell_type": "code",
   "execution_count": 5,
   "metadata": {},
   "outputs": [
    {
     "name": "stdout",
     "output_type": "stream",
     "text": [
      "Requirement already satisfied: sklearn in c:\\users\\harekaze\\anaconda3\\lib\\site-packages (0.0.post5)\n"
     ]
    }
   ],
   "source": [
    "# このコードを実行し、データの読み込み\n",
    "# もしsklearnがインストールされていない場合は、!pip install sklearnを実行してください\n",
    "! pip install sklearn\n",
    "from sklearn.datasets import load_iris\n",
    "iris = load_iris()\n",
    "# Irisデータセットをロード\n",
    "iris = load_iris()\n",
    "A = iris.data  # 説明変数のデータ\n",
    "X=np.delete(A, [1], axis=1)\n",
    "Y = iris.data[:, 1]  # 目的変数のデータ（がく片の幅）"
   ]
  },
  {
   "cell_type": "code",
   "execution_count": 9,
   "metadata": {},
   "outputs": [
    {
     "name": "stdout",
     "output_type": "stream",
     "text": [
      "beta:  [ 0.83778945 -0.66893846  0.55610531]\n",
      "alpha:  0.4473295770468808\n"
     ]
    }
   ],
   "source": [
    "# Yを従属変数、Xを独立変数として、線形回帰モデルを作成し、回帰係数を求める\n",
    "get_PartialRegressionCoefficient(X,Y)"
   ]
  },
  {
   "attachments": {},
   "cell_type": "markdown",
   "metadata": {},
   "source": [
    "## 課題2\n",
    "\n",
    "以下の指示に従ってクラスを作成してください。\n",
    "\n",
    "- クラスをインスタント化する際は二つ同じサイズの```ndarray```($v_1$と$v_2$)が渡されます\n",
    "- クラスに$v_1$と$v_2$が同じサイズであるかどうかを確認するメソッドを実装しよう\n",
    "- クラスに$v_1$が$v_2$に射影する結果を計算するメソッドを実装しよう\n",
    "- クラスに$v_1$と$v_2$のコサイン類似度を計算するメソッドを実装しよう"
   ]
  },
  {
   "cell_type": "code",
   "execution_count": 46,
   "metadata": {},
   "outputs": [],
   "source": [
    "class Vector:\n",
    "    import numpy as np\n",
    "\n",
    "    def __init__(self,x,y):\n",
    "        self.x=x\n",
    "        self.y=y\n",
    "\n",
    "\n",
    "    #size\n",
    "    def size_compare(self):\n",
    "        if self.x.size == self.y.size:\n",
    "            print(\"x and y are the same size\")\n",
    "        else:\n",
    "            print(\"not same\")\n",
    "                    \n",
    "    #射影\n",
    "    def projection(self):\n",
    "        return (np.dot(self.x,self.y)/np.dot(self.y,self.y))*self.y\n",
    "\n",
    "\n",
    "    #コサイン類似度\n",
    "    def cos_similerity(self):\n",
    "        return np.dot(self.x,self.y)/(np.sqrt(sum(self.x**2))*np.sqrt(sum(self.y**2)))\n",
    "        \n"
   ]
  },
  {
   "cell_type": "code",
   "execution_count": 47,
   "metadata": {},
   "outputs": [],
   "source": [
    "# 確認\n",
    "import numpy as np\n",
    "v1 = np.array([1, 2, 3])\n",
    "v2 = np.array([4, 5, 6])\n",
    "\n",
    "#インスタンス化\n",
    "aiu=Vector(x=v1,y=v2)"
   ]
  },
  {
   "cell_type": "code",
   "execution_count": 48,
   "metadata": {},
   "outputs": [
    {
     "name": "stdout",
     "output_type": "stream",
     "text": [
      "x and y are the same size\n"
     ]
    }
   ],
   "source": [
    "##確認\n",
    "aiu.size_compare()"
   ]
  },
  {
   "cell_type": "code",
   "execution_count": 49,
   "metadata": {},
   "outputs": [
    {
     "data": {
      "text/plain": [
       "array([1.66233766, 2.07792208, 2.49350649])"
      ]
     },
     "execution_count": 49,
     "metadata": {},
     "output_type": "execute_result"
    }
   ],
   "source": [
    "aiu.projection()"
   ]
  },
  {
   "cell_type": "code",
   "execution_count": 50,
   "metadata": {},
   "outputs": [
    {
     "data": {
      "text/plain": [
       "0.9746318461970762"
      ]
     },
     "execution_count": 50,
     "metadata": {},
     "output_type": "execute_result"
    }
   ],
   "source": [
    "aiu.cos_similerity()"
   ]
  },
  {
   "attachments": {},
   "cell_type": "markdown",
   "metadata": {},
   "source": []
  }
 ],
 "metadata": {
  "kernelspec": {
   "display_name": "base",
   "language": "python",
   "name": "python3"
  },
  "language_info": {
   "codemirror_mode": {
    "name": "ipython",
    "version": 3
   },
   "file_extension": ".py",
   "mimetype": "text/x-python",
   "name": "python",
   "nbconvert_exporter": "python",
   "pygments_lexer": "ipython3",
   "version": "3.10.9"
  },
  "orig_nbformat": 4
 },
 "nbformat": 4,
 "nbformat_minor": 2
}
