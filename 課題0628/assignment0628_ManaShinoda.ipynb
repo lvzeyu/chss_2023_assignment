{
 "cells": [
  {
   "attachments": {},
   "cell_type": "markdown",
   "metadata": {},
   "source": [
    "# 課題0628\n",
    "\n",
    "そのまま課題ファイルで編集しないでください。課題ファイルを複製してから課題を回答してください。"
   ]
  },
  {
   "attachments": {},
   "cell_type": "markdown",
   "metadata": {},
   "source": [
    "## 課題１\n",
    "\n",
    "- ```NumPy```を使って、最小二乗法で重回帰分析の係数を推定する関数を作成しよう。\n",
    "- 与えられたデータで実装して動作を確認せよ。"
   ]
  },
  {
   "cell_type": "code",
   "execution_count": null,
   "metadata": {},
   "outputs": [],
   "source": [
    "!pip install numpy\n",
    "!pip install scikit-learn"
   ]
  },
  {
   "cell_type": "code",
   "execution_count": 23,
   "metadata": {},
   "outputs": [],
   "source": [
    "from sklearn.datasets import load_iris\n",
    "import numpy as np\n",
    "\n",
    "def get_PartialRegressionCoefficient(X, Y):\n",
    "    ones_column = np.ones((X.shape[0], 1))\n",
    "    X = np.concatenate((ones_column, X), axis=1)\n",
    "\n",
    "    # 重回帰分析の係数を計算\n",
    "    coefficients = np.linalg.inv(X.T @ X) @ X.T @ Y\n",
    "\n",
    "    return coefficients\n",
    "\n",
    "# Irisデータセットをロード\n",
    "iris = load_iris()\n",
    "X = iris.data  # 説明変数のデータ\n",
    "Y = iris.data[:, 0]  # 目的変数のデータ（がく片の長さ）\n",
    "\n",
    "# 重回帰分析の係数を計算\n",
    "coefficients = get_PartialRegressionCoefficient(X, Y)"
   ]
  },
  {
   "attachments": {},
   "cell_type": "markdown",
   "metadata": {},
   "source": [
    "## 課題2\n",
    "\n",
    "以下の指示に従ってクラスを作成してください。\n",
    "\n",
    "- クラスをインスタント化する際は二つ同じサイズの```ndarray```($v_1$と$v_2$)が渡されます\n",
    "- クラスに$v_1$と$v_2$が同じサイズであるかどうかを確認するメソッドを実装しよう\n",
    "- クラスに$v_1$が$v_2$に射影する結果を計算するメソッドを実装しよう\n",
    "- クラスに$v_1$と$v_2$のコサイン類似度を計算するメソッドを実装しよう"
   ]
  },
  {
   "cell_type": "code",
   "execution_count": 24,
   "metadata": {},
   "outputs": [],
   "source": [
    "import numpy as np\n",
    "\n",
    "class Vector:\n",
    "    def __init__(self, v1, v2):\n",
    "        self.v1 = v1\n",
    "        self.v2 = v2\n",
    "\n",
    "    def check_size(self):\n",
    "        if self.v1.shape == self.v2.shape:\n",
    "            return True\n",
    "        else:\n",
    "            return False\n",
    "\n",
    "    def projection(self):\n",
    "        if not self.check_size():\n",
    "            print(\"Error: v1 and v2 must have the same size.\")\n",
    "            return None\n",
    "\n",
    "        dot_product = np.dot(self.v1, self.v2)\n",
    "        magnitude_squared = np.dot(self.v2, self.v2)\n",
    "\n",
    "        projection_vector = (dot_product / magnitude_squared) * self.v2\n",
    "        return projection_vector\n",
    "\n",
    "    def cosine_similarity(self):\n",
    "        if not self.check_size():\n",
    "            print(\"Error: v1 and v2 must have the same size.\")\n",
    "            return None\n",
    "\n",
    "        dot_product = np.dot(self.v1, self.v2)\n",
    "        magnitude_v1 = np.linalg.norm(self.v1)\n",
    "        magnitude_v2 = np.linalg.norm(self.v2)\n",
    "\n",
    "        cosine_similarity = dot_product / (magnitude_v1 * magnitude_v2)\n",
    "        return cosine_similarity"
   ]
  },
  {
   "cell_type": "code",
   "execution_count": 25,
   "metadata": {},
   "outputs": [
    {
     "name": "stdout",
     "output_type": "stream",
     "text": [
      "Projection: [1.66233766 2.07792208 2.49350649]\n",
      "Cosine Similarity: 0.9746318461970762\n"
     ]
    }
   ],
   "source": [
    "# 確認\n",
    "\n",
    "\n",
    "import numpy as np\n",
    "v1 = np.array([1, 2, 3])\n",
    "v2 = np.array([4, 5, 6])\n",
    "\n",
    "vector = Vector(v1, v2)\n",
    "\n",
    "if vector.check_size():\n",
    "    projection_result = vector.projection()\n",
    "    cosine_similarity = vector.cosine_similarity()\n",
    "    print(\"Projection:\", projection_result)\n",
    "    print(\"Cosine Similarity:\", cosine_similarity)\n",
    "else:\n",
    "    print(\"Error: v1 and v2 must have the same size.\")"
   ]
  },
  {
   "attachments": {},
   "cell_type": "markdown",
   "metadata": {},
   "source": []
  }
 ],
 "metadata": {
  "kernelspec": {
   "display_name": "base",
   "language": "python",
   "name": "python3"
  },
  "language_info": {
   "codemirror_mode": {
    "name": "ipython",
    "version": 3
   },
   "file_extension": ".py",
   "mimetype": "text/x-python",
   "name": "python",
   "nbconvert_exporter": "python",
   "pygments_lexer": "ipython3",
   "version": "3.11.3"
  },
  "orig_nbformat": 4
 },
 "nbformat": 4,
 "nbformat_minor": 2
}
