{
 "cells": [
  {
   "attachments": {},
   "cell_type": "markdown",
   "metadata": {},
   "source": [
    "# 課題0531\n",
    "\n",
    "そのまま課題ファイルで編集しないでください。課題ファイルを複製してから課題を回答してください。"
   ]
  },
  {
   "attachments": {},
   "cell_type": "markdown",
   "metadata": {},
   "source": [
    "## 課題1\n",
    "\n",
    "被除数と除数を指定し、割り算の結果を計算する関数を作成してください。\n",
    "- 余りがない場合、商だけを返します。\n",
    "- 余りがある場合、商と余りを返します。\n",
    "- 計算不可能の場合、「計算できません」というエラーを表示してください"
   ]
  },
  {
   "cell_type": "code",
   "execution_count": 36,
   "metadata": {},
   "outputs": [
    {
     "name": "stdout",
     "output_type": "stream",
     "text": [
      "('商', 1, '余り', 2)\n"
     ]
    }
   ],
   "source": [
    "def warizan(x, y):\n",
    "    try:\n",
    "        if x%y == 0:\n",
    "            return \"商\", x//y\n",
    "        else:\n",
    "            return \"商\", x//y , \"余り\", x%y    \n",
    "\n",
    "    except:\n",
    "        return\"計算できません\"\n",
    "\n",
    "print(warizan(5,3))"
   ]
  },
  {
   "cell_type": "code",
   "execution_count": null,
   "metadata": {},
   "outputs": [],
   "source": [
    "def warizan(x, y):\n",
    "    try:\n",
    "        if x%y == 0:\n",
    "            print(\"商\", x//y)\n",
    "        else:\n",
    "            print(\"商\", x//y, \"余り\", x%y)    \n",
    "\n",
    "    except:\n",
    "        print(\"計算できません\")\n",
    "\n",
    "warizan(5,0)"
   ]
  },
  {
   "attachments": {},
   "cell_type": "markdown",
   "metadata": {},
   "source": [
    "## 課題2\n",
    "\n",
    "ユークリッドの互除法の関数を作成してください。\n",
    "\n",
    "ユークリッドの互除法とは、2つの整数、aとbの最大公約数を求めるアルゴリズムです。例えば、2485と1162の最大公約数を求めたい場合\n",
    "\n",
    "$2485 \\div 1162 = 2 余り 161$ \n",
    "\n",
    "$1162 \\div 161 = 7 余り 35$ \n",
    "\n",
    "$161 \\div 35 = 4 余り 21$ \n",
    "\n",
    "$35 \\div 21 = 1 余り 14$\n",
    "\n",
    "$21 \\div 14 = 1 余り 7$\n",
    "\n",
    "$14 \\div 7 = 2 余り 0$\n",
    "\n",
    "割る数と余りを次回の割られる数と割る数にして、次々と計算し、最後に割り切れたら終わりで、最後の割る数が最大公約数です。\n",
    "\n",
    "\n",
    "- 除数が$0$によるエラーを制御してください。\n",
    "- 引数に渡す値の大小関係を考慮してください。除数が被除数より大きい場合は、自動的に値を入れ替えてください。\n"
   ]
  },
  {
   "cell_type": "code",
   "execution_count": 27,
   "metadata": {},
   "outputs": [],
   "source": [
    "def gozyohou(a, b):\n",
    "    if b == 0:\n",
    "        return \"計算できません\"\n",
    "    else:\n",
    "        while  b != 0:\n",
    "          if a > b:\n",
    "            a, b = b, a%b\n",
    "          else:\n",
    "            a, b = b, b%a\n",
    "    return a"
   ]
  },
  {
   "cell_type": "code",
   "execution_count": 28,
   "metadata": {},
   "outputs": [
    {
     "name": "stdout",
     "output_type": "stream",
     "text": [
      "7\n"
     ]
    }
   ],
   "source": [
    "#テスト用データ\n",
    "a = 2485\n",
    "b = 1162\n",
    "print(gozyohou(2485, 1162))"
   ]
  },
  {
   "cell_type": "code",
   "execution_count": 29,
   "metadata": {},
   "outputs": [
    {
     "name": "stdout",
     "output_type": "stream",
     "text": [
      "計算できません\n"
     ]
    }
   ],
   "source": [
    "#テスト用データ\n",
    "a = 2485\n",
    "b = 0\n",
    "print(gozyohou(2485, 0))"
   ]
  },
  {
   "cell_type": "code",
   "execution_count": 30,
   "metadata": {},
   "outputs": [
    {
     "name": "stdout",
     "output_type": "stream",
     "text": [
      "7\n"
     ]
    }
   ],
   "source": [
    "#テスト用データ\n",
    "a = 1162\n",
    "b = 2485\n",
    "print(gozyohou(1162,2485))"
   ]
  },
  {
   "attachments": {},
   "cell_type": "markdown",
   "metadata": {},
   "source": [
    "## 課題3\n",
    "\n",
    "入れ子になったリストを平らにしててくだい。\n",
    "\n",
    "できるだけ授業中で説明した多重な```if-else```以外の方法で解答してください。"
   ]
  },
  {
   "cell_type": "code",
   "execution_count": 1,
   "metadata": {},
   "outputs": [],
   "source": [
    "list1=[1, [2, 3], [4, [5]]]"
   ]
  },
  {
   "cell_type": "code",
   "execution_count": 5,
   "metadata": {},
   "outputs": [
    {
     "name": "stdout",
     "output_type": "stream",
     "text": [
      "[1, 2, 3, 4, 5]\n"
     ]
    }
   ],
   "source": [
    "def flatten(list1):\n",
    "    result = []\n",
    "    for item in list1:\n",
    "        if isinstance(item, list):\n",
    "            result.extend(flatten(item))\n",
    "        else:\n",
    "            result.append(item)\n",
    "    return result\n",
    "print(flatten(list1))  #自力で授業以外の方法を思いつけなかったので調べて書きました"
   ]
  }
 ],
 "metadata": {
  "kernelspec": {
   "display_name": "Python 3",
   "language": "python",
   "name": "python3"
  },
  "language_info": {
   "codemirror_mode": {
    "name": "ipython",
    "version": 3
   },
   "file_extension": ".py",
   "mimetype": "text/x-python",
   "name": "python",
   "nbconvert_exporter": "python",
   "pygments_lexer": "ipython3",
   "version": "3.11.4"
  },
  "orig_nbformat": 4
 },
 "nbformat": 4,
 "nbformat_minor": 2
}
