{
 "cells": [
  {
   "attachments": {},
   "cell_type": "markdown",
   "metadata": {},
   "source": [
    "# 課題0531\n",
    "\n",
    "そのまま課題ファイルで編集しないでください。課題ファイルを複製してから課題を回答してください。"
   ]
  },
  {
   "attachments": {},
   "cell_type": "markdown",
   "metadata": {},
   "source": [
    "## 課題1\n",
    "\n",
    "被除数と除数を指定し、割り算の結果を計算する関数を作成してください。\n",
    "- 余りがない場合、商だけを返します。\n",
    "- 余りがある場合、商と余りを返します。\n",
    "- 計算不可能の場合、「計算できません」というエラーを表示してください"
   ]
  },
  {
   "cell_type": "code",
   "execution_count": 11,
   "metadata": {},
   "outputs": [],
   "source": [
    "def division(a,b):\n",
    "    if a % b == 0:\n",
    "        print(a//b)\n",
    "    elif a % b != 0:\n",
    "        c = a//b\n",
    "        d = a%b\n",
    "        print(c,d)\n",
    "    else:\n",
    "        print(\"計算できません\")\n",
    "\n",
    " "
   ]
  },
  {
   "cell_type": "code",
   "execution_count": 5,
   "metadata": {},
   "outputs": [
    {
     "name": "stdout",
     "output_type": "stream",
     "text": [
      "2.0\n"
     ]
    }
   ],
   "source": [
    "division(10,5)"
   ]
  },
  {
   "cell_type": "code",
   "execution_count": 12,
   "metadata": {},
   "outputs": [
    {
     "name": "stdout",
     "output_type": "stream",
     "text": [
      "2 2\n"
     ]
    }
   ],
   "source": [
    "division(10,4)"
   ]
  },
  {
   "attachments": {},
   "cell_type": "markdown",
   "metadata": {},
   "source": [
    "## 課題2\n",
    "\n",
    "ユークリッドの互除法の関数を作成してください。\n",
    "\n",
    "ユークリッドの互除法とは、2つの整数、aとbの最大公約数を求めるアルゴリズムです。例えば、2485と1162の最大公約数を求めたい場合\n",
    "\n",
    "$2485 \\div 1162 = 2 余り 161$ \n",
    "\n",
    "$1162 \\div 161 = 7 余り 35$ \n",
    "\n",
    "$161 \\div 35 = 4 余り 21$ \n",
    "\n",
    "$35 \\div 21 = 1 余り 14$\n",
    "\n",
    "$21 \\div 14 = 1 余り 7$\n",
    "\n",
    "$14 \\div 7 = 2 余り 0$\n",
    "\n",
    "割る数と余りを次回の割られる数と割る数にして、次々と計算し、最後に割り切れたら終わりで、最後の割る数が最大公約数です。\n",
    "\n",
    "\n",
    "- 除数が$0$によるエラーを制御してください。\n",
    "- 引数に渡す値の大小関係を考慮してください。除数が被除数より大きい場合は、自動的に値を入れ替えてください。\n"
   ]
  },
  {
   "cell_type": "code",
   "execution_count": 43,
   "metadata": {},
   "outputs": [],
   "source": [
    "def euglit(a,b):\n",
    "    if a%b == 0:\n",
    "        return b\n",
    "    else:\n",
    "         return euglit(b,a%b)"
   ]
  },
  {
   "cell_type": "code",
   "execution_count": 44,
   "metadata": {},
   "outputs": [
    {
     "name": "stdout",
     "output_type": "stream",
     "text": [
      "7\n"
     ]
    }
   ],
   "source": [
    "print(euglit(2485, 1162))"
   ]
  },
  {
   "attachments": {},
   "cell_type": "markdown",
   "metadata": {},
   "source": [
    "## 課題3\n",
    "\n",
    "入れ子になったリストを平らにしててくだい。\n",
    "\n",
    "できるだけ授業中で説明した多重な```if-else```以外の方法で解答してください。"
   ]
  },
  {
   "cell_type": "code",
   "execution_count": 50,
   "metadata": {},
   "outputs": [],
   "source": [
    "list1=[1, [2, 3], [4, [5]]]\n",
    "\n",
    "new_list=[]\n",
    "for i in list1:\n",
    "    if type(i) == list:\n",
    "        for j in i:\n",
    "            if type(j) == list:\n",
    "                for m in j :\n",
    "                    new_list.append(m)\n",
    "            else:\n",
    "                new_list.append(j)\n",
    "    else:\n",
    "        new_list.append(i)\n",
    "\n"
   ]
  },
  {
   "cell_type": "code",
   "execution_count": 61,
   "metadata": {},
   "outputs": [],
   "source": [
    "list1=[1, [2, 3], [4, [5]]]\n",
    "\n",
    "new_list=[]\n",
    "def nest(a):\n",
    "    for i in list1:\n",
    "        if type(i) == list:\n",
    "            return nest(i)\n",
    "    else:\n",
    "        return new_list.append(j)"
   ]
  },
  {
   "cell_type": "code",
   "execution_count": 62,
   "metadata": {},
   "outputs": [
    {
     "ename": "RecursionError",
     "evalue": "maximum recursion depth exceeded while calling a Python object",
     "output_type": "error",
     "traceback": [
      "\u001b[0;31m---------------------------------------------------------------------------\u001b[0m",
      "\u001b[0;31mRecursionError\u001b[0m                            Traceback (most recent call last)",
      "Cell \u001b[0;32mIn[62], line 1\u001b[0m\n\u001b[0;32m----> 1\u001b[0m nest(list1)\n",
      "Cell \u001b[0;32mIn[61], line 7\u001b[0m, in \u001b[0;36mnest\u001b[0;34m(a)\u001b[0m\n\u001b[1;32m      5\u001b[0m \u001b[39mfor\u001b[39;00m i \u001b[39min\u001b[39;00m list1:\n\u001b[1;32m      6\u001b[0m     \u001b[39mif\u001b[39;00m \u001b[39mtype\u001b[39m(i) \u001b[39m==\u001b[39m \u001b[39mlist\u001b[39m:\n\u001b[0;32m----> 7\u001b[0m         \u001b[39mreturn\u001b[39;00m nest(i)\n\u001b[1;32m      8\u001b[0m \u001b[39melse\u001b[39;00m:\n\u001b[1;32m      9\u001b[0m     \u001b[39mreturn\u001b[39;00m new_list\u001b[39m.\u001b[39mappend(j)\n",
      "Cell \u001b[0;32mIn[61], line 7\u001b[0m, in \u001b[0;36mnest\u001b[0;34m(a)\u001b[0m\n\u001b[1;32m      5\u001b[0m \u001b[39mfor\u001b[39;00m i \u001b[39min\u001b[39;00m list1:\n\u001b[1;32m      6\u001b[0m     \u001b[39mif\u001b[39;00m \u001b[39mtype\u001b[39m(i) \u001b[39m==\u001b[39m \u001b[39mlist\u001b[39m:\n\u001b[0;32m----> 7\u001b[0m         \u001b[39mreturn\u001b[39;00m nest(i)\n\u001b[1;32m      8\u001b[0m \u001b[39melse\u001b[39;00m:\n\u001b[1;32m      9\u001b[0m     \u001b[39mreturn\u001b[39;00m new_list\u001b[39m.\u001b[39mappend(j)\n",
      "    \u001b[0;31m[... skipping similar frames: nest at line 7 (2969 times)]\u001b[0m\n",
      "Cell \u001b[0;32mIn[61], line 7\u001b[0m, in \u001b[0;36mnest\u001b[0;34m(a)\u001b[0m\n\u001b[1;32m      5\u001b[0m \u001b[39mfor\u001b[39;00m i \u001b[39min\u001b[39;00m list1:\n\u001b[1;32m      6\u001b[0m     \u001b[39mif\u001b[39;00m \u001b[39mtype\u001b[39m(i) \u001b[39m==\u001b[39m \u001b[39mlist\u001b[39m:\n\u001b[0;32m----> 7\u001b[0m         \u001b[39mreturn\u001b[39;00m nest(i)\n\u001b[1;32m      8\u001b[0m \u001b[39melse\u001b[39;00m:\n\u001b[1;32m      9\u001b[0m     \u001b[39mreturn\u001b[39;00m new_list\u001b[39m.\u001b[39mappend(j)\n",
      "Cell \u001b[0;32mIn[61], line 6\u001b[0m, in \u001b[0;36mnest\u001b[0;34m(a)\u001b[0m\n\u001b[1;32m      4\u001b[0m \u001b[39mdef\u001b[39;00m \u001b[39mnest\u001b[39m(a):\n\u001b[1;32m      5\u001b[0m     \u001b[39mfor\u001b[39;00m i \u001b[39min\u001b[39;00m list1:\n\u001b[0;32m----> 6\u001b[0m         \u001b[39mif\u001b[39;00m \u001b[39mtype\u001b[39;49m(i) \u001b[39m==\u001b[39m \u001b[39mlist\u001b[39m:\n\u001b[1;32m      7\u001b[0m             \u001b[39mreturn\u001b[39;00m nest(i)\n\u001b[1;32m      8\u001b[0m     \u001b[39melse\u001b[39;00m:\n",
      "\u001b[0;31mRecursionError\u001b[0m: maximum recursion depth exceeded while calling a Python object"
     ]
    }
   ],
   "source": [
    "nest(list1)"
   ]
  }
 ],
 "metadata": {
  "kernelspec": {
   "display_name": "Python 3",
   "language": "python",
   "name": "python3"
  },
  "language_info": {
   "codemirror_mode": {
    "name": "ipython",
    "version": 3
   },
   "file_extension": ".py",
   "mimetype": "text/x-python",
   "name": "python",
   "nbconvert_exporter": "python",
   "pygments_lexer": "ipython3",
   "version": "3.8.9"
  },
  "orig_nbformat": 4
 },
 "nbformat": 4,
 "nbformat_minor": 2
}
