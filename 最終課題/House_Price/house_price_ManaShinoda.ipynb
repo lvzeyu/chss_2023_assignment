{
  "cells": [
    {
      "cell_type": "markdown",
      "metadata": {
        "id": "ohm_fJwCiZmq"
      },
      "source": [
        "# House Price Prediction\n",
        "\n",
        "```Data/house_price.csv```には、住宅の価格(```SalePrice```)と住宅の関連情報が格納されています。\n",
        "\n",
        "- このデータを用いて、住宅の価格(```SalePrice```)を予測するモデルを構築、評価しなさい。\n",
        "- データ中身を確認しながら、適切な特徴量エンジニアリングやモデル選定ための考えもまとめてください。"
      ]
    },
    {
      "cell_type": "markdown",
      "metadata": {
        "id": "FgucQpDFiZmu"
      },
      "source": []
    },
    {
      "cell_type": "code",
      "execution_count": null,
      "metadata": {
        "vscode": {
          "languageId": "plaintext"
        },
        "id": "9Gy2TIb1iZmu"
      },
      "outputs": [],
      "source": [
        "import pandas as pd\n",
        "data = pd.read_csv('Data/house_price.csv')\n",
        "\n",
        "# 最初の数行を表示して確認\n",
        "print(data.head())"
      ]
    },
    {
      "cell_type": "code",
      "source": [
        "from sklearn.model_selection import train_test_split\n",
        "from sklearn.ensemble import RandomForestRegressor\n",
        "from sklearn.metrics import mean_squared_error, r2_score\n",
        "from sklearn.impute import SimpleImputer\n",
        "\n",
        "# カテゴリカル特徴量を数値に変換\n",
        "data_encoded = pd.get_dummies(data)\n",
        "\n",
        "# 欠損値を平均値で補完\n",
        "imputer = SimpleImputer(strategy='mean')\n",
        "data_imputed = imputer.fit_transform(data_encoded)\n",
        "\n",
        "# Numpy配列からDataFrameに戻す\n",
        "data_imputed = pd.DataFrame(data_imputed, columns=data_encoded.columns)\n",
        "\n",
        "# 特徴量とターゲット変数を分割\n",
        "X = data_imputed.drop('SalePrice', axis=1)\n",
        "y = data_imputed['SalePrice']\n",
        "\n",
        "# データを訓練用とテスト用に分割\n",
        "X_train, X_test, y_train, y_test = train_test_split(X, y, test_size=0.2, random_state=42)\n",
        "\n",
        "# ランダムフォレストモデルの構築と訓練\n",
        "rf_model = RandomForestRegressor(random_state=42)\n",
        "rf_model.fit(X_train, y_train)"
      ],
      "metadata": {
        "id": "fIvEVpo5ifUt"
      },
      "execution_count": null,
      "outputs": []
    },
    {
      "cell_type": "code",
      "source": [
        "# テストデータに対する予測\n",
        "y_pred = rf_model.predict(X_test)\n",
        "\n",
        "# 平均二乗誤差（Mean Squared Error）\n",
        "mse = mean_squared_error(y_test, y_pred)\n",
        "print(f'Mean Squared Error: {mse}')\n",
        "\n",
        "#決定係数（R-squared）\n",
        "r2 = r2_score(y_test, y_pred)\n",
        "print(f'R-squared: {r2}')"
      ],
      "metadata": {
        "id": "Xvdyag49iio7"
      },
      "execution_count": null,
      "outputs": []
    },
    {
      "cell_type": "code",
      "source": [
        "!pip install matplotlib\n",
        "import matplotlib.pyplot as plt\n",
        "plt.scatter(y_test, y_pred)\n",
        "plt.plot([min(y_test), max(y_test)], [min(y_test), max(y_test)], linestyle='--', color='red', label='Regression Line')\n",
        "plt.xlabel('Actual Prices')\n",
        "plt.ylabel('Predicted Prices')\n",
        "plt.legend()\n",
        "plt.show()\n",
        "\n",
        "#【考えのまとめ】予想される住宅価格と実際の住宅価格がほぼ一致している。このモデルの決定係数は、0.889であることから、適合度が高いと言える。"
      ],
      "metadata": {
        "id": "rDEty3pRilGh"
      },
      "execution_count": null,
      "outputs": []
    }
  ],
  "metadata": {
    "language_info": {
      "name": "python"
    },
    "orig_nbformat": 4,
    "colab": {
      "provenance": []
    }
  },
  "nbformat": 4,
  "nbformat_minor": 0
}