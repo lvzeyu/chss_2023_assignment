{
 "cells": [
  {
   "attachments": {},
   "cell_type": "markdown",
   "metadata": {},
   "source": [
    "# House Price Prediction\n",
    "\n",
    "```Data/house_price.csv```には、住宅の価格(```SalePrice```)と住宅の関連情報が格納されています。\n",
    "\n",
    "- このデータを用いて、住宅の価格(```SalePrice```)を予測するモデルを構築、評価しなさい。\n",
    "- データ中身を確認しながら、適切な特徴量エンジニアリングやモデル選定ための考えもまとめてください。"
   ]
  },
  {
   "attachments": {},
   "cell_type": "markdown",
   "metadata": {},
   "source": []
  }
 ],
 "metadata": {
  "language_info": {
   "name": "python"
  },
  "orig_nbformat": 4
 },
 "nbformat": 4,
 "nbformat_minor": 2
}
