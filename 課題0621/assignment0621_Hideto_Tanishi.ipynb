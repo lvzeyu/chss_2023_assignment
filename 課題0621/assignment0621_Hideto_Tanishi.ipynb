{
  "cells": [
    {
      "cell_type": "markdown",
      "metadata": {
        "id": "uAgd8KEFUMRy"
      },
      "source": [
        "# 課題0621\n",
        "\n",
        "そのまま課題ファイルで編集しないでください。課題ファイルを複製してから課題を回答してください。"
      ]
    },
    {
      "cell_type": "markdown",
      "metadata": {
        "id": "d3hi2S6GUMR2"
      },
      "source": [
        "## 課題1\n",
        "\n",
        "```Person.py```から```Person```クラスと```Address```をインポートしてください。"
      ]
    },
    {
      "cell_type": "code",
      "source": [
        "from google.colab import drive\n",
        "drive.mount('/content/drive')"
      ],
      "metadata": {
        "colab": {
          "base_uri": "https://localhost:8080/"
        },
        "id": "pKSKo9FdqnD3",
        "outputId": "63c81660-a9fd-4e6b-c3c9-f7a0ba34bdb0"
      },
      "execution_count": null,
      "outputs": [
        {
          "output_type": "stream",
          "name": "stdout",
          "text": [
            "Drive already mounted at /content/drive; to attempt to forcibly remount, call drive.mount(\"/content/drive\", force_remount=True).\n"
          ]
        }
      ]
    },
    {
      "cell_type": "code",
      "execution_count": null,
      "metadata": {
        "colab": {
          "base_uri": "https://localhost:8080/"
        },
        "id": "G9T5TXkUUMR2",
        "outputId": "e9113090-9b15-493b-cee0-0eaec2abf6a8"
      },
      "outputs": [
        {
          "output_type": "stream",
          "name": "stdout",
          "text": [
            "/content\n",
            "/env/python\n",
            "/usr/lib/python310.zip\n",
            "/usr/lib/python3.10\n",
            "/usr/lib/python3.10/lib-dynload\n",
            "\n",
            "/usr/local/lib/python3.10/dist-packages\n",
            "/usr/lib/python3/dist-packages\n",
            "/usr/local/lib/python3.10/dist-packages/IPython/extensions\n",
            "/root/.ipython\n"
          ]
        }
      ],
      "source": [
        "import sys\n",
        "for place in sys.path:\n",
        "    print(place)"
      ]
    },
    {
      "cell_type": "code",
      "source": [
        "%cd \"/content/drive/My Drive/課題0621\""
      ],
      "metadata": {
        "colab": {
          "base_uri": "https://localhost:8080/"
        },
        "id": "8oN5gAeObASw",
        "outputId": "3b15877d-a4b7-4e8b-8b45-d5dc77f5c7cc"
      },
      "execution_count": null,
      "outputs": [
        {
          "output_type": "stream",
          "name": "stdout",
          "text": [
            "/content/drive/My Drive/課題0621\n"
          ]
        }
      ]
    },
    {
      "cell_type": "code",
      "source": [
        "from Person import Person\n",
        "from Person import Address"
      ],
      "metadata": {
        "id": "oiR1kGwvaxeW"
      },
      "execution_count": null,
      "outputs": []
    },
    {
      "cell_type": "markdown",
      "metadata": {
        "id": "eEdFetS5UMR2"
      },
      "source": [
        "## 課題2\n",
        "\n",
        "Jupyter Notebookで```Person.py```を実行してください。"
      ]
    },
    {
      "cell_type": "code",
      "execution_count": null,
      "metadata": {
        "colab": {
          "base_uri": "https://localhost:8080/"
        },
        "id": "P39lPYkZUMR3",
        "outputId": "8db18b25-e24b-45f8-c051-6fda18a1e4c5"
      },
      "outputs": [
        {
          "output_type": "stream",
          "name": "stdout",
          "text": [
            "Hello, my name is John Doe\n",
            "Hello, my name is Jane Smith\n"
          ]
        }
      ],
      "source": [
        "%run Person.py"
      ]
    },
    {
      "cell_type": "markdown",
      "metadata": {
        "id": "rZod9LYNUMR3"
      },
      "source": [
        "## 課題3\n",
        "\n",
        "```Person```クラスを継承する```Employee```というクラスを作成してください。\n",
        "\n",
        "- ```Employee```クラスでは、```Person```クラスから継承した```name```と```age```の属性に加えて、```employee_id```という属性が追加されています。\n",
        "- ```Employee```クラスに```Address```に関するインスタントを集約してください。(適当な値を渡してください)\n",
        "- ```name```、```age```、```employee_id```と住所をプリントする```display_employee_info()```というメソッドを```Employee```クラスに追加してください。\n",
        "- ```Employee```をインスタント化にして、```display_employee_info()```メソッドを呼び出し、テストしてください。"
      ]
    },
    {
      "cell_type": "code",
      "source": [
        "class Employee(Person):\n",
        "  def __init__(self, name, birth, employee_id, address=None, current_year=2023):\n",
        "     super().__init__(name, birth, current_year)\n",
        "     self.employee_id = employee_id\n",
        "     self.address = address\n",
        "\n",
        "  def display_employee_info(self):\n",
        "    print(\"{}は{}歳で従業員番号は{}です.住所は{}です.\".format(self.name, self.age(), self.employee_id, self.address.get_full_address()))"
      ],
      "metadata": {
        "id": "reX0t4eNfrdb"
      },
      "execution_count": null,
      "outputs": []
    },
    {
      "cell_type": "code",
      "source": [
        "address = Address(\"宮城県\", \"仙台市\", \"青葉区川内27番1号\")"
      ],
      "metadata": {
        "id": "Mw2Cu4UfoAjV"
      },
      "execution_count": null,
      "outputs": []
    },
    {
      "cell_type": "code",
      "source": [
        "sato = Employee(name=\"佐藤\", birth = 2000, employee_id=123, address=address)\n",
        "sato.display_employee_info()"
      ],
      "metadata": {
        "colab": {
          "base_uri": "https://localhost:8080/"
        },
        "id": "ZJAiFBvPirOm",
        "outputId": "dce38778-d2b8-4fea-bedb-3980ce275dcc"
      },
      "execution_count": null,
      "outputs": [
        {
          "output_type": "stream",
          "name": "stdout",
          "text": [
            "佐藤は23歳で従業員番号は123です.住所は('宮城県', '仙台市', '青葉区川内27番1号')です.\n"
          ]
        }
      ]
    },
    {
      "cell_type": "markdown",
      "metadata": {
        "id": "n0JrmH5jUMR3"
      },
      "source": []
    }
  ],
  "metadata": {
    "kernelspec": {
      "display_name": "base",
      "language": "python",
      "name": "python3"
    },
    "language_info": {
      "codemirror_mode": {
        "name": "ipython",
        "version": 3
      },
      "file_extension": ".py",
      "mimetype": "text/x-python",
      "name": "python",
      "nbconvert_exporter": "python",
      "pygments_lexer": "ipython3",
      "version": "3.9.7"
    },
    "orig_nbformat": 4,
    "colab": {
      "provenance": [],
      "toc_visible": true
    }
  },
  "nbformat": 4,
  "nbformat_minor": 0
}