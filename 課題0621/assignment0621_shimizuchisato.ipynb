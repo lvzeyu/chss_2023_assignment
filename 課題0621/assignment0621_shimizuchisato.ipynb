{
 "cells": [
  {
   "attachments": {},
   "cell_type": "markdown",
   "metadata": {},
   "source": [
    "# 課題0621\n",
    "\n",
    "そのまま課題ファイルで編集しないでください。課題ファイルを複製してから課題を回答してください。"
   ]
  },
  {
   "attachments": {},
   "cell_type": "markdown",
   "metadata": {},
   "source": [
    "## 課題1\n",
    "\n",
    "```Person.py```から```Person```クラスと```Address```をインポートしてください。"
   ]
  },
  {
   "cell_type": "code",
   "execution_count": 3,
   "metadata": {},
   "outputs": [],
   "source": [
    "from Person import Person, Address"
   ]
  },
  {
   "attachments": {},
   "cell_type": "markdown",
   "metadata": {},
   "source": [
    "## 課題2\n",
    "\n",
    "Jupyter Notebookで```Person.py```を実行してください。"
   ]
  },
  {
   "cell_type": "code",
   "execution_count": 4,
   "metadata": {},
   "outputs": [
    {
     "name": "stdout",
     "output_type": "stream",
     "text": [
      "Hello, my name is John Doe\n",
      "Hello, my name is Jane Smith\n"
     ]
    }
   ],
   "source": [
    "%run Person.py #よく分かりませんでした"
   ]
  },
  {
   "attachments": {},
   "cell_type": "markdown",
   "metadata": {},
   "source": [
    "## 課題3\n",
    "\n",
    "```Person```クラスを継承する```Employee```というクラスを作成してください。\n",
    "\n",
    "- ```Employee```クラスでは、```Person```クラスから継承した```name```と```age```の属性に加えて、```employee_id```という属性が追加されています。\n",
    "- ```Employee```クラスに```Address```に関するインスタントを集約してください。(適当な値を渡してください)\n",
    "- ```name```、```age```、```employee_id```と住所をプリントする```display_employee_info()```というメソッドを```Employee```クラスに追加してください。\n",
    "- ```Employee```をインスタント化にして、```display_employee_info()```メソッドを呼び出し、テストしてください。"
   ]
  },
  {
   "cell_type": "code",
   "execution_count": 13,
   "metadata": {},
   "outputs": [
    {
     "data": {
      "text/plain": [
       "\"Name: 佐藤, Age: 23, employee_id: 100, Address: ('宮城県', '仙台市', '青葉区川内27番1号')\""
      ]
     },
     "execution_count": 13,
     "metadata": {},
     "output_type": "execute_result"
    }
   ],
   "source": [
    "class Employee(Person):\n",
    "    def __init__(self, name, birth, employee_id, address=None):\n",
    "        super().__init__(name, birth)\n",
    "        self.employee_id = employee_id\n",
    "        self.address = address\n",
    "        \n",
    "    def display_employee_info(self):\n",
    "        address_info = self.address.get_full_address()\n",
    "        return f\"Name: {self.name}, Age: {super().age()}, employee_id: {self.employee_id}, Address: {address_info}\"\n",
    "    \n",
    "address = Address(\"宮城県\", \"仙台市\", \"青葉区川内27番1号\")\n",
    "sato = Employee(name=\"佐藤\", birth=2000, employee_id=100, address=address)\n",
    "\n",
    "sato.display_employee_info()  #addressの部分のやり方が分かりませんでした"
   ]
  },
  {
   "attachments": {},
   "cell_type": "markdown",
   "metadata": {},
   "source": []
  }
 ],
 "metadata": {
  "kernelspec": {
   "display_name": "base",
   "language": "python",
   "name": "python3"
  },
  "language_info": {
   "codemirror_mode": {
    "name": "ipython",
    "version": 3
   },
   "file_extension": ".py",
   "mimetype": "text/x-python",
   "name": "python",
   "nbconvert_exporter": "python",
   "pygments_lexer": "ipython3",
   "version": "3.11.4"
  },
  "orig_nbformat": 4
 },
 "nbformat": 4,
 "nbformat_minor": 2
}
