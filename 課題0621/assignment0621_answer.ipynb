{
 "cells": [
  {
   "attachments": {},
   "cell_type": "markdown",
   "metadata": {},
   "source": [
    "# 課題0621\n",
    "\n",
    "そのまま課題ファイルで編集しないでください。課題ファイルを複製してから課題を回答してください。"
   ]
  },
  {
   "attachments": {},
   "cell_type": "markdown",
   "metadata": {},
   "source": [
    "## 課題1\n",
    "\n",
    "```Person.py```から```Person```クラスと```Address```をインポートしてください。"
   ]
  },
  {
   "attachments": {},
   "cell_type": "markdown",
   "metadata": {},
   "source": [
    "外部モジュールやパッケージから特定の要素（関数やクラスなど）のみを取り込む"
   ]
  },
  {
   "cell_type": "code",
   "execution_count": 4,
   "metadata": {},
   "outputs": [],
   "source": [
    "from Person import Person, Address"
   ]
  },
  {
   "cell_type": "code",
   "execution_count": 5,
   "metadata": {},
   "outputs": [
    {
     "data": {
      "text/plain": [
       "<Person.Person at 0x110e1f9a0>"
      ]
     },
     "execution_count": 5,
     "metadata": {},
     "output_type": "execute_result"
    }
   ],
   "source": [
    "Person(\"山田\", 20)"
   ]
  },
  {
   "attachments": {},
   "cell_type": "markdown",
   "metadata": {},
   "source": [
    "外部モジュールやパッケージ全体を取り込む"
   ]
  },
  {
   "cell_type": "code",
   "execution_count": 6,
   "metadata": {},
   "outputs": [],
   "source": [
    "import Person"
   ]
  },
  {
   "cell_type": "code",
   "execution_count": 7,
   "metadata": {},
   "outputs": [
    {
     "data": {
      "text/plain": [
       "<Person.Person at 0x110f84ca0>"
      ]
     },
     "execution_count": 7,
     "metadata": {},
     "output_type": "execute_result"
    }
   ],
   "source": [
    "Person.Person(\"山田\", 20)"
   ]
  },
  {
   "attachments": {},
   "cell_type": "markdown",
   "metadata": {},
   "source": [
    "## 課題2\n",
    "\n",
    "Jupyter Notebookで```Person.py```を実行してください。"
   ]
  },
  {
   "cell_type": "code",
   "execution_count": 9,
   "metadata": {},
   "outputs": [
    {
     "name": "stdout",
     "output_type": "stream",
     "text": [
      "Hello, my name is John Doe\n",
      "Hello, my name is Jane Smith\n"
     ]
    }
   ],
   "source": [
    "!python Person.py"
   ]
  },
  {
   "cell_type": "code",
   "execution_count": 8,
   "metadata": {},
   "outputs": [
    {
     "name": "stdout",
     "output_type": "stream",
     "text": [
      "Hello, my name is John Doe\n",
      "Hello, my name is Jane Smith\n"
     ]
    }
   ],
   "source": [
    "%run Person.py"
   ]
  },
  {
   "attachments": {},
   "cell_type": "markdown",
   "metadata": {},
   "source": [
    "```!```マークを行の先頭に追加することで、その行のコマンドがコマンドラインで実行されます。"
   ]
  },
  {
   "cell_type": "code",
   "execution_count": 10,
   "metadata": {},
   "outputs": [
    {
     "name": "stdout",
     "output_type": "stream",
     "text": [
      "Person AndoShuki.py                    assignment0621_NishioTomoaki.ipynb\n",
      "Person.py                              assignment0621_Tanno,Yasuhiro.ipynb\n",
      "assignment0621_AndoShuki.ipynb         assignment0621_YamaguchiYuhei.ipynb\n",
      "assignment0621_HarukaMomma.ipynb       assignment0621_answer.ipynb\n",
      "assignment0621_Hideto_Tanishi.ipynb    assignment0621_name.ipynb\n",
      "assignment0621_KahoSuzuki.ipynb        assignment0621_shimizuchisato.ipynb\n",
      "assignment0621_KazuhideHashimura.ipynb assignment0621_山崎桃子.ipynb\n",
      "assignment0621_MakotoYusa.ipynb        assignment0621_王子怡.ipynb\n",
      "assignment0621_MatsunoArisa.ipynb\n"
     ]
    }
   ],
   "source": [
    "!ls"
   ]
  },
  {
   "attachments": {},
   "cell_type": "markdown",
   "metadata": {},
   "source": [
    "## 課題3\n",
    "\n",
    "```Person```クラスを継承する```Employee```というクラスを作成してください。\n",
    "\n",
    "- ```Employee```クラスでは、```Person```クラスから継承した```name```と ~~```age```~~```birth``` の属性に加えて、```employee_id```という属性が追加されています。\n",
    "- ```Employee```クラスに```Address```に関するインスタントを集約してください。(適当な値を渡してください)\n",
    "- ```name```、```age```(ageメソッドで計算)、```employee_id```と住所をプリントする```display_employee_info()```というメソッドを```Employee```クラスに追加してください。\n",
    "- ```Employee```をインスタント化にして、```display_employee_info()```メソッドを呼び出し、テストしてください。"
   ]
  },
  {
   "cell_type": "code",
   "execution_count": 29,
   "metadata": {},
   "outputs": [],
   "source": [
    "class Employee(Person):\n",
    "    def __init__(self, name, birth, employee_id, address = None):\n",
    "        super().__init__(name, birth)\n",
    "        self.employee_id = employee_id\n",
    "        self.address = address\n",
    "    \n",
    "    def get_address(self):\n",
    "        return \"\".join(self.address.get_full_address())\n",
    "        \n",
    "    def display_employee_info(self):\n",
    "          print(\n",
    "               f\"Name: {self.name}, Age: {super().age()}, Employee_ID: {self.employee_id}, Address: {self.get_address()}\"\n",
    "          )"
   ]
  },
  {
   "cell_type": "code",
   "execution_count": 30,
   "metadata": {},
   "outputs": [
    {
     "name": "stdout",
     "output_type": "stream",
     "text": [
      "Name: 青葉太郎, Age: 23, Employee_ID: 123456, Address: 宮城県仙台市川内27-1\n"
     ]
    }
   ],
   "source": [
    "address = Address(\"宮城県\",\"仙台市\",\"川内27-1\")\n",
    "\n",
    "# インスタンス化\n",
    "p = Employee(\"青葉太郎\", 2000, 123456, address)\n",
    "p.display_employee_info()"
   ]
  },
  {
   "cell_type": "code",
   "execution_count": 31,
   "metadata": {},
   "outputs": [],
   "source": [
    "class Employee(Person):\n",
    "    def __init__(self, name, birth, employee_id, address = None):\n",
    "        super().__init__(name, birth)\n",
    "        self.employee_id = employee_id\n",
    "        self.address = address\n",
    "    \n",
    "    def get_address(self):\n",
    "        return \"\".join(self.address.get_full_address())\n",
    "        \n",
    "    def display_employee_info(self):\n",
    "          print(\n",
    "               f\"Name: {self.name}, Age: {self.age()}, Employee_ID: {self.employee_id}, Address: {self.get_address()}\"\n",
    "          )"
   ]
  },
  {
   "cell_type": "code",
   "execution_count": 33,
   "metadata": {},
   "outputs": [
    {
     "name": "stdout",
     "output_type": "stream",
     "text": [
      "Name: 青葉太郎, Age: 23, Employee_ID: 123456, Address: 宮城県仙台市川内27-1\n"
     ]
    }
   ],
   "source": [
    "address = Address(\"宮城県\",\"仙台市\",\"川内27-1\")\n",
    "\n",
    "# インスタンス化\n",
    "p = Employee(\"青葉太郎\", 2000, 123456, address)\n",
    "p.display_employee_info()"
   ]
  },
  {
   "attachments": {},
   "cell_type": "markdown",
   "metadata": {},
   "source": [
    "親クラスで定義されているメソッドと同じ名前のメソッドを子クラスで定義する際、親クラスで定義されているメソッドがオーバーライドされます。"
   ]
  },
  {
   "cell_type": "code",
   "execution_count": 34,
   "metadata": {},
   "outputs": [],
   "source": [
    "class Employee(Person):\n",
    "    def __init__(self, name, birth, employee_id, address = None):\n",
    "        super().__init__(name, birth)\n",
    "        self.employee_id = employee_id\n",
    "        self.address = address\n",
    "    def age(self):\n",
    "        return 100\n",
    "    \n",
    "    def get_address(self):\n",
    "        return \"\".join(self.address.get_full_address())\n",
    "        \n",
    "    def display_employee_info(self):\n",
    "          print(\n",
    "               f\"Name: {self.name}, Age: {self.age()}, Employee_ID: {self.employee_id}, Address: {self.get_address()}\"\n",
    "          )"
   ]
  },
  {
   "cell_type": "code",
   "execution_count": 35,
   "metadata": {},
   "outputs": [
    {
     "name": "stdout",
     "output_type": "stream",
     "text": [
      "Name: 青葉太郎, Age: 100, Employee_ID: 123456, Address: 宮城県仙台市川内27-1\n"
     ]
    }
   ],
   "source": [
    "address = Address(\"宮城県\",\"仙台市\",\"川内27-1\")\n",
    "\n",
    "# インスタンス化\n",
    "p = Employee(\"青葉太郎\", 2000, 123456, address)\n",
    "p.display_employee_info()"
   ]
  },
  {
   "cell_type": "code",
   "execution_count": 36,
   "metadata": {},
   "outputs": [],
   "source": [
    "class Employee(Person):\n",
    "    def __init__(self, name, birth, employee_id, address = None):\n",
    "        super().__init__(name, birth)\n",
    "        self.employee_id = employee_id\n",
    "        self.address = address\n",
    "        \n",
    "    def age(self):\n",
    "        return 100\n",
    "    \n",
    "    def get_address(self):\n",
    "        return \"\".join(self.address.get_full_address())\n",
    "        \n",
    "    def display_employee_info(self):\n",
    "          print(\n",
    "               f\"Name: {self.name}, Age: {super().age()}, Employee_ID: {self.employee_id}, Address: {self.get_address()}\"\n",
    "          )"
   ]
  },
  {
   "cell_type": "code",
   "execution_count": 37,
   "metadata": {},
   "outputs": [
    {
     "name": "stdout",
     "output_type": "stream",
     "text": [
      "Name: 青葉太郎, Age: 23, Employee_ID: 123456, Address: 宮城県仙台市川内27-1\n"
     ]
    }
   ],
   "source": [
    "address = Address(\"宮城県\",\"仙台市\",\"川内27-1\")\n",
    "\n",
    "# インスタンス化\n",
    "p = Employee(\"青葉太郎\", 2000, 123456, address)\n",
    "p.display_employee_info()"
   ]
  }
 ],
 "metadata": {
  "kernelspec": {
   "display_name": "base",
   "language": "python",
   "name": "python3"
  },
  "language_info": {
   "codemirror_mode": {
    "name": "ipython",
    "version": 3
   },
   "file_extension": ".py",
   "mimetype": "text/x-python",
   "name": "python",
   "nbconvert_exporter": "python",
   "pygments_lexer": "ipython3",
   "version": "3.9.6"
  },
  "orig_nbformat": 4
 },
 "nbformat": 4,
 "nbformat_minor": 2
}
