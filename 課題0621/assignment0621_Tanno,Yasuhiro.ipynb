{
 "cells": [
  {
   "attachments": {},
   "cell_type": "markdown",
   "metadata": {},
   "source": [
    "# 課題0621\n",
    "\n",
    "そのまま課題ファイルで編集しないでください。課題ファイルを複製してから課題を回答してください。"
   ]
  },
  {
   "attachments": {},
   "cell_type": "markdown",
   "metadata": {},
   "source": [
    "## 課題1\n",
    "\n",
    "```Person.py```から```Person```クラスと```Address```をインポートしてください。"
   ]
  },
  {
   "cell_type": "code",
   "execution_count": 11,
   "metadata": {},
   "outputs": [],
   "source": [
    "from Person import Person, Address"
   ]
  },
  {
   "attachments": {},
   "cell_type": "markdown",
   "metadata": {},
   "source": [
    "## 課題2\n",
    "\n",
    "Jupyter Notebookで```Person.py```を実行してください。"
   ]
  },
  {
   "cell_type": "code",
   "execution_count": 6,
   "metadata": {},
   "outputs": [
    {
     "name": "stdout",
     "output_type": "stream",
     "text": [
      "Hello, my name is John Doe\n",
      "Hello, my name is Jane Smith\n"
     ]
    }
   ],
   "source": [
    "%run Person.py"
   ]
  },
  {
   "attachments": {},
   "cell_type": "markdown",
   "metadata": {},
   "source": [
    "## 課題3\n",
    "\n",
    "```Person```クラスを継承する```Employee```というクラスを作成してください。\n",
    "\n",
    "- ```Employee```クラスでは、```Person```クラスから継承した```name```と```age```の属性に加えて、```employee_id```という属性が追加されています。\n",
    "- ```Employee```クラスに```Address```に関するインスタントを集約してください。(適当な値を渡してください)\n",
    "- ```name```、```age```、```employee_id```と住所をプリントする```display_employee_info()```というメソッドを```Employee```クラスに追加してください。\n",
    "- ```Employee```をインスタント化にして、```display_employee_info()```メソッドを呼び出し、テストしてください。"
   ]
  },
  {
   "cell_type": "code",
   "execution_count": 13,
   "metadata": {},
   "outputs": [
    {
     "data": {
      "text/plain": [
       "('Sato', 45, 'anwonug45', ('東京都', '千代田区', '丸の内1-6-4'))"
      ]
     },
     "execution_count": 13,
     "metadata": {},
     "output_type": "execute_result"
    }
   ],
   "source": [
    "class Employee(Person):\n",
    "    def __init__(self, name, birth, employee_id, address=None):\n",
    "        super().__init__(name, birth)\n",
    "        self.employee_id = employee_id\n",
    "        self.address = address\n",
    "    \n",
    "    def display_employee_info(self):\n",
    "        address_info = self.address.get_full_address()\n",
    "        return (self.name, self.birth, self.employee_id, address_info)\n",
    "\n",
    "maruzen = Address('東京都','千代田区','丸の内1-6-4')\n",
    "sato = Employee(name='Sato', birth=45, employee_id='anwonug45', address=maruzen)\n",
    "\n",
    "sato.display_employee_info()"
   ]
  },
  {
   "attachments": {},
   "cell_type": "markdown",
   "metadata": {},
   "source": [
    "**課題３についての不明点**\n",
    "\n",
    "（１）\n",
    "\n",
    ">EmployeeクラスにAddressに関するインスタントを集約してください\n",
    "\n",
    "この文章が指示する内容が全く汲み取れません。  \n",
    "次回の授業で実演をお願いします。\n",
    "\n",
    "（２）\n",
    "\n",
    ">Personクラスから継承したnameとageの属性に加えて、\n",
    "\n",
    "Personクラスにおいてageは属性ではなく、メソッドです。  \n",
    "そのため、この文章が指示する内容が汲み取れません。  \n",
    "次回の授業で解説をお願いします。"
   ]
  },
  {
   "attachments": {},
   "cell_type": "markdown",
   "metadata": {},
   "source": []
  }
 ],
 "metadata": {
  "kernelspec": {
   "display_name": "base",
   "language": "python",
   "name": "python3"
  },
  "language_info": {
   "codemirror_mode": {
    "name": "ipython",
    "version": 3
   },
   "file_extension": ".py",
   "mimetype": "text/x-python",
   "name": "python",
   "nbconvert_exporter": "python",
   "pygments_lexer": "ipython3",
   "version": "3.9.6"
  },
  "orig_nbformat": 4
 },
 "nbformat": 4,
 "nbformat_minor": 2
}
