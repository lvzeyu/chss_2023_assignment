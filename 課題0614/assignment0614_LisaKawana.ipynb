{
  "nbformat": 4,
  "nbformat_minor": 0,
  "metadata": {
    "colab": {
      "provenance": []
    },
    "kernelspec": {
      "name": "python3",
      "display_name": "Python 3"
    },
    "language_info": {
      "name": "python"
    }
  },
  "cells": [
    {
      "cell_type": "markdown",
      "source": [
        "# 課題0614\n",
        "そのまま課題ファイルで編集しないでください。課題ファイルを複製してから課題を回答してください。"
      ],
      "metadata": {
        "id": "SSp7k8cr-UqQ"
      }
    },
    {
      "cell_type": "markdown",
      "source": [
        "### 課題1\n",
        "可変個引数を受け取り、引数を昇順にソートしたリストを返す関数を作成してください。\n",
        "*   受け取った値に数字ではない要素がある場合は、該当する要素を削除するかスキップしてください。\n"
      ],
      "metadata": {
        "id": "QnNvs0cR-duT"
      }
    },
    {
      "cell_type": "code",
      "source": [
        "def sort_arguments(*p):\n",
        "  list=[]\n",
        "  for i in p:\n",
        "    if type(i) == int:\n",
        "      list.append(i)\n",
        "  list.sort()\n",
        "  return list"
      ],
      "metadata": {
        "id": "N8tadBPr-g7s"
      },
      "execution_count": null,
      "outputs": []
    },
    {
      "cell_type": "code",
      "source": [
        "sort_arguments(8, 3, 4, 1, 2, 7, 6, 5)"
      ],
      "metadata": {
        "id": "L0YUrEjr-n36",
        "colab": {
          "base_uri": "https://localhost:8080/"
        },
        "outputId": "8b5212c4-5603-442e-b9b8-c786f350c120"
      },
      "execution_count": null,
      "outputs": [
        {
          "output_type": "execute_result",
          "data": {
            "text/plain": [
              "[1, 2, 3, 4, 5, 6, 7, 8]"
            ]
          },
          "metadata": {},
          "execution_count": 2
        }
      ]
    },
    {
      "cell_type": "code",
      "source": [
        "sort_arguments(4,-1,3,2,0,-2,1,-3,6,\"d\",4,\"100\")"
      ],
      "metadata": {
        "id": "c-oxSauH_QQ4",
        "colab": {
          "base_uri": "https://localhost:8080/"
        },
        "outputId": "e8ccdb9a-e9e4-4f3b-e684-1d8c3c98e0eb"
      },
      "execution_count": null,
      "outputs": [
        {
          "output_type": "execute_result",
          "data": {
            "text/plain": [
              "[-3, -2, -1, 0, 1, 2, 3, 4, 4, 6]"
            ]
          },
          "metadata": {},
          "execution_count": 3
        }
      ]
    },
    {
      "cell_type": "markdown",
      "source": [
        "### 課題2\n",
        "以下の要求に従って関数を作成してください。\n",
        "\n",
        "\n",
        "\n",
        "*   タプル可変個の位置引数を受け取って、合計を計算する\n",
        "*   書可変個の位置引数を受け取って、合計を計算する\n",
        "\n",
        "\n"
      ],
      "metadata": {
        "id": "2Muq0gSy_WzK"
      }
    },
    {
      "cell_type": "code",
      "source": [
        "def calculate_sum(*p,**dic):\n",
        "  sum1=sum2=0\n",
        "  for i in p:\n",
        "    sum1 = sum1 + i\n",
        "  for value in dic.values():\n",
        "    sum2 = sum2 +value\n",
        "  print(sum1,sum2)"
      ],
      "metadata": {
        "id": "BEvXg02q_g6C"
      },
      "execution_count": null,
      "outputs": []
    },
    {
      "cell_type": "code",
      "source": [
        "calculate_sum(1, 2, a=3, b=4)"
      ],
      "metadata": {
        "id": "WiAUr7Se_p7R",
        "colab": {
          "base_uri": "https://localhost:8080/"
        },
        "outputId": "8760497d-2347-4af2-ad97-6f1fc73f982f"
      },
      "execution_count": null,
      "outputs": [
        {
          "output_type": "stream",
          "name": "stdout",
          "text": [
            "3 7\n"
          ]
        }
      ]
    },
    {
      "cell_type": "code",
      "source": [
        "calculate_sum(10, 60, 80, a=20, b=50)"
      ],
      "metadata": {
        "id": "lNNNWTHc_0LH",
        "colab": {
          "base_uri": "https://localhost:8080/"
        },
        "outputId": "2d72bee0-985a-4181-f45a-13995470965b"
      },
      "execution_count": null,
      "outputs": [
        {
          "output_type": "stream",
          "name": "stdout",
          "text": [
            "150 70\n"
          ]
        }
      ]
    },
    {
      "cell_type": "markdown",
      "source": [
        "### 課題3\n",
        "以下のラムダ関数を作成してください。\n",
        "\n",
        "\n",
        "\n",
        "*   文字列を受け取り、その長さを返す関数\n",
        "*   2つの文字列を受け取り、それらを連結した文字列を返す関数"
      ],
      "metadata": {
        "id": "r9KKQ7HNAI8i"
      }
    },
    {
      "cell_type": "code",
      "source": [
        "str_len=lambda word:len(word)\n",
        "str_len(\"Hello\")"
      ],
      "metadata": {
        "id": "_VJ0Jg2jAzfS",
        "colab": {
          "base_uri": "https://localhost:8080/"
        },
        "outputId": "82fd1497-54ba-41a7-be92-7fda0f29d0ab"
      },
      "execution_count": null,
      "outputs": [
        {
          "output_type": "execute_result",
          "data": {
            "text/plain": [
              "5"
            ]
          },
          "metadata": {},
          "execution_count": 2
        }
      ]
    },
    {
      "cell_type": "code",
      "source": [
        "concatenate_strings = lambda x,y:x+y\n",
        "concatenate_strings(\"Hello,\",\"World!\")"
      ],
      "metadata": {
        "id": "qzRxfYk3A44a",
        "colab": {
          "base_uri": "https://localhost:8080/",
          "height": 35
        },
        "outputId": "ab44b087-13e7-4bc0-d807-40f0017c3a5a"
      },
      "execution_count": null,
      "outputs": [
        {
          "output_type": "execute_result",
          "data": {
            "text/plain": [
              "'Hello,World!'"
            ],
            "application/vnd.google.colaboratory.intrinsic+json": {
              "type": "string"
            }
          },
          "metadata": {},
          "execution_count": 7
        }
      ]
    },
    {
      "cell_type": "markdown",
      "source": [
        "### 課題4\n",
        "*   Personクラスにidという属性を追加してください\n",
        "*   Personクラスにprint_idというnameとidを表示するメソッドを追加してください\n",
        "*   nameをSato、idを123456とするオブジェクトを作成し、print_idを実行してみてください"
      ],
      "metadata": {
        "id": "nqWEPsvPBJF6"
      }
    },
    {
      "cell_type": "code",
      "source": [
        "class Person:\n",
        "  def __init__(self,name,id,birth='No data'):\n",
        "    self.name = name\n",
        "    self.birth = birth\n",
        "    self.id = id\n",
        "\n",
        "  def say_hello(self):\n",
        "    print(\"Hello, my name is\",self.name)\n",
        "\n",
        "  def print_birth(self):\n",
        "    print(\"() was born in ()\".format(self.name,self.birth))\n",
        "\n",
        "  def print_id(self):\n",
        "    print(self.name,self.id)"
      ],
      "metadata": {
        "id": "7qciapSWBVVt"
      },
      "execution_count": null,
      "outputs": []
    },
    {
      "cell_type": "code",
      "source": [
        "sato=Person('Sato',123456,)\n",
        "sato.print_id()"
      ],
      "metadata": {
        "colab": {
          "base_uri": "https://localhost:8080/"
        },
        "id": "5D-VfaBWUtd6",
        "outputId": "74bac8e1-bde8-4f87-e74a-c53dfe7b715d"
      },
      "execution_count": null,
      "outputs": [
        {
          "output_type": "stream",
          "name": "stdout",
          "text": [
            "Sato 123456\n"
          ]
        }
      ]
    }
  ]
}