{
 "cells": [
  {
   "attachments": {},
   "cell_type": "markdown",
   "metadata": {},
   "source": [
    "# 課題0614\n",
    "\n",
    "そのまま課題ファイルで編集しないでください。課題ファイルを複製してから課題を回答してください。"
   ]
  },
  {
   "attachments": {},
   "cell_type": "markdown",
   "metadata": {},
   "source": [
    "## 課題1\n",
    "可変個引数を受け取り、引数を昇順にソートしたリストを返す関数を作成してください。\n",
    "- 受け取った値に数字ではない要素がある場合は、該当する要素を削除するかスキップしてください。"
   ]
  },
  {
   "cell_type": "code",
   "execution_count": 1,
   "metadata": {},
   "outputs": [],
   "source": [
    "def sort_arguments(*args):\n",
    "    numbers = [arg for arg in args if isinstance(arg, (int, float))]\n",
    "    sorted_numbers = sorted(numbers)\n",
    "    return sorted_numbers"
   ]
  },
  {
   "cell_type": "code",
   "execution_count": 2,
   "metadata": {},
   "outputs": [
    {
     "name": "stdout",
     "output_type": "stream",
     "text": [
      "[1, 2, 3, 4, 5, 6, 7, 8]\n"
     ]
    }
   ],
   "source": [
    "list=sort_arguments(8, 3, 4, 1, 2, 7, 6, 5)\n",
    "print(list)"
   ]
  },
  {
   "cell_type": "code",
   "execution_count": 3,
   "metadata": {},
   "outputs": [
    {
     "name": "stdout",
     "output_type": "stream",
     "text": [
      "[-3, -2, -1, 0, 1, 2, 3, 4, 4, 6]\n"
     ]
    }
   ],
   "source": [
    "list=sort_arguments(4,-1,3,2,0,-2,1,-3,6,\"d\",4,\"100\")\n",
    "print(list)"
   ]
  },
  {
   "attachments": {},
   "cell_type": "markdown",
   "metadata": {},
   "source": [
    "## 課題2\n",
    "以下の要求に従って関数を作成してください。\n",
    "- タプル可変個の位置引数を受け取って、合計を計算する\n",
    "- 書可変個の位置引数を受け取って、合計を計算する"
   ]
  },
  {
   "cell_type": "code",
   "execution_count": 4,
   "metadata": {},
   "outputs": [],
   "source": [
    "def calculate_sum(*args, **kwargs):\n",
    "    total = sum(args)\n",
    "    for value in kwargs.values():\n",
    "        if isinstance(value, (int, float)):\n",
    "            total += value\n",
    "    return total"
   ]
  },
  {
   "cell_type": "code",
   "execution_count": 5,
   "metadata": {},
   "outputs": [
    {
     "data": {
      "text/plain": [
       "10"
      ]
     },
     "execution_count": 5,
     "metadata": {},
     "output_type": "execute_result"
    }
   ],
   "source": [
    "calculate_sum(1, 2, a=3, b=4)"
   ]
  },
  {
   "cell_type": "code",
   "execution_count": 6,
   "metadata": {},
   "outputs": [
    {
     "data": {
      "text/plain": [
       "220"
      ]
     },
     "execution_count": 6,
     "metadata": {},
     "output_type": "execute_result"
    }
   ],
   "source": [
    "calculate_sum(10, 60,80, a=20, b=50)"
   ]
  },
  {
   "attachments": {},
   "cell_type": "markdown",
   "metadata": {},
   "source": [
    "## 課題3\n",
    "以下のラムダ関数を作成してください。\n",
    "\n",
    "- 文字列を受け取り、その長さを返す関数\n",
    "- 2つの文字列を受け取り、それらを連結した文字列を返す関数"
   ]
  },
  {
   "cell_type": "code",
   "execution_count": 7,
   "metadata": {},
   "outputs": [
    {
     "data": {
      "text/plain": [
       "5"
      ]
     },
     "execution_count": 7,
     "metadata": {},
     "output_type": "execute_result"
    }
   ],
   "source": [
    "str_len = lambda x: len(x)\n",
    "str_len(\"Hello\")"
   ]
  },
  {
   "cell_type": "code",
   "execution_count": 8,
   "metadata": {},
   "outputs": [
    {
     "data": {
      "text/plain": [
       "'Hello,World!'"
      ]
     },
     "execution_count": 8,
     "metadata": {},
     "output_type": "execute_result"
    }
   ],
   "source": [
    "concatenate_strings = lambda x, y: x + y\n",
    "concatenate_strings(\"Hello,\", \"World!\")"
   ]
  },
  {
   "attachments": {},
   "cell_type": "markdown",
   "metadata": {},
   "source": [
    "## 課題4\n",
    "\n",
    "- ```Person```クラスに```id```という属性を追加してください\n",
    "- ```Person```クラスに```print_id```という```name```と```id```を表示するメソッドを追加してください\n",
    "- ```name```を```Sato```、```id```を```123456```とするオブジェクトを作成し、```print_id```を実行してみてください"
   ]
  },
  {
   "cell_type": "code",
   "execution_count": 9,
   "metadata": {},
   "outputs": [],
   "source": [
    "class Person:\n",
    "    def __init__(self, name, birth, id):\n",
    "        self.name = name\n",
    "        self.birth = birth\n",
    "        self.id = id\n",
    "\n",
    "    def say_hello(self):\n",
    "        print(\"Hello, my name is\", self.name)\n",
    "    \n",
    "    def print_birth(self):\n",
    "        print(\"{} was born in {}\".format(self.name, self.birth))\n",
    "    \n",
    "    def print_id(self):\n",
    "        print(\"Name:\", self.name)\n",
    "        print(\"ID:\", self.id)\n"
   ]
  },
  {
   "cell_type": "code",
   "execution_count": 10,
   "metadata": {},
   "outputs": [
    {
     "name": "stdout",
     "output_type": "stream",
     "text": [
      "Name: Sato\n",
      "ID: 123456\n"
     ]
    }
   ],
   "source": [
    "sato = Person(\"Sato\", \"2003-03-18\", \"123456\")\n",
    "sato.print_id()\n"
   ]
  }
 ],
 "metadata": {
  "kernelspec": {
   "display_name": "base",
   "language": "python",
   "name": "python3"
  },
  "language_info": {
   "codemirror_mode": {
    "name": "ipython",
    "version": 3
   },
   "file_extension": ".py",
   "mimetype": "text/x-python",
   "name": "python",
   "nbconvert_exporter": "python",
   "pygments_lexer": "ipython3",
   "version": "3.9.6"
  },
  "orig_nbformat": 4
 },
 "nbformat": 4,
 "nbformat_minor": 2
}
