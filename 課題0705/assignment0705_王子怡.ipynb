{
 "cells": [
  {
   "attachments": {},
   "cell_type": "markdown",
   "metadata": {},
   "source": [
    "# 課題0705\n",
    "\n",
    "そのまま課題ファイルで編集しないでください。課題ファイルを複製してから課題を回答してください。"
   ]
  },
  {
   "attachments": {},
   "cell_type": "markdown",
   "metadata": {},
   "source": [
    "## 課題1\n",
    "\n",
    "pandasでDataフォルダの```example.json```を読み込む。"
   ]
  },
  {
   "cell_type": "code",
   "execution_count": 35,
   "metadata": {},
   "outputs": [
    {
     "data": {
      "text/html": [
       "<div>\n",
       "<style scoped>\n",
       "    .dataframe tbody tr th:only-of-type {\n",
       "        vertical-align: middle;\n",
       "    }\n",
       "\n",
       "    .dataframe tbody tr th {\n",
       "        vertical-align: top;\n",
       "    }\n",
       "\n",
       "    .dataframe thead th {\n",
       "        text-align: right;\n",
       "    }\n",
       "</style>\n",
       "<table border=\"1\" class=\"dataframe\">\n",
       "  <thead>\n",
       "    <tr style=\"text-align: right;\">\n",
       "      <th></th>\n",
       "      <th>Name</th>\n",
       "      <th>Price</th>\n",
       "      <th>Model</th>\n",
       "      <th>Power</th>\n",
       "    </tr>\n",
       "  </thead>\n",
       "  <tbody>\n",
       "    <tr>\n",
       "      <th>0</th>\n",
       "      <td>Honda</td>\n",
       "      <td>10000</td>\n",
       "      <td>2005</td>\n",
       "      <td>1300</td>\n",
       "    </tr>\n",
       "    <tr>\n",
       "      <th>1</th>\n",
       "      <td>Toyota</td>\n",
       "      <td>12000</td>\n",
       "      <td>2010</td>\n",
       "      <td>1600</td>\n",
       "    </tr>\n",
       "    <tr>\n",
       "      <th>2</th>\n",
       "      <td>Audi</td>\n",
       "      <td>25000</td>\n",
       "      <td>2017</td>\n",
       "      <td>1800</td>\n",
       "    </tr>\n",
       "    <tr>\n",
       "      <th>3</th>\n",
       "      <td>Ford</td>\n",
       "      <td>28000</td>\n",
       "      <td>2009</td>\n",
       "      <td>1200</td>\n",
       "    </tr>\n",
       "  </tbody>\n",
       "</table>\n",
       "</div>"
      ],
      "text/plain": [
       "     Name  Price  Model  Power\n",
       "0   Honda  10000   2005   1300\n",
       "1  Toyota  12000   2010   1600\n",
       "2    Audi  25000   2017   1800\n",
       "3    Ford  28000   2009   1200"
      ]
     },
     "execution_count": 35,
     "metadata": {},
     "output_type": "execute_result"
    }
   ],
   "source": [
    "import pandas as pd\n",
    "\n",
    "df = pd.read_json(\"Data/example.json\",lines = True)\n",
    "df"
   ]
  },
  {
   "attachments": {},
   "cell_type": "markdown",
   "metadata": {},
   "source": [
    "## 課題2\n",
    "\n",
    "pandasでDataフォルダの```state-abbrevs.csv```、```state-areas.csv```、```state-population.csv```を読み込む。\n",
    "\n",
    "これらのデータを使って、**2010年**アメリカの各州の人口密度を計算しよう。"
   ]
  },
  {
   "cell_type": "code",
   "execution_count": 137,
   "metadata": {},
   "outputs": [],
   "source": [
    "df_abbrevs = pd.read_csv(\"Data/state-abbrevs.csv\")"
   ]
  },
  {
   "cell_type": "code",
   "execution_count": 138,
   "metadata": {},
   "outputs": [],
   "source": [
    "df_areas = pd.read_csv('Data/state-areas.csv')"
   ]
  },
  {
   "cell_type": "code",
   "execution_count": 139,
   "metadata": {},
   "outputs": [],
   "source": [
    "df_population= pd.read_csv('Data/state-population.csv')"
   ]
  },
  {
   "cell_type": "code",
   "execution_count": 140,
   "metadata": {},
   "outputs": [
    {
     "data": {
      "text/plain": [
       "0       91.287603\n",
       "1        1.087509\n",
       "2       56.214497\n",
       "3       54.948667\n",
       "4      228.051342\n",
       "5       48.493718\n",
       "6      645.600649\n",
       "7      460.445752\n",
       "8     8898.897059\n",
       "9      286.597129\n",
       "10     163.409902\n",
       "11     124.746707\n",
       "12      18.794338\n",
       "13     221.687472\n",
       "14     178.197831\n",
       "15      54.202751\n",
       "16      34.745266\n",
       "17     107.586994\n",
       "18      87.676099\n",
       "19      37.509990\n",
       "20       6.736171\n",
       "21      23.654153\n",
       "22      24.448796\n",
       "23     140.799273\n",
       "24    1009.253268\n",
       "25      16.982737\n",
       "26     356.094135\n",
       "27     177.617157\n",
       "28       9.537565\n",
       "29     257.549634\n",
       "30      53.778278\n",
       "31      39.001565\n",
       "32     466.445797\n",
       "33     621.815538\n",
       "34     102.015794\n",
       "35      61.078373\n",
       "36      61.321530\n",
       "37      86.015622\n",
       "38     275.966651\n",
       "39     681.339159\n",
       "40     144.854594\n",
       "41      10.583512\n",
       "42     150.825298\n",
       "43      93.987655\n",
       "44      32.677188\n",
       "45      65.085075\n",
       "46     187.622273\n",
       "47      94.557817\n",
       "48      76.519582\n",
       "49      86.851900\n",
       "50       5.768079\n",
       "dtype: float64"
      ]
     },
     "execution_count": 140,
     "metadata": {},
     "output_type": "execute_result"
    }
   ],
   "source": [
    "df_population_2010 = df_population[(df_population[\"year\"] == 2010) & (df_population[\"ages\"] == \"total\")]\n",
    "df1= pd.merge(df_abbrevs, df_areas)\n",
    "df1 = df1.rename(columns={\"abbreviation\": \"state/region\"})\n",
    "df2 =pd.merge(df1,df_population_2010,on='state/region')\n",
    "df2\n",
    "df_density= df2[\"population\"] / df2[\"area (sq. mi)\"]\n",
    "df_density"
   ]
  },
  {
   "attachments": {},
   "cell_type": "markdown",
   "metadata": {},
   "source": [
    "## 課題3\n",
    "\n",
    "```state/region```、```ages```と```years```でデータフレームをグループして、各グループで$\\frac{population}{area (sq. mi)}$の形で人口密度を計算してください。"
   ]
  },
  {
   "cell_type": "code",
   "execution_count": 136,
   "metadata": {},
   "outputs": [
    {
     "data": {
      "text/html": [
       "<div>\n",
       "<style scoped>\n",
       "    .dataframe tbody tr th:only-of-type {\n",
       "        vertical-align: middle;\n",
       "    }\n",
       "\n",
       "    .dataframe tbody tr th {\n",
       "        vertical-align: top;\n",
       "    }\n",
       "\n",
       "    .dataframe thead th {\n",
       "        text-align: right;\n",
       "    }\n",
       "</style>\n",
       "<table border=\"1\" class=\"dataframe\">\n",
       "  <thead>\n",
       "    <tr style=\"text-align: right;\">\n",
       "      <th></th>\n",
       "      <th></th>\n",
       "      <th></th>\n",
       "      <th>population</th>\n",
       "      <th>area (sq. mi)</th>\n",
       "      <th>density</th>\n",
       "    </tr>\n",
       "    <tr>\n",
       "      <th>state/region</th>\n",
       "      <th>ages</th>\n",
       "      <th>year</th>\n",
       "      <th></th>\n",
       "      <th></th>\n",
       "      <th></th>\n",
       "    </tr>\n",
       "  </thead>\n",
       "  <tbody>\n",
       "    <tr>\n",
       "      <th rowspan=\"5\" valign=\"top\">AK</th>\n",
       "      <th rowspan=\"5\" valign=\"top\">total</th>\n",
       "      <th>1990</th>\n",
       "      <td>553290.0</td>\n",
       "      <td>656425</td>\n",
       "      <td>0.842884</td>\n",
       "    </tr>\n",
       "    <tr>\n",
       "      <th>1991</th>\n",
       "      <td>570193.0</td>\n",
       "      <td>656425</td>\n",
       "      <td>0.868634</td>\n",
       "    </tr>\n",
       "    <tr>\n",
       "      <th>1992</th>\n",
       "      <td>588736.0</td>\n",
       "      <td>656425</td>\n",
       "      <td>0.896882</td>\n",
       "    </tr>\n",
       "    <tr>\n",
       "      <th>1993</th>\n",
       "      <td>599434.0</td>\n",
       "      <td>656425</td>\n",
       "      <td>0.913180</td>\n",
       "    </tr>\n",
       "    <tr>\n",
       "      <th>1994</th>\n",
       "      <td>603308.0</td>\n",
       "      <td>656425</td>\n",
       "      <td>0.919081</td>\n",
       "    </tr>\n",
       "    <tr>\n",
       "      <th>...</th>\n",
       "      <th>...</th>\n",
       "      <th>...</th>\n",
       "      <td>...</td>\n",
       "      <td>...</td>\n",
       "      <td>...</td>\n",
       "    </tr>\n",
       "    <tr>\n",
       "      <th rowspan=\"5\" valign=\"top\">WY</th>\n",
       "      <th rowspan=\"5\" valign=\"top\">under18</th>\n",
       "      <th>2009</th>\n",
       "      <td>134960.0</td>\n",
       "      <td>97818</td>\n",
       "      <td>1.379705</td>\n",
       "    </tr>\n",
       "    <tr>\n",
       "      <th>2010</th>\n",
       "      <td>135351.0</td>\n",
       "      <td>97818</td>\n",
       "      <td>1.383702</td>\n",
       "    </tr>\n",
       "    <tr>\n",
       "      <th>2011</th>\n",
       "      <td>135407.0</td>\n",
       "      <td>97818</td>\n",
       "      <td>1.384275</td>\n",
       "    </tr>\n",
       "    <tr>\n",
       "      <th>2012</th>\n",
       "      <td>136526.0</td>\n",
       "      <td>97818</td>\n",
       "      <td>1.395714</td>\n",
       "    </tr>\n",
       "    <tr>\n",
       "      <th>2013</th>\n",
       "      <td>137679.0</td>\n",
       "      <td>97818</td>\n",
       "      <td>1.407502</td>\n",
       "    </tr>\n",
       "  </tbody>\n",
       "</table>\n",
       "<p>2448 rows × 3 columns</p>\n",
       "</div>"
      ],
      "text/plain": [
       "                           population  area (sq. mi)   density\n",
       "state/region ages    year                                     \n",
       "AK           total   1990    553290.0         656425  0.842884\n",
       "                     1991    570193.0         656425  0.868634\n",
       "                     1992    588736.0         656425  0.896882\n",
       "                     1993    599434.0         656425  0.913180\n",
       "                     1994    603308.0         656425  0.919081\n",
       "...                               ...            ...       ...\n",
       "WY           under18 2009    134960.0          97818  1.379705\n",
       "                     2010    135351.0          97818  1.383702\n",
       "                     2011    135407.0          97818  1.384275\n",
       "                     2012    136526.0          97818  1.395714\n",
       "                     2013    137679.0          97818  1.407502\n",
       "\n",
       "[2448 rows x 3 columns]"
      ]
     },
     "execution_count": 136,
     "metadata": {},
     "output_type": "execute_result"
    }
   ],
   "source": [
    "df3=pd.merge(df1,df_population)\n",
    "df4=df3.groupby(['state/region', 'ages', 'year'])[['population', 'area (sq. mi)']].sum()\n",
    "df4[\"density\"] = df4[\"population\"] / df4[\"area (sq. mi)\"]\n",
    "df4"
   ]
  }
 ],
 "metadata": {
  "kernelspec": {
   "display_name": "base",
   "language": "python",
   "name": "python3"
  },
  "language_info": {
   "codemirror_mode": {
    "name": "ipython",
    "version": 3
   },
   "file_extension": ".py",
   "mimetype": "text/x-python",
   "name": "python",
   "nbconvert_exporter": "python",
   "pygments_lexer": "ipython3",
   "version": "3.11.3"
  },
  "orig_nbformat": 4
 },
 "nbformat": 4,
 "nbformat_minor": 2
}
