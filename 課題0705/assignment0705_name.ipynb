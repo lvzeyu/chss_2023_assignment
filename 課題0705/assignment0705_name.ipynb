{
 "cells": [
  {
   "attachments": {},
   "cell_type": "markdown",
   "metadata": {},
   "source": [
    "# 課題0705\n",
    "\n",
    "そのまま課題ファイルで編集しないでください。課題ファイルを複製してから課題を回答してください。"
   ]
  },
  {
   "cell_type": "code",
   "execution_count": 47,
   "metadata": {},
   "outputs": [],
   "source": [
    "class display(object):\n",
    "    \"\"\"Display HTML representation of multiple objects\"\"\"\n",
    "    template = \"\"\"<div style=\"float: left; padding: 10px;\">\n",
    "    <p style='font-family:\"Courier New\", Courier, monospace'>{0}</p>{1}\n",
    "    </div>\"\"\"\n",
    "    def __init__(self, *args):\n",
    "        self.args = args\n",
    "        \n",
    "    def _repr_html_(self):\n",
    "        return '\\n'.join(self.template.format(a, eval(a)._repr_html_())\n",
    "                         for a in self.args)\n",
    "    \n",
    "    def __repr__(self):\n",
    "        return '\\n\\n'.join(a + '\\n' + repr(eval(a))\n",
    "                           for a in self.args)"
   ]
  },
  {
   "attachments": {},
   "cell_type": "markdown",
   "metadata": {},
   "source": [
    "## 課題1\n",
    "\n",
    "pandasでDataフォルダの```example.json```を読み込む。"
   ]
  },
  {
   "cell_type": "code",
   "execution_count": 48,
   "metadata": {},
   "outputs": [
    {
     "data": {
      "text/html": [
       "<div>\n",
       "<style scoped>\n",
       "    .dataframe tbody tr th:only-of-type {\n",
       "        vertical-align: middle;\n",
       "    }\n",
       "\n",
       "    .dataframe tbody tr th {\n",
       "        vertical-align: top;\n",
       "    }\n",
       "\n",
       "    .dataframe thead th {\n",
       "        text-align: right;\n",
       "    }\n",
       "</style>\n",
       "<table border=\"1\" class=\"dataframe\">\n",
       "  <thead>\n",
       "    <tr style=\"text-align: right;\">\n",
       "      <th></th>\n",
       "      <th>Name</th>\n",
       "      <th>Price</th>\n",
       "      <th>Model</th>\n",
       "      <th>Power</th>\n",
       "    </tr>\n",
       "  </thead>\n",
       "  <tbody>\n",
       "    <tr>\n",
       "      <th>0</th>\n",
       "      <td>Honda</td>\n",
       "      <td>10000</td>\n",
       "      <td>2005</td>\n",
       "      <td>1300</td>\n",
       "    </tr>\n",
       "    <tr>\n",
       "      <th>1</th>\n",
       "      <td>Toyota</td>\n",
       "      <td>12000</td>\n",
       "      <td>2010</td>\n",
       "      <td>1600</td>\n",
       "    </tr>\n",
       "    <tr>\n",
       "      <th>2</th>\n",
       "      <td>Audi</td>\n",
       "      <td>25000</td>\n",
       "      <td>2017</td>\n",
       "      <td>1800</td>\n",
       "    </tr>\n",
       "    <tr>\n",
       "      <th>3</th>\n",
       "      <td>Ford</td>\n",
       "      <td>28000</td>\n",
       "      <td>2009</td>\n",
       "      <td>1200</td>\n",
       "    </tr>\n",
       "  </tbody>\n",
       "</table>\n",
       "</div>"
      ],
      "text/plain": [
       "     Name  Price  Model  Power\n",
       "0   Honda  10000   2005   1300\n",
       "1  Toyota  12000   2010   1600\n",
       "2    Audi  25000   2017   1800\n",
       "3    Ford  28000   2009   1200"
      ]
     },
     "execution_count": 48,
     "metadata": {},
     "output_type": "execute_result"
    }
   ],
   "source": [
    "import pandas as pd\n",
    "df=pd.read_json(\"/Users/ryozawau/chss_2023_assignment/課題0705/Data/example.json\",lines=True)\n",
    "df"
   ]
  },
  {
   "attachments": {},
   "cell_type": "markdown",
   "metadata": {},
   "source": [
    "## 課題2\n",
    "\n",
    "pandasでDataフォルダの```state-abbrevs.csv```、```state-areas.csv```、```state-population.csv```を読み込む。\n",
    "\n",
    "これらのデータを使って、**2010年**アメリカの各州の人口密度を計算しよう。"
   ]
  },
  {
   "cell_type": "code",
   "execution_count": 49,
   "metadata": {},
   "outputs": [
    {
     "data": {
      "text/html": [
       "<div style=\"float: left; padding: 10px;\">\n",
       "    <p style='font-family:\"Courier New\", Courier, monospace'>pop.head()</p><div>\n",
       "<style scoped>\n",
       "    .dataframe tbody tr th:only-of-type {\n",
       "        vertical-align: middle;\n",
       "    }\n",
       "\n",
       "    .dataframe tbody tr th {\n",
       "        vertical-align: top;\n",
       "    }\n",
       "\n",
       "    .dataframe thead th {\n",
       "        text-align: right;\n",
       "    }\n",
       "</style>\n",
       "<table border=\"1\" class=\"dataframe\">\n",
       "  <thead>\n",
       "    <tr style=\"text-align: right;\">\n",
       "      <th></th>\n",
       "      <th>state/region</th>\n",
       "      <th>ages</th>\n",
       "      <th>year</th>\n",
       "      <th>population</th>\n",
       "    </tr>\n",
       "  </thead>\n",
       "  <tbody>\n",
       "    <tr>\n",
       "      <th>0</th>\n",
       "      <td>AL</td>\n",
       "      <td>under18</td>\n",
       "      <td>2012</td>\n",
       "      <td>1117489.0</td>\n",
       "    </tr>\n",
       "    <tr>\n",
       "      <th>1</th>\n",
       "      <td>AL</td>\n",
       "      <td>total</td>\n",
       "      <td>2012</td>\n",
       "      <td>4817528.0</td>\n",
       "    </tr>\n",
       "    <tr>\n",
       "      <th>2</th>\n",
       "      <td>AL</td>\n",
       "      <td>under18</td>\n",
       "      <td>2010</td>\n",
       "      <td>1130966.0</td>\n",
       "    </tr>\n",
       "    <tr>\n",
       "      <th>3</th>\n",
       "      <td>AL</td>\n",
       "      <td>total</td>\n",
       "      <td>2010</td>\n",
       "      <td>4785570.0</td>\n",
       "    </tr>\n",
       "    <tr>\n",
       "      <th>4</th>\n",
       "      <td>AL</td>\n",
       "      <td>under18</td>\n",
       "      <td>2011</td>\n",
       "      <td>1125763.0</td>\n",
       "    </tr>\n",
       "  </tbody>\n",
       "</table>\n",
       "</div>\n",
       "    </div>\n",
       "<div style=\"float: left; padding: 10px;\">\n",
       "    <p style='font-family:\"Courier New\", Courier, monospace'>areas.head()</p><div>\n",
       "<style scoped>\n",
       "    .dataframe tbody tr th:only-of-type {\n",
       "        vertical-align: middle;\n",
       "    }\n",
       "\n",
       "    .dataframe tbody tr th {\n",
       "        vertical-align: top;\n",
       "    }\n",
       "\n",
       "    .dataframe thead th {\n",
       "        text-align: right;\n",
       "    }\n",
       "</style>\n",
       "<table border=\"1\" class=\"dataframe\">\n",
       "  <thead>\n",
       "    <tr style=\"text-align: right;\">\n",
       "      <th></th>\n",
       "      <th>state</th>\n",
       "      <th>area (sq. mi)</th>\n",
       "    </tr>\n",
       "  </thead>\n",
       "  <tbody>\n",
       "    <tr>\n",
       "      <th>0</th>\n",
       "      <td>Alabama</td>\n",
       "      <td>52423</td>\n",
       "    </tr>\n",
       "    <tr>\n",
       "      <th>1</th>\n",
       "      <td>Alaska</td>\n",
       "      <td>656425</td>\n",
       "    </tr>\n",
       "    <tr>\n",
       "      <th>2</th>\n",
       "      <td>Arizona</td>\n",
       "      <td>114006</td>\n",
       "    </tr>\n",
       "    <tr>\n",
       "      <th>3</th>\n",
       "      <td>Arkansas</td>\n",
       "      <td>53182</td>\n",
       "    </tr>\n",
       "    <tr>\n",
       "      <th>4</th>\n",
       "      <td>California</td>\n",
       "      <td>163707</td>\n",
       "    </tr>\n",
       "  </tbody>\n",
       "</table>\n",
       "</div>\n",
       "    </div>\n",
       "<div style=\"float: left; padding: 10px;\">\n",
       "    <p style='font-family:\"Courier New\", Courier, monospace'>abbrevs.head()</p><div>\n",
       "<style scoped>\n",
       "    .dataframe tbody tr th:only-of-type {\n",
       "        vertical-align: middle;\n",
       "    }\n",
       "\n",
       "    .dataframe tbody tr th {\n",
       "        vertical-align: top;\n",
       "    }\n",
       "\n",
       "    .dataframe thead th {\n",
       "        text-align: right;\n",
       "    }\n",
       "</style>\n",
       "<table border=\"1\" class=\"dataframe\">\n",
       "  <thead>\n",
       "    <tr style=\"text-align: right;\">\n",
       "      <th></th>\n",
       "      <th>state</th>\n",
       "      <th>abbreviation</th>\n",
       "    </tr>\n",
       "  </thead>\n",
       "  <tbody>\n",
       "    <tr>\n",
       "      <th>0</th>\n",
       "      <td>Alabama</td>\n",
       "      <td>AL</td>\n",
       "    </tr>\n",
       "    <tr>\n",
       "      <th>1</th>\n",
       "      <td>Alaska</td>\n",
       "      <td>AK</td>\n",
       "    </tr>\n",
       "    <tr>\n",
       "      <th>2</th>\n",
       "      <td>Arizona</td>\n",
       "      <td>AZ</td>\n",
       "    </tr>\n",
       "    <tr>\n",
       "      <th>3</th>\n",
       "      <td>Arkansas</td>\n",
       "      <td>AR</td>\n",
       "    </tr>\n",
       "    <tr>\n",
       "      <th>4</th>\n",
       "      <td>California</td>\n",
       "      <td>CA</td>\n",
       "    </tr>\n",
       "  </tbody>\n",
       "</table>\n",
       "</div>\n",
       "    </div>"
      ],
      "text/plain": [
       "pop.head()\n",
       "  state/region     ages  year  population\n",
       "0           AL  under18  2012   1117489.0\n",
       "1           AL    total  2012   4817528.0\n",
       "2           AL  under18  2010   1130966.0\n",
       "3           AL    total  2010   4785570.0\n",
       "4           AL  under18  2011   1125763.0\n",
       "\n",
       "areas.head()\n",
       "        state  area (sq. mi)\n",
       "0     Alabama          52423\n",
       "1      Alaska         656425\n",
       "2     Arizona         114006\n",
       "3    Arkansas          53182\n",
       "4  California         163707\n",
       "\n",
       "abbrevs.head()\n",
       "        state abbreviation\n",
       "0     Alabama           AL\n",
       "1      Alaska           AK\n",
       "2     Arizona           AZ\n",
       "3    Arkansas           AR\n",
       "4  California           CA"
      ]
     },
     "execution_count": 49,
     "metadata": {},
     "output_type": "execute_result"
    }
   ],
   "source": [
    "pop = pd.read_csv('Data/state-population.csv')\n",
    "areas = pd.read_csv('Data/state-areas.csv')\n",
    "abbrevs = pd.read_csv('Data/state-abbrevs.csv')\n",
    "display('pop.head()', 'areas.head()', 'abbrevs.head()')"
   ]
  },
  {
   "cell_type": "code",
   "execution_count": 50,
   "metadata": {},
   "outputs": [
    {
     "data": {
      "text/html": [
       "<div>\n",
       "<style scoped>\n",
       "    .dataframe tbody tr th:only-of-type {\n",
       "        vertical-align: middle;\n",
       "    }\n",
       "\n",
       "    .dataframe tbody tr th {\n",
       "        vertical-align: top;\n",
       "    }\n",
       "\n",
       "    .dataframe thead th {\n",
       "        text-align: right;\n",
       "    }\n",
       "</style>\n",
       "<table border=\"1\" class=\"dataframe\">\n",
       "  <thead>\n",
       "    <tr style=\"text-align: right;\">\n",
       "      <th></th>\n",
       "      <th>state/region</th>\n",
       "      <th>ages</th>\n",
       "      <th>year</th>\n",
       "      <th>population</th>\n",
       "      <th>state</th>\n",
       "      <th>abbreviation</th>\n",
       "    </tr>\n",
       "  </thead>\n",
       "  <tbody>\n",
       "    <tr>\n",
       "      <th>0</th>\n",
       "      <td>AL</td>\n",
       "      <td>under18</td>\n",
       "      <td>2012</td>\n",
       "      <td>1117489.0</td>\n",
       "      <td>Alabama</td>\n",
       "      <td>AL</td>\n",
       "    </tr>\n",
       "    <tr>\n",
       "      <th>1</th>\n",
       "      <td>AL</td>\n",
       "      <td>total</td>\n",
       "      <td>2012</td>\n",
       "      <td>4817528.0</td>\n",
       "      <td>Alabama</td>\n",
       "      <td>AL</td>\n",
       "    </tr>\n",
       "    <tr>\n",
       "      <th>2</th>\n",
       "      <td>AL</td>\n",
       "      <td>under18</td>\n",
       "      <td>2010</td>\n",
       "      <td>1130966.0</td>\n",
       "      <td>Alabama</td>\n",
       "      <td>AL</td>\n",
       "    </tr>\n",
       "    <tr>\n",
       "      <th>3</th>\n",
       "      <td>AL</td>\n",
       "      <td>total</td>\n",
       "      <td>2010</td>\n",
       "      <td>4785570.0</td>\n",
       "      <td>Alabama</td>\n",
       "      <td>AL</td>\n",
       "    </tr>\n",
       "    <tr>\n",
       "      <th>4</th>\n",
       "      <td>AL</td>\n",
       "      <td>under18</td>\n",
       "      <td>2011</td>\n",
       "      <td>1125763.0</td>\n",
       "      <td>Alabama</td>\n",
       "      <td>AL</td>\n",
       "    </tr>\n",
       "  </tbody>\n",
       "</table>\n",
       "</div>"
      ],
      "text/plain": [
       "  state/region     ages  year  population    state abbreviation\n",
       "0           AL  under18  2012   1117489.0  Alabama           AL\n",
       "1           AL    total  2012   4817528.0  Alabama           AL\n",
       "2           AL  under18  2010   1130966.0  Alabama           AL\n",
       "3           AL    total  2010   4785570.0  Alabama           AL\n",
       "4           AL  under18  2011   1125763.0  Alabama           AL"
      ]
     },
     "execution_count": 50,
     "metadata": {},
     "output_type": "execute_result"
    }
   ],
   "source": [
    "merged = pd.merge(pop, abbrevs, how='outer',\n",
    "                  left_on='state/region', right_on='abbreviation')\n",
    "merged.head()"
   ]
  },
  {
   "cell_type": "code",
   "execution_count": 51,
   "metadata": {},
   "outputs": [
    {
     "data": {
      "text/html": [
       "<div>\n",
       "<style scoped>\n",
       "    .dataframe tbody tr th:only-of-type {\n",
       "        vertical-align: middle;\n",
       "    }\n",
       "\n",
       "    .dataframe tbody tr th {\n",
       "        vertical-align: top;\n",
       "    }\n",
       "\n",
       "    .dataframe thead th {\n",
       "        text-align: right;\n",
       "    }\n",
       "</style>\n",
       "<table border=\"1\" class=\"dataframe\">\n",
       "  <thead>\n",
       "    <tr style=\"text-align: right;\">\n",
       "      <th></th>\n",
       "      <th>state/region</th>\n",
       "      <th>ages</th>\n",
       "      <th>year</th>\n",
       "      <th>population</th>\n",
       "      <th>state</th>\n",
       "      <th>abbreviation</th>\n",
       "      <th>area (sq. mi)</th>\n",
       "    </tr>\n",
       "  </thead>\n",
       "  <tbody>\n",
       "    <tr>\n",
       "      <th>0</th>\n",
       "      <td>AL</td>\n",
       "      <td>under18</td>\n",
       "      <td>2012</td>\n",
       "      <td>1117489.0</td>\n",
       "      <td>Alabama</td>\n",
       "      <td>AL</td>\n",
       "      <td>52423.0</td>\n",
       "    </tr>\n",
       "    <tr>\n",
       "      <th>1</th>\n",
       "      <td>AL</td>\n",
       "      <td>total</td>\n",
       "      <td>2012</td>\n",
       "      <td>4817528.0</td>\n",
       "      <td>Alabama</td>\n",
       "      <td>AL</td>\n",
       "      <td>52423.0</td>\n",
       "    </tr>\n",
       "    <tr>\n",
       "      <th>2</th>\n",
       "      <td>AL</td>\n",
       "      <td>under18</td>\n",
       "      <td>2010</td>\n",
       "      <td>1130966.0</td>\n",
       "      <td>Alabama</td>\n",
       "      <td>AL</td>\n",
       "      <td>52423.0</td>\n",
       "    </tr>\n",
       "    <tr>\n",
       "      <th>3</th>\n",
       "      <td>AL</td>\n",
       "      <td>total</td>\n",
       "      <td>2010</td>\n",
       "      <td>4785570.0</td>\n",
       "      <td>Alabama</td>\n",
       "      <td>AL</td>\n",
       "      <td>52423.0</td>\n",
       "    </tr>\n",
       "    <tr>\n",
       "      <th>4</th>\n",
       "      <td>AL</td>\n",
       "      <td>under18</td>\n",
       "      <td>2011</td>\n",
       "      <td>1125763.0</td>\n",
       "      <td>Alabama</td>\n",
       "      <td>AL</td>\n",
       "      <td>52423.0</td>\n",
       "    </tr>\n",
       "  </tbody>\n",
       "</table>\n",
       "</div>"
      ],
      "text/plain": [
       "  state/region     ages  year  population    state abbreviation  area (sq. mi)\n",
       "0           AL  under18  2012   1117489.0  Alabama           AL        52423.0\n",
       "1           AL    total  2012   4817528.0  Alabama           AL        52423.0\n",
       "2           AL  under18  2010   1130966.0  Alabama           AL        52423.0\n",
       "3           AL    total  2010   4785570.0  Alabama           AL        52423.0\n",
       "4           AL  under18  2011   1125763.0  Alabama           AL        52423.0"
      ]
     },
     "execution_count": 51,
     "metadata": {},
     "output_type": "execute_result"
    }
   ],
   "source": [
    "final = pd.merge(merged, areas, on='state', how='left')\n",
    "final.head()"
   ]
  },
  {
   "cell_type": "code",
   "execution_count": 52,
   "metadata": {},
   "outputs": [
    {
     "data": {
      "text/plain": [
       "under18    1272\n",
       "total      1272\n",
       "Name: ages, dtype: int64"
      ]
     },
     "execution_count": 52,
     "metadata": {},
     "output_type": "execute_result"
    }
   ],
   "source": [
    "final[\"ages\"].value_counts()"
   ]
  },
  {
   "cell_type": "code",
   "execution_count": 53,
   "metadata": {},
   "outputs": [
    {
     "data": {
      "text/html": [
       "<div>\n",
       "<style scoped>\n",
       "    .dataframe tbody tr th:only-of-type {\n",
       "        vertical-align: middle;\n",
       "    }\n",
       "\n",
       "    .dataframe tbody tr th {\n",
       "        vertical-align: top;\n",
       "    }\n",
       "\n",
       "    .dataframe thead th {\n",
       "        text-align: right;\n",
       "    }\n",
       "</style>\n",
       "<table border=\"1\" class=\"dataframe\">\n",
       "  <thead>\n",
       "    <tr style=\"text-align: right;\">\n",
       "      <th></th>\n",
       "      <th>state/region</th>\n",
       "      <th>ages</th>\n",
       "      <th>year</th>\n",
       "      <th>population</th>\n",
       "      <th>state</th>\n",
       "      <th>abbreviation</th>\n",
       "      <th>area (sq. mi)</th>\n",
       "    </tr>\n",
       "  </thead>\n",
       "  <tbody>\n",
       "    <tr>\n",
       "      <th>3</th>\n",
       "      <td>AL</td>\n",
       "      <td>total</td>\n",
       "      <td>2010</td>\n",
       "      <td>4785570.0</td>\n",
       "      <td>Alabama</td>\n",
       "      <td>AL</td>\n",
       "      <td>52423.0</td>\n",
       "    </tr>\n",
       "    <tr>\n",
       "      <th>91</th>\n",
       "      <td>AK</td>\n",
       "      <td>total</td>\n",
       "      <td>2010</td>\n",
       "      <td>713868.0</td>\n",
       "      <td>Alaska</td>\n",
       "      <td>AK</td>\n",
       "      <td>656425.0</td>\n",
       "    </tr>\n",
       "    <tr>\n",
       "      <th>101</th>\n",
       "      <td>AZ</td>\n",
       "      <td>total</td>\n",
       "      <td>2010</td>\n",
       "      <td>6408790.0</td>\n",
       "      <td>Arizona</td>\n",
       "      <td>AZ</td>\n",
       "      <td>114006.0</td>\n",
       "    </tr>\n",
       "    <tr>\n",
       "      <th>189</th>\n",
       "      <td>AR</td>\n",
       "      <td>total</td>\n",
       "      <td>2010</td>\n",
       "      <td>2922280.0</td>\n",
       "      <td>Arkansas</td>\n",
       "      <td>AR</td>\n",
       "      <td>53182.0</td>\n",
       "    </tr>\n",
       "    <tr>\n",
       "      <th>197</th>\n",
       "      <td>CA</td>\n",
       "      <td>total</td>\n",
       "      <td>2010</td>\n",
       "      <td>37333601.0</td>\n",
       "      <td>California</td>\n",
       "      <td>CA</td>\n",
       "      <td>163707.0</td>\n",
       "    </tr>\n",
       "    <tr>\n",
       "      <th>283</th>\n",
       "      <td>CO</td>\n",
       "      <td>total</td>\n",
       "      <td>2010</td>\n",
       "      <td>5048196.0</td>\n",
       "      <td>Colorado</td>\n",
       "      <td>CO</td>\n",
       "      <td>104100.0</td>\n",
       "    </tr>\n",
       "    <tr>\n",
       "      <th>293</th>\n",
       "      <td>CT</td>\n",
       "      <td>total</td>\n",
       "      <td>2010</td>\n",
       "      <td>3579210.0</td>\n",
       "      <td>Connecticut</td>\n",
       "      <td>CT</td>\n",
       "      <td>5544.0</td>\n",
       "    </tr>\n",
       "    <tr>\n",
       "      <th>379</th>\n",
       "      <td>DE</td>\n",
       "      <td>total</td>\n",
       "      <td>2010</td>\n",
       "      <td>899711.0</td>\n",
       "      <td>Delaware</td>\n",
       "      <td>DE</td>\n",
       "      <td>1954.0</td>\n",
       "    </tr>\n",
       "    <tr>\n",
       "      <th>389</th>\n",
       "      <td>DC</td>\n",
       "      <td>total</td>\n",
       "      <td>2010</td>\n",
       "      <td>605125.0</td>\n",
       "      <td>District of Columbia</td>\n",
       "      <td>DC</td>\n",
       "      <td>68.0</td>\n",
       "    </tr>\n",
       "    <tr>\n",
       "      <th>475</th>\n",
       "      <td>FL</td>\n",
       "      <td>total</td>\n",
       "      <td>2010</td>\n",
       "      <td>18846054.0</td>\n",
       "      <td>Florida</td>\n",
       "      <td>FL</td>\n",
       "      <td>65758.0</td>\n",
       "    </tr>\n",
       "    <tr>\n",
       "      <th>485</th>\n",
       "      <td>GA</td>\n",
       "      <td>total</td>\n",
       "      <td>2010</td>\n",
       "      <td>9713248.0</td>\n",
       "      <td>Georgia</td>\n",
       "      <td>GA</td>\n",
       "      <td>59441.0</td>\n",
       "    </tr>\n",
       "    <tr>\n",
       "      <th>570</th>\n",
       "      <td>HI</td>\n",
       "      <td>total</td>\n",
       "      <td>2010</td>\n",
       "      <td>1363731.0</td>\n",
       "      <td>Hawaii</td>\n",
       "      <td>HI</td>\n",
       "      <td>10932.0</td>\n",
       "    </tr>\n",
       "    <tr>\n",
       "      <th>581</th>\n",
       "      <td>ID</td>\n",
       "      <td>total</td>\n",
       "      <td>2010</td>\n",
       "      <td>1570718.0</td>\n",
       "      <td>Idaho</td>\n",
       "      <td>ID</td>\n",
       "      <td>83574.0</td>\n",
       "    </tr>\n",
       "    <tr>\n",
       "      <th>666</th>\n",
       "      <td>IL</td>\n",
       "      <td>total</td>\n",
       "      <td>2010</td>\n",
       "      <td>12839695.0</td>\n",
       "      <td>Illinois</td>\n",
       "      <td>IL</td>\n",
       "      <td>57918.0</td>\n",
       "    </tr>\n",
       "    <tr>\n",
       "      <th>677</th>\n",
       "      <td>IN</td>\n",
       "      <td>total</td>\n",
       "      <td>2010</td>\n",
       "      <td>6489965.0</td>\n",
       "      <td>Indiana</td>\n",
       "      <td>IN</td>\n",
       "      <td>36420.0</td>\n",
       "    </tr>\n",
       "    <tr>\n",
       "      <th>762</th>\n",
       "      <td>IA</td>\n",
       "      <td>total</td>\n",
       "      <td>2010</td>\n",
       "      <td>3050314.0</td>\n",
       "      <td>Iowa</td>\n",
       "      <td>IA</td>\n",
       "      <td>56276.0</td>\n",
       "    </tr>\n",
       "    <tr>\n",
       "      <th>773</th>\n",
       "      <td>KS</td>\n",
       "      <td>total</td>\n",
       "      <td>2010</td>\n",
       "      <td>2858910.0</td>\n",
       "      <td>Kansas</td>\n",
       "      <td>KS</td>\n",
       "      <td>82282.0</td>\n",
       "    </tr>\n",
       "    <tr>\n",
       "      <th>858</th>\n",
       "      <td>KY</td>\n",
       "      <td>total</td>\n",
       "      <td>2010</td>\n",
       "      <td>4347698.0</td>\n",
       "      <td>Kentucky</td>\n",
       "      <td>KY</td>\n",
       "      <td>40411.0</td>\n",
       "    </tr>\n",
       "    <tr>\n",
       "      <th>869</th>\n",
       "      <td>LA</td>\n",
       "      <td>total</td>\n",
       "      <td>2010</td>\n",
       "      <td>4545392.0</td>\n",
       "      <td>Louisiana</td>\n",
       "      <td>LA</td>\n",
       "      <td>51843.0</td>\n",
       "    </tr>\n",
       "    <tr>\n",
       "      <th>954</th>\n",
       "      <td>ME</td>\n",
       "      <td>total</td>\n",
       "      <td>2010</td>\n",
       "      <td>1327366.0</td>\n",
       "      <td>Maine</td>\n",
       "      <td>ME</td>\n",
       "      <td>35387.0</td>\n",
       "    </tr>\n",
       "    <tr>\n",
       "      <th>965</th>\n",
       "      <td>MD</td>\n",
       "      <td>total</td>\n",
       "      <td>2010</td>\n",
       "      <td>5787193.0</td>\n",
       "      <td>Maryland</td>\n",
       "      <td>MD</td>\n",
       "      <td>12407.0</td>\n",
       "    </tr>\n",
       "    <tr>\n",
       "      <th>1050</th>\n",
       "      <td>MA</td>\n",
       "      <td>total</td>\n",
       "      <td>2010</td>\n",
       "      <td>6563263.0</td>\n",
       "      <td>Massachusetts</td>\n",
       "      <td>MA</td>\n",
       "      <td>10555.0</td>\n",
       "    </tr>\n",
       "    <tr>\n",
       "      <th>1061</th>\n",
       "      <td>MI</td>\n",
       "      <td>total</td>\n",
       "      <td>2010</td>\n",
       "      <td>9876149.0</td>\n",
       "      <td>Michigan</td>\n",
       "      <td>MI</td>\n",
       "      <td>96810.0</td>\n",
       "    </tr>\n",
       "    <tr>\n",
       "      <th>1146</th>\n",
       "      <td>MN</td>\n",
       "      <td>total</td>\n",
       "      <td>2010</td>\n",
       "      <td>5310337.0</td>\n",
       "      <td>Minnesota</td>\n",
       "      <td>MN</td>\n",
       "      <td>86943.0</td>\n",
       "    </tr>\n",
       "    <tr>\n",
       "      <th>1157</th>\n",
       "      <td>MS</td>\n",
       "      <td>total</td>\n",
       "      <td>2010</td>\n",
       "      <td>2970047.0</td>\n",
       "      <td>Mississippi</td>\n",
       "      <td>MS</td>\n",
       "      <td>48434.0</td>\n",
       "    </tr>\n",
       "    <tr>\n",
       "      <th>1242</th>\n",
       "      <td>MO</td>\n",
       "      <td>total</td>\n",
       "      <td>2010</td>\n",
       "      <td>5996063.0</td>\n",
       "      <td>Missouri</td>\n",
       "      <td>MO</td>\n",
       "      <td>69709.0</td>\n",
       "    </tr>\n",
       "    <tr>\n",
       "      <th>1253</th>\n",
       "      <td>MT</td>\n",
       "      <td>total</td>\n",
       "      <td>2010</td>\n",
       "      <td>990527.0</td>\n",
       "      <td>Montana</td>\n",
       "      <td>MT</td>\n",
       "      <td>147046.0</td>\n",
       "    </tr>\n",
       "    <tr>\n",
       "      <th>1338</th>\n",
       "      <td>NE</td>\n",
       "      <td>total</td>\n",
       "      <td>2010</td>\n",
       "      <td>1829838.0</td>\n",
       "      <td>Nebraska</td>\n",
       "      <td>NE</td>\n",
       "      <td>77358.0</td>\n",
       "    </tr>\n",
       "    <tr>\n",
       "      <th>1349</th>\n",
       "      <td>NV</td>\n",
       "      <td>total</td>\n",
       "      <td>2010</td>\n",
       "      <td>2703230.0</td>\n",
       "      <td>Nevada</td>\n",
       "      <td>NV</td>\n",
       "      <td>110567.0</td>\n",
       "    </tr>\n",
       "    <tr>\n",
       "      <th>1434</th>\n",
       "      <td>NH</td>\n",
       "      <td>total</td>\n",
       "      <td>2010</td>\n",
       "      <td>1316614.0</td>\n",
       "      <td>New Hampshire</td>\n",
       "      <td>NH</td>\n",
       "      <td>9351.0</td>\n",
       "    </tr>\n",
       "    <tr>\n",
       "      <th>1445</th>\n",
       "      <td>NJ</td>\n",
       "      <td>total</td>\n",
       "      <td>2010</td>\n",
       "      <td>8802707.0</td>\n",
       "      <td>New Jersey</td>\n",
       "      <td>NJ</td>\n",
       "      <td>8722.0</td>\n",
       "    </tr>\n",
       "    <tr>\n",
       "      <th>1530</th>\n",
       "      <td>NM</td>\n",
       "      <td>total</td>\n",
       "      <td>2010</td>\n",
       "      <td>2064982.0</td>\n",
       "      <td>New Mexico</td>\n",
       "      <td>NM</td>\n",
       "      <td>121593.0</td>\n",
       "    </tr>\n",
       "    <tr>\n",
       "      <th>1541</th>\n",
       "      <td>NY</td>\n",
       "      <td>total</td>\n",
       "      <td>2010</td>\n",
       "      <td>19398228.0</td>\n",
       "      <td>New York</td>\n",
       "      <td>NY</td>\n",
       "      <td>54475.0</td>\n",
       "    </tr>\n",
       "    <tr>\n",
       "      <th>1626</th>\n",
       "      <td>NC</td>\n",
       "      <td>total</td>\n",
       "      <td>2010</td>\n",
       "      <td>9559533.0</td>\n",
       "      <td>North Carolina</td>\n",
       "      <td>NC</td>\n",
       "      <td>53821.0</td>\n",
       "    </tr>\n",
       "    <tr>\n",
       "      <th>1637</th>\n",
       "      <td>ND</td>\n",
       "      <td>total</td>\n",
       "      <td>2010</td>\n",
       "      <td>674344.0</td>\n",
       "      <td>North Dakota</td>\n",
       "      <td>ND</td>\n",
       "      <td>70704.0</td>\n",
       "    </tr>\n",
       "    <tr>\n",
       "      <th>1722</th>\n",
       "      <td>OH</td>\n",
       "      <td>total</td>\n",
       "      <td>2010</td>\n",
       "      <td>11545435.0</td>\n",
       "      <td>Ohio</td>\n",
       "      <td>OH</td>\n",
       "      <td>44828.0</td>\n",
       "    </tr>\n",
       "    <tr>\n",
       "      <th>1733</th>\n",
       "      <td>OK</td>\n",
       "      <td>total</td>\n",
       "      <td>2010</td>\n",
       "      <td>3759263.0</td>\n",
       "      <td>Oklahoma</td>\n",
       "      <td>OK</td>\n",
       "      <td>69903.0</td>\n",
       "    </tr>\n",
       "    <tr>\n",
       "      <th>1818</th>\n",
       "      <td>OR</td>\n",
       "      <td>total</td>\n",
       "      <td>2010</td>\n",
       "      <td>3837208.0</td>\n",
       "      <td>Oregon</td>\n",
       "      <td>OR</td>\n",
       "      <td>98386.0</td>\n",
       "    </tr>\n",
       "    <tr>\n",
       "      <th>1829</th>\n",
       "      <td>PA</td>\n",
       "      <td>total</td>\n",
       "      <td>2010</td>\n",
       "      <td>12710472.0</td>\n",
       "      <td>Pennsylvania</td>\n",
       "      <td>PA</td>\n",
       "      <td>46058.0</td>\n",
       "    </tr>\n",
       "    <tr>\n",
       "      <th>1914</th>\n",
       "      <td>RI</td>\n",
       "      <td>total</td>\n",
       "      <td>2010</td>\n",
       "      <td>1052669.0</td>\n",
       "      <td>Rhode Island</td>\n",
       "      <td>RI</td>\n",
       "      <td>1545.0</td>\n",
       "    </tr>\n",
       "    <tr>\n",
       "      <th>1925</th>\n",
       "      <td>SC</td>\n",
       "      <td>total</td>\n",
       "      <td>2010</td>\n",
       "      <td>4636361.0</td>\n",
       "      <td>South Carolina</td>\n",
       "      <td>SC</td>\n",
       "      <td>32007.0</td>\n",
       "    </tr>\n",
       "    <tr>\n",
       "      <th>2010</th>\n",
       "      <td>SD</td>\n",
       "      <td>total</td>\n",
       "      <td>2010</td>\n",
       "      <td>816211.0</td>\n",
       "      <td>South Dakota</td>\n",
       "      <td>SD</td>\n",
       "      <td>77121.0</td>\n",
       "    </tr>\n",
       "    <tr>\n",
       "      <th>2021</th>\n",
       "      <td>TN</td>\n",
       "      <td>total</td>\n",
       "      <td>2010</td>\n",
       "      <td>6356683.0</td>\n",
       "      <td>Tennessee</td>\n",
       "      <td>TN</td>\n",
       "      <td>42146.0</td>\n",
       "    </tr>\n",
       "    <tr>\n",
       "      <th>2106</th>\n",
       "      <td>TX</td>\n",
       "      <td>total</td>\n",
       "      <td>2010</td>\n",
       "      <td>25245178.0</td>\n",
       "      <td>Texas</td>\n",
       "      <td>TX</td>\n",
       "      <td>268601.0</td>\n",
       "    </tr>\n",
       "    <tr>\n",
       "      <th>2117</th>\n",
       "      <td>UT</td>\n",
       "      <td>total</td>\n",
       "      <td>2010</td>\n",
       "      <td>2774424.0</td>\n",
       "      <td>Utah</td>\n",
       "      <td>UT</td>\n",
       "      <td>84904.0</td>\n",
       "    </tr>\n",
       "    <tr>\n",
       "      <th>2202</th>\n",
       "      <td>VT</td>\n",
       "      <td>total</td>\n",
       "      <td>2010</td>\n",
       "      <td>625793.0</td>\n",
       "      <td>Vermont</td>\n",
       "      <td>VT</td>\n",
       "      <td>9615.0</td>\n",
       "    </tr>\n",
       "    <tr>\n",
       "      <th>2213</th>\n",
       "      <td>VA</td>\n",
       "      <td>total</td>\n",
       "      <td>2010</td>\n",
       "      <td>8024417.0</td>\n",
       "      <td>Virginia</td>\n",
       "      <td>VA</td>\n",
       "      <td>42769.0</td>\n",
       "    </tr>\n",
       "    <tr>\n",
       "      <th>2298</th>\n",
       "      <td>WA</td>\n",
       "      <td>total</td>\n",
       "      <td>2010</td>\n",
       "      <td>6742256.0</td>\n",
       "      <td>Washington</td>\n",
       "      <td>WA</td>\n",
       "      <td>71303.0</td>\n",
       "    </tr>\n",
       "    <tr>\n",
       "      <th>2309</th>\n",
       "      <td>WV</td>\n",
       "      <td>total</td>\n",
       "      <td>2010</td>\n",
       "      <td>1854146.0</td>\n",
       "      <td>West Virginia</td>\n",
       "      <td>WV</td>\n",
       "      <td>24231.0</td>\n",
       "    </tr>\n",
       "    <tr>\n",
       "      <th>2394</th>\n",
       "      <td>WI</td>\n",
       "      <td>total</td>\n",
       "      <td>2010</td>\n",
       "      <td>5689060.0</td>\n",
       "      <td>Wisconsin</td>\n",
       "      <td>WI</td>\n",
       "      <td>65503.0</td>\n",
       "    </tr>\n",
       "    <tr>\n",
       "      <th>2405</th>\n",
       "      <td>WY</td>\n",
       "      <td>total</td>\n",
       "      <td>2010</td>\n",
       "      <td>564222.0</td>\n",
       "      <td>Wyoming</td>\n",
       "      <td>WY</td>\n",
       "      <td>97818.0</td>\n",
       "    </tr>\n",
       "    <tr>\n",
       "      <th>2490</th>\n",
       "      <td>PR</td>\n",
       "      <td>total</td>\n",
       "      <td>2010</td>\n",
       "      <td>3721208.0</td>\n",
       "      <td>NaN</td>\n",
       "      <td>NaN</td>\n",
       "      <td>NaN</td>\n",
       "    </tr>\n",
       "    <tr>\n",
       "      <th>2539</th>\n",
       "      <td>USA</td>\n",
       "      <td>total</td>\n",
       "      <td>2010</td>\n",
       "      <td>309326295.0</td>\n",
       "      <td>NaN</td>\n",
       "      <td>NaN</td>\n",
       "      <td>NaN</td>\n",
       "    </tr>\n",
       "  </tbody>\n",
       "</table>\n",
       "</div>"
      ],
      "text/plain": [
       "     state/region   ages  year   population                 state  \\\n",
       "3              AL  total  2010    4785570.0               Alabama   \n",
       "91             AK  total  2010     713868.0                Alaska   \n",
       "101            AZ  total  2010    6408790.0               Arizona   \n",
       "189            AR  total  2010    2922280.0              Arkansas   \n",
       "197            CA  total  2010   37333601.0            California   \n",
       "283            CO  total  2010    5048196.0              Colorado   \n",
       "293            CT  total  2010    3579210.0           Connecticut   \n",
       "379            DE  total  2010     899711.0              Delaware   \n",
       "389            DC  total  2010     605125.0  District of Columbia   \n",
       "475            FL  total  2010   18846054.0               Florida   \n",
       "485            GA  total  2010    9713248.0               Georgia   \n",
       "570            HI  total  2010    1363731.0                Hawaii   \n",
       "581            ID  total  2010    1570718.0                 Idaho   \n",
       "666            IL  total  2010   12839695.0              Illinois   \n",
       "677            IN  total  2010    6489965.0               Indiana   \n",
       "762            IA  total  2010    3050314.0                  Iowa   \n",
       "773            KS  total  2010    2858910.0                Kansas   \n",
       "858            KY  total  2010    4347698.0              Kentucky   \n",
       "869            LA  total  2010    4545392.0             Louisiana   \n",
       "954            ME  total  2010    1327366.0                 Maine   \n",
       "965            MD  total  2010    5787193.0              Maryland   \n",
       "1050           MA  total  2010    6563263.0         Massachusetts   \n",
       "1061           MI  total  2010    9876149.0              Michigan   \n",
       "1146           MN  total  2010    5310337.0             Minnesota   \n",
       "1157           MS  total  2010    2970047.0           Mississippi   \n",
       "1242           MO  total  2010    5996063.0              Missouri   \n",
       "1253           MT  total  2010     990527.0               Montana   \n",
       "1338           NE  total  2010    1829838.0              Nebraska   \n",
       "1349           NV  total  2010    2703230.0                Nevada   \n",
       "1434           NH  total  2010    1316614.0         New Hampshire   \n",
       "1445           NJ  total  2010    8802707.0            New Jersey   \n",
       "1530           NM  total  2010    2064982.0            New Mexico   \n",
       "1541           NY  total  2010   19398228.0              New York   \n",
       "1626           NC  total  2010    9559533.0        North Carolina   \n",
       "1637           ND  total  2010     674344.0          North Dakota   \n",
       "1722           OH  total  2010   11545435.0                  Ohio   \n",
       "1733           OK  total  2010    3759263.0              Oklahoma   \n",
       "1818           OR  total  2010    3837208.0                Oregon   \n",
       "1829           PA  total  2010   12710472.0          Pennsylvania   \n",
       "1914           RI  total  2010    1052669.0          Rhode Island   \n",
       "1925           SC  total  2010    4636361.0        South Carolina   \n",
       "2010           SD  total  2010     816211.0          South Dakota   \n",
       "2021           TN  total  2010    6356683.0             Tennessee   \n",
       "2106           TX  total  2010   25245178.0                 Texas   \n",
       "2117           UT  total  2010    2774424.0                  Utah   \n",
       "2202           VT  total  2010     625793.0               Vermont   \n",
       "2213           VA  total  2010    8024417.0              Virginia   \n",
       "2298           WA  total  2010    6742256.0            Washington   \n",
       "2309           WV  total  2010    1854146.0         West Virginia   \n",
       "2394           WI  total  2010    5689060.0             Wisconsin   \n",
       "2405           WY  total  2010     564222.0               Wyoming   \n",
       "2490           PR  total  2010    3721208.0                   NaN   \n",
       "2539          USA  total  2010  309326295.0                   NaN   \n",
       "\n",
       "     abbreviation  area (sq. mi)  \n",
       "3              AL        52423.0  \n",
       "91             AK       656425.0  \n",
       "101            AZ       114006.0  \n",
       "189            AR        53182.0  \n",
       "197            CA       163707.0  \n",
       "283            CO       104100.0  \n",
       "293            CT         5544.0  \n",
       "379            DE         1954.0  \n",
       "389            DC           68.0  \n",
       "475            FL        65758.0  \n",
       "485            GA        59441.0  \n",
       "570            HI        10932.0  \n",
       "581            ID        83574.0  \n",
       "666            IL        57918.0  \n",
       "677            IN        36420.0  \n",
       "762            IA        56276.0  \n",
       "773            KS        82282.0  \n",
       "858            KY        40411.0  \n",
       "869            LA        51843.0  \n",
       "954            ME        35387.0  \n",
       "965            MD        12407.0  \n",
       "1050           MA        10555.0  \n",
       "1061           MI        96810.0  \n",
       "1146           MN        86943.0  \n",
       "1157           MS        48434.0  \n",
       "1242           MO        69709.0  \n",
       "1253           MT       147046.0  \n",
       "1338           NE        77358.0  \n",
       "1349           NV       110567.0  \n",
       "1434           NH         9351.0  \n",
       "1445           NJ         8722.0  \n",
       "1530           NM       121593.0  \n",
       "1541           NY        54475.0  \n",
       "1626           NC        53821.0  \n",
       "1637           ND        70704.0  \n",
       "1722           OH        44828.0  \n",
       "1733           OK        69903.0  \n",
       "1818           OR        98386.0  \n",
       "1829           PA        46058.0  \n",
       "1914           RI         1545.0  \n",
       "1925           SC        32007.0  \n",
       "2010           SD        77121.0  \n",
       "2021           TN        42146.0  \n",
       "2106           TX       268601.0  \n",
       "2117           UT        84904.0  \n",
       "2202           VT         9615.0  \n",
       "2213           VA        42769.0  \n",
       "2298           WA        71303.0  \n",
       "2309           WV        24231.0  \n",
       "2394           WI        65503.0  \n",
       "2405           WY        97818.0  \n",
       "2490          NaN            NaN  \n",
       "2539          NaN            NaN  "
      ]
     },
     "execution_count": 53,
     "metadata": {},
     "output_type": "execute_result"
    }
   ],
   "source": [
    "final=final.loc[(final['ages'] == 'total')&(final[\"year\"]==2010),]\n",
    "final"
   ]
  },
  {
   "cell_type": "code",
   "execution_count": 54,
   "metadata": {},
   "outputs": [
    {
     "data": {
      "text/html": [
       "<div>\n",
       "<style scoped>\n",
       "    .dataframe tbody tr th:only-of-type {\n",
       "        vertical-align: middle;\n",
       "    }\n",
       "\n",
       "    .dataframe tbody tr th {\n",
       "        vertical-align: top;\n",
       "    }\n",
       "\n",
       "    .dataframe thead th {\n",
       "        text-align: right;\n",
       "    }\n",
       "</style>\n",
       "<table border=\"1\" class=\"dataframe\">\n",
       "  <thead>\n",
       "    <tr style=\"text-align: right;\">\n",
       "      <th></th>\n",
       "      <th>state/region</th>\n",
       "      <th>ages</th>\n",
       "      <th>year</th>\n",
       "      <th>population</th>\n",
       "      <th>state</th>\n",
       "      <th>abbreviation</th>\n",
       "      <th>area (sq. mi)</th>\n",
       "      <th>density</th>\n",
       "    </tr>\n",
       "  </thead>\n",
       "  <tbody>\n",
       "    <tr>\n",
       "      <th>3</th>\n",
       "      <td>AL</td>\n",
       "      <td>total</td>\n",
       "      <td>2010</td>\n",
       "      <td>4785570.0</td>\n",
       "      <td>Alabama</td>\n",
       "      <td>AL</td>\n",
       "      <td>52423.0</td>\n",
       "      <td>91.287603</td>\n",
       "    </tr>\n",
       "    <tr>\n",
       "      <th>91</th>\n",
       "      <td>AK</td>\n",
       "      <td>total</td>\n",
       "      <td>2010</td>\n",
       "      <td>713868.0</td>\n",
       "      <td>Alaska</td>\n",
       "      <td>AK</td>\n",
       "      <td>656425.0</td>\n",
       "      <td>1.087509</td>\n",
       "    </tr>\n",
       "    <tr>\n",
       "      <th>101</th>\n",
       "      <td>AZ</td>\n",
       "      <td>total</td>\n",
       "      <td>2010</td>\n",
       "      <td>6408790.0</td>\n",
       "      <td>Arizona</td>\n",
       "      <td>AZ</td>\n",
       "      <td>114006.0</td>\n",
       "      <td>56.214497</td>\n",
       "    </tr>\n",
       "    <tr>\n",
       "      <th>189</th>\n",
       "      <td>AR</td>\n",
       "      <td>total</td>\n",
       "      <td>2010</td>\n",
       "      <td>2922280.0</td>\n",
       "      <td>Arkansas</td>\n",
       "      <td>AR</td>\n",
       "      <td>53182.0</td>\n",
       "      <td>54.948667</td>\n",
       "    </tr>\n",
       "    <tr>\n",
       "      <th>197</th>\n",
       "      <td>CA</td>\n",
       "      <td>total</td>\n",
       "      <td>2010</td>\n",
       "      <td>37333601.0</td>\n",
       "      <td>California</td>\n",
       "      <td>CA</td>\n",
       "      <td>163707.0</td>\n",
       "      <td>228.051342</td>\n",
       "    </tr>\n",
       "    <tr>\n",
       "      <th>283</th>\n",
       "      <td>CO</td>\n",
       "      <td>total</td>\n",
       "      <td>2010</td>\n",
       "      <td>5048196.0</td>\n",
       "      <td>Colorado</td>\n",
       "      <td>CO</td>\n",
       "      <td>104100.0</td>\n",
       "      <td>48.493718</td>\n",
       "    </tr>\n",
       "    <tr>\n",
       "      <th>293</th>\n",
       "      <td>CT</td>\n",
       "      <td>total</td>\n",
       "      <td>2010</td>\n",
       "      <td>3579210.0</td>\n",
       "      <td>Connecticut</td>\n",
       "      <td>CT</td>\n",
       "      <td>5544.0</td>\n",
       "      <td>645.600649</td>\n",
       "    </tr>\n",
       "    <tr>\n",
       "      <th>379</th>\n",
       "      <td>DE</td>\n",
       "      <td>total</td>\n",
       "      <td>2010</td>\n",
       "      <td>899711.0</td>\n",
       "      <td>Delaware</td>\n",
       "      <td>DE</td>\n",
       "      <td>1954.0</td>\n",
       "      <td>460.445752</td>\n",
       "    </tr>\n",
       "    <tr>\n",
       "      <th>389</th>\n",
       "      <td>DC</td>\n",
       "      <td>total</td>\n",
       "      <td>2010</td>\n",
       "      <td>605125.0</td>\n",
       "      <td>District of Columbia</td>\n",
       "      <td>DC</td>\n",
       "      <td>68.0</td>\n",
       "      <td>8898.897059</td>\n",
       "    </tr>\n",
       "    <tr>\n",
       "      <th>475</th>\n",
       "      <td>FL</td>\n",
       "      <td>total</td>\n",
       "      <td>2010</td>\n",
       "      <td>18846054.0</td>\n",
       "      <td>Florida</td>\n",
       "      <td>FL</td>\n",
       "      <td>65758.0</td>\n",
       "      <td>286.597129</td>\n",
       "    </tr>\n",
       "    <tr>\n",
       "      <th>485</th>\n",
       "      <td>GA</td>\n",
       "      <td>total</td>\n",
       "      <td>2010</td>\n",
       "      <td>9713248.0</td>\n",
       "      <td>Georgia</td>\n",
       "      <td>GA</td>\n",
       "      <td>59441.0</td>\n",
       "      <td>163.409902</td>\n",
       "    </tr>\n",
       "    <tr>\n",
       "      <th>570</th>\n",
       "      <td>HI</td>\n",
       "      <td>total</td>\n",
       "      <td>2010</td>\n",
       "      <td>1363731.0</td>\n",
       "      <td>Hawaii</td>\n",
       "      <td>HI</td>\n",
       "      <td>10932.0</td>\n",
       "      <td>124.746707</td>\n",
       "    </tr>\n",
       "    <tr>\n",
       "      <th>581</th>\n",
       "      <td>ID</td>\n",
       "      <td>total</td>\n",
       "      <td>2010</td>\n",
       "      <td>1570718.0</td>\n",
       "      <td>Idaho</td>\n",
       "      <td>ID</td>\n",
       "      <td>83574.0</td>\n",
       "      <td>18.794338</td>\n",
       "    </tr>\n",
       "    <tr>\n",
       "      <th>666</th>\n",
       "      <td>IL</td>\n",
       "      <td>total</td>\n",
       "      <td>2010</td>\n",
       "      <td>12839695.0</td>\n",
       "      <td>Illinois</td>\n",
       "      <td>IL</td>\n",
       "      <td>57918.0</td>\n",
       "      <td>221.687472</td>\n",
       "    </tr>\n",
       "    <tr>\n",
       "      <th>677</th>\n",
       "      <td>IN</td>\n",
       "      <td>total</td>\n",
       "      <td>2010</td>\n",
       "      <td>6489965.0</td>\n",
       "      <td>Indiana</td>\n",
       "      <td>IN</td>\n",
       "      <td>36420.0</td>\n",
       "      <td>178.197831</td>\n",
       "    </tr>\n",
       "    <tr>\n",
       "      <th>762</th>\n",
       "      <td>IA</td>\n",
       "      <td>total</td>\n",
       "      <td>2010</td>\n",
       "      <td>3050314.0</td>\n",
       "      <td>Iowa</td>\n",
       "      <td>IA</td>\n",
       "      <td>56276.0</td>\n",
       "      <td>54.202751</td>\n",
       "    </tr>\n",
       "    <tr>\n",
       "      <th>773</th>\n",
       "      <td>KS</td>\n",
       "      <td>total</td>\n",
       "      <td>2010</td>\n",
       "      <td>2858910.0</td>\n",
       "      <td>Kansas</td>\n",
       "      <td>KS</td>\n",
       "      <td>82282.0</td>\n",
       "      <td>34.745266</td>\n",
       "    </tr>\n",
       "    <tr>\n",
       "      <th>858</th>\n",
       "      <td>KY</td>\n",
       "      <td>total</td>\n",
       "      <td>2010</td>\n",
       "      <td>4347698.0</td>\n",
       "      <td>Kentucky</td>\n",
       "      <td>KY</td>\n",
       "      <td>40411.0</td>\n",
       "      <td>107.586994</td>\n",
       "    </tr>\n",
       "    <tr>\n",
       "      <th>869</th>\n",
       "      <td>LA</td>\n",
       "      <td>total</td>\n",
       "      <td>2010</td>\n",
       "      <td>4545392.0</td>\n",
       "      <td>Louisiana</td>\n",
       "      <td>LA</td>\n",
       "      <td>51843.0</td>\n",
       "      <td>87.676099</td>\n",
       "    </tr>\n",
       "    <tr>\n",
       "      <th>954</th>\n",
       "      <td>ME</td>\n",
       "      <td>total</td>\n",
       "      <td>2010</td>\n",
       "      <td>1327366.0</td>\n",
       "      <td>Maine</td>\n",
       "      <td>ME</td>\n",
       "      <td>35387.0</td>\n",
       "      <td>37.509990</td>\n",
       "    </tr>\n",
       "    <tr>\n",
       "      <th>965</th>\n",
       "      <td>MD</td>\n",
       "      <td>total</td>\n",
       "      <td>2010</td>\n",
       "      <td>5787193.0</td>\n",
       "      <td>Maryland</td>\n",
       "      <td>MD</td>\n",
       "      <td>12407.0</td>\n",
       "      <td>466.445797</td>\n",
       "    </tr>\n",
       "    <tr>\n",
       "      <th>1050</th>\n",
       "      <td>MA</td>\n",
       "      <td>total</td>\n",
       "      <td>2010</td>\n",
       "      <td>6563263.0</td>\n",
       "      <td>Massachusetts</td>\n",
       "      <td>MA</td>\n",
       "      <td>10555.0</td>\n",
       "      <td>621.815538</td>\n",
       "    </tr>\n",
       "    <tr>\n",
       "      <th>1061</th>\n",
       "      <td>MI</td>\n",
       "      <td>total</td>\n",
       "      <td>2010</td>\n",
       "      <td>9876149.0</td>\n",
       "      <td>Michigan</td>\n",
       "      <td>MI</td>\n",
       "      <td>96810.0</td>\n",
       "      <td>102.015794</td>\n",
       "    </tr>\n",
       "    <tr>\n",
       "      <th>1146</th>\n",
       "      <td>MN</td>\n",
       "      <td>total</td>\n",
       "      <td>2010</td>\n",
       "      <td>5310337.0</td>\n",
       "      <td>Minnesota</td>\n",
       "      <td>MN</td>\n",
       "      <td>86943.0</td>\n",
       "      <td>61.078373</td>\n",
       "    </tr>\n",
       "    <tr>\n",
       "      <th>1157</th>\n",
       "      <td>MS</td>\n",
       "      <td>total</td>\n",
       "      <td>2010</td>\n",
       "      <td>2970047.0</td>\n",
       "      <td>Mississippi</td>\n",
       "      <td>MS</td>\n",
       "      <td>48434.0</td>\n",
       "      <td>61.321530</td>\n",
       "    </tr>\n",
       "    <tr>\n",
       "      <th>1242</th>\n",
       "      <td>MO</td>\n",
       "      <td>total</td>\n",
       "      <td>2010</td>\n",
       "      <td>5996063.0</td>\n",
       "      <td>Missouri</td>\n",
       "      <td>MO</td>\n",
       "      <td>69709.0</td>\n",
       "      <td>86.015622</td>\n",
       "    </tr>\n",
       "    <tr>\n",
       "      <th>1253</th>\n",
       "      <td>MT</td>\n",
       "      <td>total</td>\n",
       "      <td>2010</td>\n",
       "      <td>990527.0</td>\n",
       "      <td>Montana</td>\n",
       "      <td>MT</td>\n",
       "      <td>147046.0</td>\n",
       "      <td>6.736171</td>\n",
       "    </tr>\n",
       "    <tr>\n",
       "      <th>1338</th>\n",
       "      <td>NE</td>\n",
       "      <td>total</td>\n",
       "      <td>2010</td>\n",
       "      <td>1829838.0</td>\n",
       "      <td>Nebraska</td>\n",
       "      <td>NE</td>\n",
       "      <td>77358.0</td>\n",
       "      <td>23.654153</td>\n",
       "    </tr>\n",
       "    <tr>\n",
       "      <th>1349</th>\n",
       "      <td>NV</td>\n",
       "      <td>total</td>\n",
       "      <td>2010</td>\n",
       "      <td>2703230.0</td>\n",
       "      <td>Nevada</td>\n",
       "      <td>NV</td>\n",
       "      <td>110567.0</td>\n",
       "      <td>24.448796</td>\n",
       "    </tr>\n",
       "    <tr>\n",
       "      <th>1434</th>\n",
       "      <td>NH</td>\n",
       "      <td>total</td>\n",
       "      <td>2010</td>\n",
       "      <td>1316614.0</td>\n",
       "      <td>New Hampshire</td>\n",
       "      <td>NH</td>\n",
       "      <td>9351.0</td>\n",
       "      <td>140.799273</td>\n",
       "    </tr>\n",
       "    <tr>\n",
       "      <th>1445</th>\n",
       "      <td>NJ</td>\n",
       "      <td>total</td>\n",
       "      <td>2010</td>\n",
       "      <td>8802707.0</td>\n",
       "      <td>New Jersey</td>\n",
       "      <td>NJ</td>\n",
       "      <td>8722.0</td>\n",
       "      <td>1009.253268</td>\n",
       "    </tr>\n",
       "    <tr>\n",
       "      <th>1530</th>\n",
       "      <td>NM</td>\n",
       "      <td>total</td>\n",
       "      <td>2010</td>\n",
       "      <td>2064982.0</td>\n",
       "      <td>New Mexico</td>\n",
       "      <td>NM</td>\n",
       "      <td>121593.0</td>\n",
       "      <td>16.982737</td>\n",
       "    </tr>\n",
       "    <tr>\n",
       "      <th>1541</th>\n",
       "      <td>NY</td>\n",
       "      <td>total</td>\n",
       "      <td>2010</td>\n",
       "      <td>19398228.0</td>\n",
       "      <td>New York</td>\n",
       "      <td>NY</td>\n",
       "      <td>54475.0</td>\n",
       "      <td>356.094135</td>\n",
       "    </tr>\n",
       "    <tr>\n",
       "      <th>1626</th>\n",
       "      <td>NC</td>\n",
       "      <td>total</td>\n",
       "      <td>2010</td>\n",
       "      <td>9559533.0</td>\n",
       "      <td>North Carolina</td>\n",
       "      <td>NC</td>\n",
       "      <td>53821.0</td>\n",
       "      <td>177.617157</td>\n",
       "    </tr>\n",
       "    <tr>\n",
       "      <th>1637</th>\n",
       "      <td>ND</td>\n",
       "      <td>total</td>\n",
       "      <td>2010</td>\n",
       "      <td>674344.0</td>\n",
       "      <td>North Dakota</td>\n",
       "      <td>ND</td>\n",
       "      <td>70704.0</td>\n",
       "      <td>9.537565</td>\n",
       "    </tr>\n",
       "    <tr>\n",
       "      <th>1722</th>\n",
       "      <td>OH</td>\n",
       "      <td>total</td>\n",
       "      <td>2010</td>\n",
       "      <td>11545435.0</td>\n",
       "      <td>Ohio</td>\n",
       "      <td>OH</td>\n",
       "      <td>44828.0</td>\n",
       "      <td>257.549634</td>\n",
       "    </tr>\n",
       "    <tr>\n",
       "      <th>1733</th>\n",
       "      <td>OK</td>\n",
       "      <td>total</td>\n",
       "      <td>2010</td>\n",
       "      <td>3759263.0</td>\n",
       "      <td>Oklahoma</td>\n",
       "      <td>OK</td>\n",
       "      <td>69903.0</td>\n",
       "      <td>53.778278</td>\n",
       "    </tr>\n",
       "    <tr>\n",
       "      <th>1818</th>\n",
       "      <td>OR</td>\n",
       "      <td>total</td>\n",
       "      <td>2010</td>\n",
       "      <td>3837208.0</td>\n",
       "      <td>Oregon</td>\n",
       "      <td>OR</td>\n",
       "      <td>98386.0</td>\n",
       "      <td>39.001565</td>\n",
       "    </tr>\n",
       "    <tr>\n",
       "      <th>1829</th>\n",
       "      <td>PA</td>\n",
       "      <td>total</td>\n",
       "      <td>2010</td>\n",
       "      <td>12710472.0</td>\n",
       "      <td>Pennsylvania</td>\n",
       "      <td>PA</td>\n",
       "      <td>46058.0</td>\n",
       "      <td>275.966651</td>\n",
       "    </tr>\n",
       "    <tr>\n",
       "      <th>1914</th>\n",
       "      <td>RI</td>\n",
       "      <td>total</td>\n",
       "      <td>2010</td>\n",
       "      <td>1052669.0</td>\n",
       "      <td>Rhode Island</td>\n",
       "      <td>RI</td>\n",
       "      <td>1545.0</td>\n",
       "      <td>681.339159</td>\n",
       "    </tr>\n",
       "    <tr>\n",
       "      <th>1925</th>\n",
       "      <td>SC</td>\n",
       "      <td>total</td>\n",
       "      <td>2010</td>\n",
       "      <td>4636361.0</td>\n",
       "      <td>South Carolina</td>\n",
       "      <td>SC</td>\n",
       "      <td>32007.0</td>\n",
       "      <td>144.854594</td>\n",
       "    </tr>\n",
       "    <tr>\n",
       "      <th>2010</th>\n",
       "      <td>SD</td>\n",
       "      <td>total</td>\n",
       "      <td>2010</td>\n",
       "      <td>816211.0</td>\n",
       "      <td>South Dakota</td>\n",
       "      <td>SD</td>\n",
       "      <td>77121.0</td>\n",
       "      <td>10.583512</td>\n",
       "    </tr>\n",
       "    <tr>\n",
       "      <th>2021</th>\n",
       "      <td>TN</td>\n",
       "      <td>total</td>\n",
       "      <td>2010</td>\n",
       "      <td>6356683.0</td>\n",
       "      <td>Tennessee</td>\n",
       "      <td>TN</td>\n",
       "      <td>42146.0</td>\n",
       "      <td>150.825298</td>\n",
       "    </tr>\n",
       "    <tr>\n",
       "      <th>2106</th>\n",
       "      <td>TX</td>\n",
       "      <td>total</td>\n",
       "      <td>2010</td>\n",
       "      <td>25245178.0</td>\n",
       "      <td>Texas</td>\n",
       "      <td>TX</td>\n",
       "      <td>268601.0</td>\n",
       "      <td>93.987655</td>\n",
       "    </tr>\n",
       "    <tr>\n",
       "      <th>2117</th>\n",
       "      <td>UT</td>\n",
       "      <td>total</td>\n",
       "      <td>2010</td>\n",
       "      <td>2774424.0</td>\n",
       "      <td>Utah</td>\n",
       "      <td>UT</td>\n",
       "      <td>84904.0</td>\n",
       "      <td>32.677188</td>\n",
       "    </tr>\n",
       "    <tr>\n",
       "      <th>2202</th>\n",
       "      <td>VT</td>\n",
       "      <td>total</td>\n",
       "      <td>2010</td>\n",
       "      <td>625793.0</td>\n",
       "      <td>Vermont</td>\n",
       "      <td>VT</td>\n",
       "      <td>9615.0</td>\n",
       "      <td>65.085075</td>\n",
       "    </tr>\n",
       "    <tr>\n",
       "      <th>2213</th>\n",
       "      <td>VA</td>\n",
       "      <td>total</td>\n",
       "      <td>2010</td>\n",
       "      <td>8024417.0</td>\n",
       "      <td>Virginia</td>\n",
       "      <td>VA</td>\n",
       "      <td>42769.0</td>\n",
       "      <td>187.622273</td>\n",
       "    </tr>\n",
       "    <tr>\n",
       "      <th>2298</th>\n",
       "      <td>WA</td>\n",
       "      <td>total</td>\n",
       "      <td>2010</td>\n",
       "      <td>6742256.0</td>\n",
       "      <td>Washington</td>\n",
       "      <td>WA</td>\n",
       "      <td>71303.0</td>\n",
       "      <td>94.557817</td>\n",
       "    </tr>\n",
       "    <tr>\n",
       "      <th>2309</th>\n",
       "      <td>WV</td>\n",
       "      <td>total</td>\n",
       "      <td>2010</td>\n",
       "      <td>1854146.0</td>\n",
       "      <td>West Virginia</td>\n",
       "      <td>WV</td>\n",
       "      <td>24231.0</td>\n",
       "      <td>76.519582</td>\n",
       "    </tr>\n",
       "    <tr>\n",
       "      <th>2394</th>\n",
       "      <td>WI</td>\n",
       "      <td>total</td>\n",
       "      <td>2010</td>\n",
       "      <td>5689060.0</td>\n",
       "      <td>Wisconsin</td>\n",
       "      <td>WI</td>\n",
       "      <td>65503.0</td>\n",
       "      <td>86.851900</td>\n",
       "    </tr>\n",
       "    <tr>\n",
       "      <th>2405</th>\n",
       "      <td>WY</td>\n",
       "      <td>total</td>\n",
       "      <td>2010</td>\n",
       "      <td>564222.0</td>\n",
       "      <td>Wyoming</td>\n",
       "      <td>WY</td>\n",
       "      <td>97818.0</td>\n",
       "      <td>5.768079</td>\n",
       "    </tr>\n",
       "  </tbody>\n",
       "</table>\n",
       "</div>"
      ],
      "text/plain": [
       "     state/region   ages  year  population                 state abbreviation  \\\n",
       "3              AL  total  2010   4785570.0               Alabama           AL   \n",
       "91             AK  total  2010    713868.0                Alaska           AK   \n",
       "101            AZ  total  2010   6408790.0               Arizona           AZ   \n",
       "189            AR  total  2010   2922280.0              Arkansas           AR   \n",
       "197            CA  total  2010  37333601.0            California           CA   \n",
       "283            CO  total  2010   5048196.0              Colorado           CO   \n",
       "293            CT  total  2010   3579210.0           Connecticut           CT   \n",
       "379            DE  total  2010    899711.0              Delaware           DE   \n",
       "389            DC  total  2010    605125.0  District of Columbia           DC   \n",
       "475            FL  total  2010  18846054.0               Florida           FL   \n",
       "485            GA  total  2010   9713248.0               Georgia           GA   \n",
       "570            HI  total  2010   1363731.0                Hawaii           HI   \n",
       "581            ID  total  2010   1570718.0                 Idaho           ID   \n",
       "666            IL  total  2010  12839695.0              Illinois           IL   \n",
       "677            IN  total  2010   6489965.0               Indiana           IN   \n",
       "762            IA  total  2010   3050314.0                  Iowa           IA   \n",
       "773            KS  total  2010   2858910.0                Kansas           KS   \n",
       "858            KY  total  2010   4347698.0              Kentucky           KY   \n",
       "869            LA  total  2010   4545392.0             Louisiana           LA   \n",
       "954            ME  total  2010   1327366.0                 Maine           ME   \n",
       "965            MD  total  2010   5787193.0              Maryland           MD   \n",
       "1050           MA  total  2010   6563263.0         Massachusetts           MA   \n",
       "1061           MI  total  2010   9876149.0              Michigan           MI   \n",
       "1146           MN  total  2010   5310337.0             Minnesota           MN   \n",
       "1157           MS  total  2010   2970047.0           Mississippi           MS   \n",
       "1242           MO  total  2010   5996063.0              Missouri           MO   \n",
       "1253           MT  total  2010    990527.0               Montana           MT   \n",
       "1338           NE  total  2010   1829838.0              Nebraska           NE   \n",
       "1349           NV  total  2010   2703230.0                Nevada           NV   \n",
       "1434           NH  total  2010   1316614.0         New Hampshire           NH   \n",
       "1445           NJ  total  2010   8802707.0            New Jersey           NJ   \n",
       "1530           NM  total  2010   2064982.0            New Mexico           NM   \n",
       "1541           NY  total  2010  19398228.0              New York           NY   \n",
       "1626           NC  total  2010   9559533.0        North Carolina           NC   \n",
       "1637           ND  total  2010    674344.0          North Dakota           ND   \n",
       "1722           OH  total  2010  11545435.0                  Ohio           OH   \n",
       "1733           OK  total  2010   3759263.0              Oklahoma           OK   \n",
       "1818           OR  total  2010   3837208.0                Oregon           OR   \n",
       "1829           PA  total  2010  12710472.0          Pennsylvania           PA   \n",
       "1914           RI  total  2010   1052669.0          Rhode Island           RI   \n",
       "1925           SC  total  2010   4636361.0        South Carolina           SC   \n",
       "2010           SD  total  2010    816211.0          South Dakota           SD   \n",
       "2021           TN  total  2010   6356683.0             Tennessee           TN   \n",
       "2106           TX  total  2010  25245178.0                 Texas           TX   \n",
       "2117           UT  total  2010   2774424.0                  Utah           UT   \n",
       "2202           VT  total  2010    625793.0               Vermont           VT   \n",
       "2213           VA  total  2010   8024417.0              Virginia           VA   \n",
       "2298           WA  total  2010   6742256.0            Washington           WA   \n",
       "2309           WV  total  2010   1854146.0         West Virginia           WV   \n",
       "2394           WI  total  2010   5689060.0             Wisconsin           WI   \n",
       "2405           WY  total  2010    564222.0               Wyoming           WY   \n",
       "\n",
       "      area (sq. mi)      density  \n",
       "3           52423.0    91.287603  \n",
       "91         656425.0     1.087509  \n",
       "101        114006.0    56.214497  \n",
       "189         53182.0    54.948667  \n",
       "197        163707.0   228.051342  \n",
       "283        104100.0    48.493718  \n",
       "293          5544.0   645.600649  \n",
       "379          1954.0   460.445752  \n",
       "389            68.0  8898.897059  \n",
       "475         65758.0   286.597129  \n",
       "485         59441.0   163.409902  \n",
       "570         10932.0   124.746707  \n",
       "581         83574.0    18.794338  \n",
       "666         57918.0   221.687472  \n",
       "677         36420.0   178.197831  \n",
       "762         56276.0    54.202751  \n",
       "773         82282.0    34.745266  \n",
       "858         40411.0   107.586994  \n",
       "869         51843.0    87.676099  \n",
       "954         35387.0    37.509990  \n",
       "965         12407.0   466.445797  \n",
       "1050        10555.0   621.815538  \n",
       "1061        96810.0   102.015794  \n",
       "1146        86943.0    61.078373  \n",
       "1157        48434.0    61.321530  \n",
       "1242        69709.0    86.015622  \n",
       "1253       147046.0     6.736171  \n",
       "1338        77358.0    23.654153  \n",
       "1349       110567.0    24.448796  \n",
       "1434         9351.0   140.799273  \n",
       "1445         8722.0  1009.253268  \n",
       "1530       121593.0    16.982737  \n",
       "1541        54475.0   356.094135  \n",
       "1626        53821.0   177.617157  \n",
       "1637        70704.0     9.537565  \n",
       "1722        44828.0   257.549634  \n",
       "1733        69903.0    53.778278  \n",
       "1818        98386.0    39.001565  \n",
       "1829        46058.0   275.966651  \n",
       "1914         1545.0   681.339159  \n",
       "1925        32007.0   144.854594  \n",
       "2010        77121.0    10.583512  \n",
       "2021        42146.0   150.825298  \n",
       "2106       268601.0    93.987655  \n",
       "2117        84904.0    32.677188  \n",
       "2202         9615.0    65.085075  \n",
       "2213        42769.0   187.622273  \n",
       "2298        71303.0    94.557817  \n",
       "2309        24231.0    76.519582  \n",
       "2394        65503.0    86.851900  \n",
       "2405        97818.0     5.768079  "
      ]
     },
     "execution_count": 54,
     "metadata": {},
     "output_type": "execute_result"
    }
   ],
   "source": [
    "final[\"density\"] = final['population'] / final['area (sq. mi)']\n",
    "final.dropna(inplace=True)\n",
    "final"
   ]
  },
  {
   "cell_type": "code",
   "execution_count": 61,
   "metadata": {},
   "outputs": [
    {
     "data": {
      "application/vnd.plotly.v1+json": {
       "config": {
        "plotlyServerURL": "https://plot.ly"
       },
       "data": [
        {
         "alignmentgroup": "True",
         "hovertemplate": "state/region=%{x}<br>density=%{y}<extra></extra>",
         "legendgroup": "",
         "marker": {
          "color": "#636efa",
          "pattern": {
           "shape": ""
          }
         },
         "name": "",
         "offsetgroup": "",
         "orientation": "v",
         "showlegend": false,
         "textposition": "auto",
         "type": "bar",
         "x": [
          "DC",
          "NJ",
          "RI",
          "CT",
          "MA",
          "MD",
          "DE",
          "NY",
          "FL",
          "PA",
          "OH",
          "CA",
          "IL",
          "VA",
          "IN",
          "NC",
          "GA",
          "TN",
          "SC",
          "NH",
          "HI",
          "KY",
          "MI",
          "WA",
          "TX",
          "AL",
          "LA",
          "WI",
          "MO",
          "WV",
          "VT",
          "MS",
          "MN",
          "AZ",
          "AR",
          "IA",
          "OK",
          "CO",
          "OR",
          "ME",
          "KS",
          "UT",
          "NV",
          "NE",
          "ID",
          "NM",
          "SD",
          "ND",
          "MT",
          "WY",
          "AK"
         ],
         "xaxis": "x",
         "y": [
          8898.89705882353,
          1009.2532675991745,
          681.3391585760518,
          645.6006493506494,
          621.8155376598768,
          466.44579672765377,
          460.4457523029683,
          356.09413492427717,
          286.59712886644974,
          275.9666507447132,
          257.5496341572232,
          228.051341726377,
          221.68747194309196,
          187.62227314176155,
          178.19783086216364,
          177.61715687185298,
          163.40990225601857,
          150.82529777440325,
          144.85459430749523,
          140.7992728050476,
          124.7467069154775,
          107.58699364034545,
          102.01579382295218,
          94.55781664165603,
          93.98765455080212,
          91.28760276977663,
          87.67609899118493,
          86.85189991298108,
          86.01562208610079,
          76.51958235318394,
          65.08507540301612,
          61.321530329933516,
          61.078373187030586,
          56.214497482588634,
          54.94866684216464,
          54.20275072855213,
          53.77827847159635,
          48.49371757925072,
          39.00156526335048,
          37.50998954418289,
          34.745266279380665,
          32.677188353905585,
          24.44879575280147,
          23.65415341658264,
          18.79433795199464,
          16.982737493112268,
          10.58351162458993,
          9.537565059968319,
          6.736170994110687,
          5.768079494571551,
          1.087508854781582
         ],
         "yaxis": "y"
        }
       ],
       "layout": {
        "barmode": "relative",
        "legend": {
         "tracegroupgap": 0
        },
        "margin": {
         "t": 60
        },
        "template": {
         "data": {
          "bar": [
           {
            "error_x": {
             "color": "#2a3f5f"
            },
            "error_y": {
             "color": "#2a3f5f"
            },
            "marker": {
             "line": {
              "color": "#E5ECF6",
              "width": 0.5
             },
             "pattern": {
              "fillmode": "overlay",
              "size": 10,
              "solidity": 0.2
             }
            },
            "type": "bar"
           }
          ],
          "barpolar": [
           {
            "marker": {
             "line": {
              "color": "#E5ECF6",
              "width": 0.5
             },
             "pattern": {
              "fillmode": "overlay",
              "size": 10,
              "solidity": 0.2
             }
            },
            "type": "barpolar"
           }
          ],
          "carpet": [
           {
            "aaxis": {
             "endlinecolor": "#2a3f5f",
             "gridcolor": "white",
             "linecolor": "white",
             "minorgridcolor": "white",
             "startlinecolor": "#2a3f5f"
            },
            "baxis": {
             "endlinecolor": "#2a3f5f",
             "gridcolor": "white",
             "linecolor": "white",
             "minorgridcolor": "white",
             "startlinecolor": "#2a3f5f"
            },
            "type": "carpet"
           }
          ],
          "choropleth": [
           {
            "colorbar": {
             "outlinewidth": 0,
             "ticks": ""
            },
            "type": "choropleth"
           }
          ],
          "contour": [
           {
            "colorbar": {
             "outlinewidth": 0,
             "ticks": ""
            },
            "colorscale": [
             [
              0,
              "#0d0887"
             ],
             [
              0.1111111111111111,
              "#46039f"
             ],
             [
              0.2222222222222222,
              "#7201a8"
             ],
             [
              0.3333333333333333,
              "#9c179e"
             ],
             [
              0.4444444444444444,
              "#bd3786"
             ],
             [
              0.5555555555555556,
              "#d8576b"
             ],
             [
              0.6666666666666666,
              "#ed7953"
             ],
             [
              0.7777777777777778,
              "#fb9f3a"
             ],
             [
              0.8888888888888888,
              "#fdca26"
             ],
             [
              1,
              "#f0f921"
             ]
            ],
            "type": "contour"
           }
          ],
          "contourcarpet": [
           {
            "colorbar": {
             "outlinewidth": 0,
             "ticks": ""
            },
            "type": "contourcarpet"
           }
          ],
          "heatmap": [
           {
            "colorbar": {
             "outlinewidth": 0,
             "ticks": ""
            },
            "colorscale": [
             [
              0,
              "#0d0887"
             ],
             [
              0.1111111111111111,
              "#46039f"
             ],
             [
              0.2222222222222222,
              "#7201a8"
             ],
             [
              0.3333333333333333,
              "#9c179e"
             ],
             [
              0.4444444444444444,
              "#bd3786"
             ],
             [
              0.5555555555555556,
              "#d8576b"
             ],
             [
              0.6666666666666666,
              "#ed7953"
             ],
             [
              0.7777777777777778,
              "#fb9f3a"
             ],
             [
              0.8888888888888888,
              "#fdca26"
             ],
             [
              1,
              "#f0f921"
             ]
            ],
            "type": "heatmap"
           }
          ],
          "heatmapgl": [
           {
            "colorbar": {
             "outlinewidth": 0,
             "ticks": ""
            },
            "colorscale": [
             [
              0,
              "#0d0887"
             ],
             [
              0.1111111111111111,
              "#46039f"
             ],
             [
              0.2222222222222222,
              "#7201a8"
             ],
             [
              0.3333333333333333,
              "#9c179e"
             ],
             [
              0.4444444444444444,
              "#bd3786"
             ],
             [
              0.5555555555555556,
              "#d8576b"
             ],
             [
              0.6666666666666666,
              "#ed7953"
             ],
             [
              0.7777777777777778,
              "#fb9f3a"
             ],
             [
              0.8888888888888888,
              "#fdca26"
             ],
             [
              1,
              "#f0f921"
             ]
            ],
            "type": "heatmapgl"
           }
          ],
          "histogram": [
           {
            "marker": {
             "pattern": {
              "fillmode": "overlay",
              "size": 10,
              "solidity": 0.2
             }
            },
            "type": "histogram"
           }
          ],
          "histogram2d": [
           {
            "colorbar": {
             "outlinewidth": 0,
             "ticks": ""
            },
            "colorscale": [
             [
              0,
              "#0d0887"
             ],
             [
              0.1111111111111111,
              "#46039f"
             ],
             [
              0.2222222222222222,
              "#7201a8"
             ],
             [
              0.3333333333333333,
              "#9c179e"
             ],
             [
              0.4444444444444444,
              "#bd3786"
             ],
             [
              0.5555555555555556,
              "#d8576b"
             ],
             [
              0.6666666666666666,
              "#ed7953"
             ],
             [
              0.7777777777777778,
              "#fb9f3a"
             ],
             [
              0.8888888888888888,
              "#fdca26"
             ],
             [
              1,
              "#f0f921"
             ]
            ],
            "type": "histogram2d"
           }
          ],
          "histogram2dcontour": [
           {
            "colorbar": {
             "outlinewidth": 0,
             "ticks": ""
            },
            "colorscale": [
             [
              0,
              "#0d0887"
             ],
             [
              0.1111111111111111,
              "#46039f"
             ],
             [
              0.2222222222222222,
              "#7201a8"
             ],
             [
              0.3333333333333333,
              "#9c179e"
             ],
             [
              0.4444444444444444,
              "#bd3786"
             ],
             [
              0.5555555555555556,
              "#d8576b"
             ],
             [
              0.6666666666666666,
              "#ed7953"
             ],
             [
              0.7777777777777778,
              "#fb9f3a"
             ],
             [
              0.8888888888888888,
              "#fdca26"
             ],
             [
              1,
              "#f0f921"
             ]
            ],
            "type": "histogram2dcontour"
           }
          ],
          "mesh3d": [
           {
            "colorbar": {
             "outlinewidth": 0,
             "ticks": ""
            },
            "type": "mesh3d"
           }
          ],
          "parcoords": [
           {
            "line": {
             "colorbar": {
              "outlinewidth": 0,
              "ticks": ""
             }
            },
            "type": "parcoords"
           }
          ],
          "pie": [
           {
            "automargin": true,
            "type": "pie"
           }
          ],
          "scatter": [
           {
            "fillpattern": {
             "fillmode": "overlay",
             "size": 10,
             "solidity": 0.2
            },
            "type": "scatter"
           }
          ],
          "scatter3d": [
           {
            "line": {
             "colorbar": {
              "outlinewidth": 0,
              "ticks": ""
             }
            },
            "marker": {
             "colorbar": {
              "outlinewidth": 0,
              "ticks": ""
             }
            },
            "type": "scatter3d"
           }
          ],
          "scattercarpet": [
           {
            "marker": {
             "colorbar": {
              "outlinewidth": 0,
              "ticks": ""
             }
            },
            "type": "scattercarpet"
           }
          ],
          "scattergeo": [
           {
            "marker": {
             "colorbar": {
              "outlinewidth": 0,
              "ticks": ""
             }
            },
            "type": "scattergeo"
           }
          ],
          "scattergl": [
           {
            "marker": {
             "colorbar": {
              "outlinewidth": 0,
              "ticks": ""
             }
            },
            "type": "scattergl"
           }
          ],
          "scattermapbox": [
           {
            "marker": {
             "colorbar": {
              "outlinewidth": 0,
              "ticks": ""
             }
            },
            "type": "scattermapbox"
           }
          ],
          "scatterpolar": [
           {
            "marker": {
             "colorbar": {
              "outlinewidth": 0,
              "ticks": ""
             }
            },
            "type": "scatterpolar"
           }
          ],
          "scatterpolargl": [
           {
            "marker": {
             "colorbar": {
              "outlinewidth": 0,
              "ticks": ""
             }
            },
            "type": "scatterpolargl"
           }
          ],
          "scatterternary": [
           {
            "marker": {
             "colorbar": {
              "outlinewidth": 0,
              "ticks": ""
             }
            },
            "type": "scatterternary"
           }
          ],
          "surface": [
           {
            "colorbar": {
             "outlinewidth": 0,
             "ticks": ""
            },
            "colorscale": [
             [
              0,
              "#0d0887"
             ],
             [
              0.1111111111111111,
              "#46039f"
             ],
             [
              0.2222222222222222,
              "#7201a8"
             ],
             [
              0.3333333333333333,
              "#9c179e"
             ],
             [
              0.4444444444444444,
              "#bd3786"
             ],
             [
              0.5555555555555556,
              "#d8576b"
             ],
             [
              0.6666666666666666,
              "#ed7953"
             ],
             [
              0.7777777777777778,
              "#fb9f3a"
             ],
             [
              0.8888888888888888,
              "#fdca26"
             ],
             [
              1,
              "#f0f921"
             ]
            ],
            "type": "surface"
           }
          ],
          "table": [
           {
            "cells": {
             "fill": {
              "color": "#EBF0F8"
             },
             "line": {
              "color": "white"
             }
            },
            "header": {
             "fill": {
              "color": "#C8D4E3"
             },
             "line": {
              "color": "white"
             }
            },
            "type": "table"
           }
          ]
         },
         "layout": {
          "annotationdefaults": {
           "arrowcolor": "#2a3f5f",
           "arrowhead": 0,
           "arrowwidth": 1
          },
          "autotypenumbers": "strict",
          "coloraxis": {
           "colorbar": {
            "outlinewidth": 0,
            "ticks": ""
           }
          },
          "colorscale": {
           "diverging": [
            [
             0,
             "#8e0152"
            ],
            [
             0.1,
             "#c51b7d"
            ],
            [
             0.2,
             "#de77ae"
            ],
            [
             0.3,
             "#f1b6da"
            ],
            [
             0.4,
             "#fde0ef"
            ],
            [
             0.5,
             "#f7f7f7"
            ],
            [
             0.6,
             "#e6f5d0"
            ],
            [
             0.7,
             "#b8e186"
            ],
            [
             0.8,
             "#7fbc41"
            ],
            [
             0.9,
             "#4d9221"
            ],
            [
             1,
             "#276419"
            ]
           ],
           "sequential": [
            [
             0,
             "#0d0887"
            ],
            [
             0.1111111111111111,
             "#46039f"
            ],
            [
             0.2222222222222222,
             "#7201a8"
            ],
            [
             0.3333333333333333,
             "#9c179e"
            ],
            [
             0.4444444444444444,
             "#bd3786"
            ],
            [
             0.5555555555555556,
             "#d8576b"
            ],
            [
             0.6666666666666666,
             "#ed7953"
            ],
            [
             0.7777777777777778,
             "#fb9f3a"
            ],
            [
             0.8888888888888888,
             "#fdca26"
            ],
            [
             1,
             "#f0f921"
            ]
           ],
           "sequentialminus": [
            [
             0,
             "#0d0887"
            ],
            [
             0.1111111111111111,
             "#46039f"
            ],
            [
             0.2222222222222222,
             "#7201a8"
            ],
            [
             0.3333333333333333,
             "#9c179e"
            ],
            [
             0.4444444444444444,
             "#bd3786"
            ],
            [
             0.5555555555555556,
             "#d8576b"
            ],
            [
             0.6666666666666666,
             "#ed7953"
            ],
            [
             0.7777777777777778,
             "#fb9f3a"
            ],
            [
             0.8888888888888888,
             "#fdca26"
            ],
            [
             1,
             "#f0f921"
            ]
           ]
          },
          "colorway": [
           "#636efa",
           "#EF553B",
           "#00cc96",
           "#ab63fa",
           "#FFA15A",
           "#19d3f3",
           "#FF6692",
           "#B6E880",
           "#FF97FF",
           "#FECB52"
          ],
          "font": {
           "color": "#2a3f5f"
          },
          "geo": {
           "bgcolor": "white",
           "lakecolor": "white",
           "landcolor": "#E5ECF6",
           "showlakes": true,
           "showland": true,
           "subunitcolor": "white"
          },
          "hoverlabel": {
           "align": "left"
          },
          "hovermode": "closest",
          "mapbox": {
           "style": "light"
          },
          "paper_bgcolor": "white",
          "plot_bgcolor": "#E5ECF6",
          "polar": {
           "angularaxis": {
            "gridcolor": "white",
            "linecolor": "white",
            "ticks": ""
           },
           "bgcolor": "#E5ECF6",
           "radialaxis": {
            "gridcolor": "white",
            "linecolor": "white",
            "ticks": ""
           }
          },
          "scene": {
           "xaxis": {
            "backgroundcolor": "#E5ECF6",
            "gridcolor": "white",
            "gridwidth": 2,
            "linecolor": "white",
            "showbackground": true,
            "ticks": "",
            "zerolinecolor": "white"
           },
           "yaxis": {
            "backgroundcolor": "#E5ECF6",
            "gridcolor": "white",
            "gridwidth": 2,
            "linecolor": "white",
            "showbackground": true,
            "ticks": "",
            "zerolinecolor": "white"
           },
           "zaxis": {
            "backgroundcolor": "#E5ECF6",
            "gridcolor": "white",
            "gridwidth": 2,
            "linecolor": "white",
            "showbackground": true,
            "ticks": "",
            "zerolinecolor": "white"
           }
          },
          "shapedefaults": {
           "line": {
            "color": "#2a3f5f"
           }
          },
          "ternary": {
           "aaxis": {
            "gridcolor": "white",
            "linecolor": "white",
            "ticks": ""
           },
           "baxis": {
            "gridcolor": "white",
            "linecolor": "white",
            "ticks": ""
           },
           "bgcolor": "#E5ECF6",
           "caxis": {
            "gridcolor": "white",
            "linecolor": "white",
            "ticks": ""
           }
          },
          "title": {
           "x": 0.05
          },
          "xaxis": {
           "automargin": true,
           "gridcolor": "white",
           "linecolor": "white",
           "ticks": "",
           "title": {
            "standoff": 15
           },
           "zerolinecolor": "white",
           "zerolinewidth": 2
          },
          "yaxis": {
           "automargin": true,
           "gridcolor": "white",
           "linecolor": "white",
           "ticks": "",
           "title": {
            "standoff": 15
           },
           "zerolinecolor": "white",
           "zerolinewidth": 2
          }
         }
        },
        "xaxis": {
         "anchor": "y",
         "domain": [
          0,
          1
         ],
         "title": {
          "text": "state/region"
         }
        },
        "yaxis": {
         "anchor": "x",
         "domain": [
          0,
          1
         ],
         "title": {
          "text": "density"
         }
        }
       }
      }
     },
     "metadata": {},
     "output_type": "display_data"
    }
   ],
   "source": [
    "import plotly.express as px\n",
    "final = final.sort_values('density', ascending=False)\n",
    "fig = px.bar(final, x='state/region', y='density')\n",
    "fig.show()"
   ]
  },
  {
   "attachments": {},
   "cell_type": "markdown",
   "metadata": {},
   "source": [
    "## 課題3\n",
    "\n",
    "```state/region```、```ages```と```years```でデータフレームをグループして、各グループで$\\frac{population}{area (sq. mi)}$の形で人口密度を計算してください。"
   ]
  },
  {
   "cell_type": "code",
   "execution_count": 7,
   "metadata": {},
   "outputs": [
    {
     "data": {
      "text/html": [
       "<div>\n",
       "<style scoped>\n",
       "    .dataframe tbody tr th:only-of-type {\n",
       "        vertical-align: middle;\n",
       "    }\n",
       "\n",
       "    .dataframe tbody tr th {\n",
       "        vertical-align: top;\n",
       "    }\n",
       "\n",
       "    .dataframe thead th {\n",
       "        text-align: right;\n",
       "    }\n",
       "</style>\n",
       "<table border=\"1\" class=\"dataframe\">\n",
       "  <thead>\n",
       "    <tr style=\"text-align: right;\">\n",
       "      <th></th>\n",
       "      <th>state/region</th>\n",
       "      <th>ages</th>\n",
       "      <th>year</th>\n",
       "      <th>population</th>\n",
       "      <th>state</th>\n",
       "      <th>area (sq. mi)</th>\n",
       "      <th>density</th>\n",
       "    </tr>\n",
       "  </thead>\n",
       "  <tbody>\n",
       "    <tr>\n",
       "      <th>0</th>\n",
       "      <td>AL</td>\n",
       "      <td>under18</td>\n",
       "      <td>2012</td>\n",
       "      <td>1117489.0</td>\n",
       "      <td>Alabama</td>\n",
       "      <td>52423.0</td>\n",
       "      <td>21.316769</td>\n",
       "    </tr>\n",
       "    <tr>\n",
       "      <th>1</th>\n",
       "      <td>AL</td>\n",
       "      <td>total</td>\n",
       "      <td>2012</td>\n",
       "      <td>4817528.0</td>\n",
       "      <td>Alabama</td>\n",
       "      <td>52423.0</td>\n",
       "      <td>91.897221</td>\n",
       "    </tr>\n",
       "    <tr>\n",
       "      <th>2</th>\n",
       "      <td>AL</td>\n",
       "      <td>under18</td>\n",
       "      <td>2010</td>\n",
       "      <td>1130966.0</td>\n",
       "      <td>Alabama</td>\n",
       "      <td>52423.0</td>\n",
       "      <td>21.573851</td>\n",
       "    </tr>\n",
       "    <tr>\n",
       "      <th>3</th>\n",
       "      <td>AL</td>\n",
       "      <td>total</td>\n",
       "      <td>2010</td>\n",
       "      <td>4785570.0</td>\n",
       "      <td>Alabama</td>\n",
       "      <td>52423.0</td>\n",
       "      <td>91.287603</td>\n",
       "    </tr>\n",
       "    <tr>\n",
       "      <th>4</th>\n",
       "      <td>AL</td>\n",
       "      <td>under18</td>\n",
       "      <td>2011</td>\n",
       "      <td>1125763.0</td>\n",
       "      <td>Alabama</td>\n",
       "      <td>52423.0</td>\n",
       "      <td>21.474601</td>\n",
       "    </tr>\n",
       "    <tr>\n",
       "      <th>...</th>\n",
       "      <td>...</td>\n",
       "      <td>...</td>\n",
       "      <td>...</td>\n",
       "      <td>...</td>\n",
       "      <td>...</td>\n",
       "      <td>...</td>\n",
       "      <td>...</td>\n",
       "    </tr>\n",
       "    <tr>\n",
       "      <th>2539</th>\n",
       "      <td>USA</td>\n",
       "      <td>total</td>\n",
       "      <td>2010</td>\n",
       "      <td>309326295.0</td>\n",
       "      <td>NaN</td>\n",
       "      <td>NaN</td>\n",
       "      <td>NaN</td>\n",
       "    </tr>\n",
       "    <tr>\n",
       "      <th>2540</th>\n",
       "      <td>USA</td>\n",
       "      <td>under18</td>\n",
       "      <td>2011</td>\n",
       "      <td>73902222.0</td>\n",
       "      <td>NaN</td>\n",
       "      <td>NaN</td>\n",
       "      <td>NaN</td>\n",
       "    </tr>\n",
       "    <tr>\n",
       "      <th>2541</th>\n",
       "      <td>USA</td>\n",
       "      <td>total</td>\n",
       "      <td>2011</td>\n",
       "      <td>311582564.0</td>\n",
       "      <td>NaN</td>\n",
       "      <td>NaN</td>\n",
       "      <td>NaN</td>\n",
       "    </tr>\n",
       "    <tr>\n",
       "      <th>2542</th>\n",
       "      <td>USA</td>\n",
       "      <td>under18</td>\n",
       "      <td>2012</td>\n",
       "      <td>73708179.0</td>\n",
       "      <td>NaN</td>\n",
       "      <td>NaN</td>\n",
       "      <td>NaN</td>\n",
       "    </tr>\n",
       "    <tr>\n",
       "      <th>2543</th>\n",
       "      <td>USA</td>\n",
       "      <td>total</td>\n",
       "      <td>2012</td>\n",
       "      <td>313873685.0</td>\n",
       "      <td>NaN</td>\n",
       "      <td>NaN</td>\n",
       "      <td>NaN</td>\n",
       "    </tr>\n",
       "  </tbody>\n",
       "</table>\n",
       "<p>2544 rows × 7 columns</p>\n",
       "</div>"
      ],
      "text/plain": [
       "     state/region     ages  year   population    state  area (sq. mi)  \\\n",
       "0              AL  under18  2012    1117489.0  Alabama        52423.0   \n",
       "1              AL    total  2012    4817528.0  Alabama        52423.0   \n",
       "2              AL  under18  2010    1130966.0  Alabama        52423.0   \n",
       "3              AL    total  2010    4785570.0  Alabama        52423.0   \n",
       "4              AL  under18  2011    1125763.0  Alabama        52423.0   \n",
       "...           ...      ...   ...          ...      ...            ...   \n",
       "2539          USA    total  2010  309326295.0      NaN            NaN   \n",
       "2540          USA  under18  2011   73902222.0      NaN            NaN   \n",
       "2541          USA    total  2011  311582564.0      NaN            NaN   \n",
       "2542          USA  under18  2012   73708179.0      NaN            NaN   \n",
       "2543          USA    total  2012  313873685.0      NaN            NaN   \n",
       "\n",
       "        density  \n",
       "0     21.316769  \n",
       "1     91.897221  \n",
       "2     21.573851  \n",
       "3     91.287603  \n",
       "4     21.474601  \n",
       "...         ...  \n",
       "2539        NaN  \n",
       "2540        NaN  \n",
       "2541        NaN  \n",
       "2542        NaN  \n",
       "2543        NaN  \n",
       "\n",
       "[2544 rows x 7 columns]"
      ]
     },
     "execution_count": 7,
     "metadata": {},
     "output_type": "execute_result"
    }
   ],
   "source": [
    "final"
   ]
  },
  {
   "cell_type": "code",
   "execution_count": 8,
   "metadata": {},
   "outputs": [],
   "source": [
    "final_group=final.groupby([\"state\",\"ages\",\"year\"]).agg({\"population\":\"sum\",\"area (sq. mi)\":\"mean\"}).reset_index()"
   ]
  },
  {
   "cell_type": "code",
   "execution_count": 9,
   "metadata": {},
   "outputs": [],
   "source": [
    "final_group[\"density\"] = final_group['population'] / final_group['area (sq. mi)']"
   ]
  },
  {
   "cell_type": "code",
   "execution_count": 10,
   "metadata": {},
   "outputs": [
    {
     "data": {
      "text/plain": [
       "array(['Alabama', 'Alaska', 'Arizona', 'Arkansas', 'California',\n",
       "       'Colorado', 'Connecticut', 'Delaware', 'District of Columbia',\n",
       "       'Florida', 'Georgia', 'Hawaii', 'Idaho', 'Illinois', 'Indiana',\n",
       "       'Iowa', 'Kansas', 'Kentucky', 'Louisiana', 'Maine', 'Maryland',\n",
       "       'Massachusetts', 'Michigan', 'Minnesota', 'Mississippi',\n",
       "       'Missouri', 'Montana', 'Nebraska', 'Nevada', 'New Hampshire',\n",
       "       'New Jersey', 'New Mexico', 'New York', 'North Carolina',\n",
       "       'North Dakota', 'Ohio', 'Oklahoma', 'Oregon', 'Pennsylvania',\n",
       "       'Rhode Island', 'South Carolina', 'South Dakota', 'Tennessee',\n",
       "       'Texas', 'Utah', 'Vermont', 'Virginia', 'Washington',\n",
       "       'West Virginia', 'Wisconsin', 'Wyoming'], dtype=object)"
      ]
     },
     "execution_count": 10,
     "metadata": {},
     "output_type": "execute_result"
    }
   ],
   "source": [
    "final_group['state'].unique()"
   ]
  },
  {
   "cell_type": "code",
   "execution_count": 13,
   "metadata": {},
   "outputs": [
    {
     "data": {
      "image/png": "[encoded data removed]",
      "text/plain": [
       "<Figure size 1200x1800 with 50 Axes>"
      ]
     },
     "metadata": {},
     "output_type": "display_data"
    }
   ],
   "source": [
    "import pandas as pd\n",
    "import matplotlib.pyplot as plt\n",
    "import numpy as np\n",
    "import scienceplots\n",
    "\n",
    "plt.style.use(['science','no-latex'])\n",
    "\n",
    "# Get the unique states\n",
    "states = list(final_group['state'].unique())\n",
    "states.remove('District of Columbia')\n",
    "\n",
    "# Calculate the number of rows and columns for the grid layout\n",
    "num_rows = min(10, len(states))\n",
    "num_cols = min(6, (len(states) - 1) // 10 + 1)\n",
    "\n",
    "# Create the figure and axes for the grid layout\n",
    "fig, axes = plt.subplots(nrows=num_rows, ncols=num_cols, figsize=(12, 18), sharex=True, sharey=True)\n",
    "\n",
    "# Flatten the axes array\n",
    "axes = axes.flatten()\n",
    "\n",
    "# Iterate over each state and plot the density changes by year for each age group\n",
    "for i, state in enumerate(states):\n",
    "    ax = axes[i]\n",
    "    state_data = final_group.loc[final_group[\"state\"]==state]\n",
    "    age_groups = state_data[\"ages\"].unique()\n",
    "    for age_group in age_groups:\n",
    "        ax.plot(state_data.loc[state_data[\"ages\"]==age_group,\"year\"], state_data.loc[state_data[\"ages\"]==age_group,\"density\"], label=age_group,marker='o', markersize=1)\n",
    "    ax.set_ylabel('Density')\n",
    "    ax.set_title('State: {}'.format(state))\n",
    "    ax.legend()\n",
    "    ax.grid(True)\n",
    "\n",
    "\n",
    "# Adjust the spacing between subplots\n",
    "plt.tight_layout()\n",
    "\n",
    "# Show the plot\n",
    "plt.show()"
   ]
  },
  {
   "cell_type": "code",
   "execution_count": null,
   "metadata": {},
   "outputs": [],
   "source": []
  }
 ],
 "metadata": {
  "kernelspec": {
   "display_name": "base",
   "language": "python",
   "name": "python3"
  },
  "language_info": {
   "codemirror_mode": {
    "name": "ipython",
    "version": 3
   },
   "file_extension": ".py",
   "mimetype": "text/x-python",
   "name": "python",
   "nbconvert_exporter": "python",
   "pygments_lexer": "ipython3",
   "version": "3.10.9"
  },
  "orig_nbformat": 4
 },
 "nbformat": 4,
 "nbformat_minor": 2
}
